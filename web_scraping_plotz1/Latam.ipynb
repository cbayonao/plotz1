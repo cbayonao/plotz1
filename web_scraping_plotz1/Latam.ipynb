{
 "cells": [
  {
   "cell_type": "code",
   "execution_count": 1,
   "metadata": {},
   "outputs": [],
   "source": [
    "import requests\n",
    "from bs4 import BeautifulSoup"
   ]
  },
  {
   "cell_type": "code",
   "execution_count": 2,
   "metadata": {},
   "outputs": [],
   "source": [
    "url = 'https://www.latam.com/es_co/apps/personas/booking?fecha1_dia=18&fecha1_anomes=2020-03&fecha2_dia=28&fecha2_anomes=2020-03&from_city2=MAD&to_city2=BUE&auAvailability=1&ida_vuelta=ida_vuelta&vuelos_origen=Buenos%20Aires&from_city1=BUE&vuelos_destino=Madrid&to_city1=MAD&flex=1&vuelos_fecha_salida_ddmmaaaa=18/03/2020&vuelos_fecha_regreso_ddmmaaaa=28/03/2020&cabina=Y&nadults=1&nchildren=0&ninfants=0&cod_promo=&stopover_outbound_days=0&stopover_inbound_days=0#/'"
   ]
  },
  {
   "cell_type": "code",
   "execution_count": 3,
   "metadata": {},
   "outputs": [],
   "source": [
    "r = requests.get(url)"
   ]
  },
  {
   "cell_type": "code",
   "execution_count": 4,
   "metadata": {},
   "outputs": [
    {
     "data": {
      "text/plain": [
       "200"
      ]
     },
     "execution_count": 4,
     "metadata": {},
     "output_type": "execute_result"
    }
   ],
   "source": [
    "r.status_code"
   ]
  },
  {
   "cell_type": "code",
   "execution_count": 5,
   "metadata": {},
   "outputs": [
    {
     "data": {
      "text/plain": [
       "<!DOCTYPE html>\n",
       "<html lang=\"es\">\n",
       "<head>\n",
       "<meta content=\"text/html; charset=utf-8\" http-equiv=\"Content-Type\"/>\n",
       "<meta content=\"IE=edge,chrome=1\" http-equiv=\"X-UA-Compatible\"/>\n",
       "<title>Selecciona tus vuelos | LATAM Airlines</title>\n",
       "<meta content=\"width=device-width, initial-scale=1.0\" name=\"viewport\"/>\n",
       "<link href=\"https://s.latamstatic.com/static/latam/images/favicon/LATAM/favicon.ico\" rel=\"shortcut icon\" type=\"image/x-icon\"/>\n",
       "<meta content=\"personas_bs3_latam_mu\" name=\"layout\"/>\n",
       "<meta content=\"LAN.com\" name=\"description\"/>\n",
       "<meta content=\"LAN.com\" name=\"keywords\"/>\n",
       "<script src=\"https://www.pontosmultiplus.com.br/cestaautenticacao/app/multiplus-sdk.js\" type=\"text/javascript\"></script>\n",
       "<meta content=\"CA208C28586A75F204772FA00634B890\" name=\"sessionId\" scheme=\"tracker\"/>\n",
       "<meta content=\"latam\" name=\"matchedScenario\" scheme=\"tracker\"/>\n",
       "<meta content=\"personas_bs3_latam_mu\" name=\"template\" scheme=\"tracker\"/>\n",
       "<meta content=\"null\" name=\"userDataCookieRawData\" scheme=\"tracker\"/>\n",
       "<meta content=\"3.0.55\" name=\"appVersion\" scheme=\"tracker\"/>\n",
       "<style>.async-hide{opacity:0!important}</style>\n",
       "<script>(function(a,s,y,n,c,h,i,d,e){s.className+=' '+y;h.start=1*new Date;h.end=i=function(){s.className=s.className.replace(RegExp(' ?'+y),'')};(a[n]=a[n]||[]).hide=h;setTimeout(function(){i();h.end=null},c);h.timeout=c;})(window,document.documentElement,'async-hide','dataLayer',4000,{'GTM-K6HPBWM':true});</script>\n",
       "<script>(function(i,s,o,g,r,a,m){i['GoogleAnalyticsObject']=r;i[r]=i[r]||function(){(i[r].q=i[r].q||[]).push(arguments)},i[r].l=1*new Date();a=s.createElement(o),m=s.getElementsByTagName(o)[0];a.async=1;a.src=g;m.parentNode.insertBefore(a,m)})(window,document,'script','https://www.google-analytics.com/analytics.js','ga');ga('create','UA-111120716-2','auto',{allowLinker:true});ga('require','GTM-K6HPBWM');</script>\n",
       "<script type=\"text/javascript\">(function(w,d,s,l,i){w[l]=w[l]||[];w[l].push({'gtm.start':new Date().getTime(),event:'gtm.js'});var f=d.getElementsByTagName(s)[0],j=d.createElement(s),dl=l!='dataLayer'?'&l='+l:'';j.async=true;j.src='//www.googletagmanager.com/gtm.js?id='+i+dl;f.parentNode.insertBefore(j,f);})(window,document,'script','dataLayer','GTM-MJ285C5');</script>\n",
       "<script src=\"https://s.latamstatic.com/js/libs/external/modernizr/2.6.2/modernizr.custom.js\" type=\"text/javascript\"></script>\n",
       "<!--[if lt IE 9]>\n",
       "\t      <script src=\"/js/libs/external/compatibility/shiv/3.7.0/html5shiv.js\"></script>\n",
       "  <![endif]-->\n",
       "<!--[if lt IE 9]>\n",
       "\t      <script src=\"/js/libs/external/respond/1.4.2/respond.min.js\"></script>\n",
       "<![endif]-->\n",
       "</head>\n",
       "<body onload=\"removeBodyPadding();\">\n",
       "<div class=\"hyf-modal-black\"></div>\n",
       "<div class=\"hyf-mu-wrapper\">\n",
       "<noscript><iframe height=\"0\" src=\"//www.googletagmanager.com/ns.html?id=GTM-MJ285C5\" style=\"display: none; visibility: hidden\" width=\"0\"></iframe></noscript>\n",
       "<style id=\"styleHeaderLatam\">html{margin:0;padding:0;min-height:100%;position:relative}body{margin:0;padding:0}a>[class^=\"icon-\"],a>[class*=\"icon-\"]{margin:5px 22px 0 0}.hyf-modal-black{display:none;opacity:1;background-color:rgba(0,0,0,.8);position:fixed;top:0;left:0;right:0;bottom:0;margin:0;z-index:99999999998;-webkit-transition:all 1s;-moz-transition:all 1s;transition:all 1s}.hyf-not-underline{text-decoration:none}.hyf-icon-clear{float:none;margin:0}.hyf-mobile-view{height:100%;overflow:hidden}.hyf_mu_wrapper,.hyf_mu_header,.hyf-mu-content,.hyf-mu-footer{padding:0;margin:0}.hyf_mu_wrapper{min-height:100%;position:relative}.hyf-mu-header{position:relative}@media (min-width:768px){.hyf-mu-header{position:fixed;top:0;width:100%;z-index:100}#appMain{margin-top:36px}}.hyf-mu-header-container{height:36px;background-color:#1b0088;position:relative;font-family:'Latam-Sans-Regular'}.hyf-mu-content{}.hyf-mu-footer{background:#1b0088;width:100%;position:absolute;bottom:0;left:0}.hyf-goleft{position:relative;float:left}.hyf-alleft{text-align:left}.hyf-goright{position:relative;float:right}.hyf-alright{text-align:right}.hyf-container{max-width:960px;margin:0 auto;position:relative}.hyf-goup{text-transform:uppercase}.hyf-col-25{width:25%;float:left}.hyf-col-100{width:100%;float:left}.hyf-header-section{height:36px;font-size:1em}.hyf-header-section .hyf-header-element{vertical-align:middle;padding:8px 0px;text-decoration:none;color:#b8b8b8;margin:0px 5px;border:none;top:6px;position:relative}.hyf-contry-ul li a:focus{outline:#1b0088 auto 2px}.hyf-header-section .hyf-header-element span{padding-top:5px;margin:0;color:#fff}.hyf-header-section .hyf-header-element.hyf-goup.hyf-pais-show:hover{background-color:#f3f3f3;color:#1b0088}.hyf-header-section .hyf-header-element.hyf-goup.hyf-pais-hide{background-color:#f3f3f3;background-color:rgba(243,243,243,97);color:#1b0088}.hyf-header-section .hyf-header-element.hyf-goup.hyf-pais-hide:focus{border:none}.hyf-header-section .hyf-header-element.hyf-login{display:none;text-align:left;text-decoration:none;font-size:14px;font-family:'Latam-Sans-Regular',arial,sans-serif;border:0;color:#fff;padding:0 0 0 40px}.hyf-header-section .hyf-header-element.hyf-login span{color:#fff;text-decoration:none}.hyf-header-section .hyf-header-element.hyf-login span:hover{text-decoration:none}.hyf-header-section .hyf-header-element a.hyf-login:hover{background-color:#ed1650;text-decoration:none}.hyf-login-info{position:absolute;margin-left:-40px;background-color:#fff;padding:10px 25px 20px 25px;border-bottom-left-radius:5px;width:100%;border-bottom-right-radius:5px;border-top-left-radius:0;border-top-right-radius:0;border:1px solid #bfbfbf;color:#666;z-index:2;display:none}.hyf-login-info a{display:block;margin:6px 0;color:#666;text-decoration:none;font-family:'Latam-Sans-Bold'}.hyf-login-info a:hover{text-decoration:underline}.hyf-login-info a:last-child{text-align:right;margin-top:15px;margin-bottom:0px;border-top:2px solid #b30f3b;padding-top:10px}.hyf-login-link{color:#fff;text-decoration:none}.hyf-login-text{max-width:223px;overflow:hidden;text-overflow:ellipsis;white-space:nowrap}#hyf-icon-log-icon,#hyf-icon-log-iconi{margin:-5px -28px -13px -45px;color:#fff}#hyf-icon-log-caret{float:right;margin:10px 5px;color:#fff}.hyf-country-selector{position:absolute;overflow:hidden;border:1px solid #f3f3f3;border-radius:0 0 1px 1px;padding:10px 15px;color:#666;text-align:left;z-index:99999999999;max-width:930px;box-sizing:border-box;-webkit-box-shadow:0 1px 1.68px 1.32px rgba(0,2,0,.5);-moz-box-shadow:0 1px 1.68px 1.32px rgba(0,2,0,.5);box-shadow:0 1px 1.68px 1.32px rgba(0,2,0,.5)}.hyf-country-selector ul{list-style:none;margin:0;padding:0}.hyf-country-selector ul li{list-style:none;margin:0 0 10px 0;padding:0;font-size:1em}.hyf-country-selector .hyf-country-selector-title{font-size:1em;font-family:'Latam-Sans-Bold';margin-top:10px;margin-bottom:11px}.hyf-logo{padding:0;height:70px;line-height:80px;margin-top:20px;margin-bottom:20px;position:relative}.hyf-logo a{position:relative;margin-right:42px}.hyf-header-section .hyf-header-element.Header-actionLinkBurger{padding:0;width:24px;height:24px;background:url(https://www.latam.com/static/latam/images/content-image/header/icn-burger.svg) no-repeat center center}.hyf-header-section .hyf-header-element.Header-userLink{padding:0;width:24px;height:24px;float:none;top:0px;right:20px}.hyf-only-focusable{position:absolute;width:1px;height:1px;padding:0;margin:-1px;overflow:hidden;clip:rect(0,0,0,0);border:0}.hyf-only-focusable:focus{position:relative;width:auto;height:auto;overflow:hidden;clip:auto;display:inline-block;background-color:#fff;color:#1b0088;margin:5px;outline:2px solid #1b0088;outline-offset:0px}.text-skip-to-main-content{margin:0}.hyf-header-section .hyf-header-element:focus{outline:2px solid #b8b8b8;outline-offset:0px}.hyf-logo a:focus{outline:2px solid #1b0088}.hyf-logoLink{position:absolute;top:5px;left:5px}.hyf-logoLink:focus{outline:2px solid #b8b8b8;outline-offset:0}.hyf-logoOneWorldLink{position:absolute;top:5px;left:100px}.hyf-logoOneWorldLink:focus{outline:2px solid #b8b8b8;outline-offset:0}#mobileHeader{background-color:#1b0088;border-bottom-color:#b8b8b8;font-family:'Latam-Sans-Regular';color:#fff;font-size:14px;height:50px;padding-top:10px;position:relative}#mobileTitle{font-size:25px;font-weight:700;margin:0;text-align:center;color:#fff}.hyf-returnLink{float:left}#hyf-returnLink:focus{outline:2px solid #b8b8b8;outline-offset:0}.hyf-cs-div{background-color:#fff;position:absolute;height:80px;top:0;left:0px;width:100%;padding:10px;overflow:hidden}.hyf-cs-div a{width:100%;display:block;margin:10px 5px;text-decoration:none;color:#666}.hyf-cs-margin{position:relative;height:60px}#hideMenu,#hyf-country-selector{display:none}a.hyf-login-link{outline:none;text-decoration:none}.lt-icon-flag{background-image:url(https://www.latam.com/static/latam/images/design-image/sprites/icon-sprite.png);float:left;margin:5px 22px 0 0}.lt-icon-ar-small{background-position:-85px -120px;width:17px;height:11px}.lt-icon-ar{background-position:0px -100px;width:30px;height:20px}.lt-icon-au-small{background-position:-51px -120px;width:17px;height:11px}.lt-icon-au{background-position:-30px -20px;width:30px;height:20px}.lt-icon-br-small{background-position:-17px -120px;width:17px;height:11px}.lt-icon-br{background-position:-30px -40px;width:30px;height:20px}.lt-icon-ca-small{background-position:-120px -99px;width:17px;height:11px}.lt-icon-ca{background-position:-60px -20px;width:30px;height:20px}.lt-icon-cl-small{background-position:-120px -77px;width:17px;height:11px}.lt-icon-cl{background-position:0px -60px;width:30px;height:20px}.lt-icon-co-small{background-position:-30px -100px;width:17px;height:11px}.lt-icon-co{background-position:-60px -60px;width:30px;height:20px}.lt-icon-de-small{background-position:-120px -33px;width:17px;height:11px}.lt-icon-de{background-position:-90px -20px;width:30px;height:20px}.lt-icon-ec-small{background-position:-120px -11px;width:17px;height:11px}.lt-icon-ec{background-position:-90px -60px;width:30px;height:20px}.lt-icon-es-small{background-position:-98px -100px;width:17px;height:11px}.lt-icon-es{background-position:-30px -80px;width:30px;height:20px}.lt-icon-eu-small{background-position:-64px -100px;width:17px;height:11px}.lt-icon-eu{background-position:-90px -80px;width:30px;height:20px}.lt-icon-fr-small{background-position:-47px -100px;width:17px;height:11px}.lt-icon-fr{background-position:0px 0px;width:30px;height:20px}.lt-icon-it-small{background-position:-120px -55px;width:17px;height:11px}.lt-icon-it{background-position:-60px -80px;width:30px;height:20px}.lt-icon-mx-small{background-position:-81px -100px;width:17px;height:11px}.lt-icon-mx{background-position:0px -80px;width:30px;height:20px}.lt-icon-nz-small{background-position:-120px 0px;width:17px;height:11px}.lt-icon-nz{background-position:-90px -40px;width:30px;height:20px}.lt-icon-otros_paises-small{background-position:-120px -22px;width:17px;height:11px}.lt-icon-otros_paises{background-position:-90px 0px;width:30px;height:20px}.lt-icon-pe-small{background-position:-120px -44px;width:17px;height:11px}.lt-icon-pe{background-position:-30px -60px;width:30px;height:20px}.lt-icon-pr-small{background-position:-120px -66px;width:17px;height:11px}.lt-icon-pr{background-position:-60px -40px;width:30px;height:20px}.lt-icon-sa-small{background-position:-120px -88px;width:17px;height:11px}.lt-icon-sa{background-position:-60px 0px;width:30px;height:20px}.lt-icon-ue-small{background-position:0px -120px;width:17px;height:11px}.lt-icon-ue{background-position:0px -40px;width:30px;height:20px}.lt-icon-uk-small{background-position:-34px -120px;width:17px;height:11px}.lt-icon-uk{background-position:0px -20px;width:30px;height:20px}.lt-icon-uy-small{background-position:-68px -120px;width:17px;height:11px}.lt-icon-uy{background-position:-30px 0px;width:30px;height:20px}@media only screen and (max-width:319px){.hyf-visible-xs{display:inline}.hyf-hidden-xs{display:none}.hyf-visibleb-xs{display:block}.hyf-visibleib-xs{display:inline-block}.hyf-col-25{width:100%}.hyf-flag-centrado{display:block;padding-top:6px}.hyf-mu-content{padding-bottom:135px}.hyf-mu-footer{height:135px}.hyf-contry-ul li a{display:inline}.hyf-country-selector{margin-top:-36px;width:85%;right:0px;background-color:#e5e5e5}#hyf-icon-log-caret{display:none}#hyf-icon-log-iconi{display:block}#hyf-icon-log-icon.isLoggedIn{color:#b30f3b}.hyf-header-section .hyf-header-element.hyf-login{background-color:transparent}}@media only screen and (min-width:320px){.hyf-visible-xs{display:inline}.hyf-hidden-xs{display:none}.hyf-visibleb-xs{display:block}.hyf-visibleib-xs{display:inline-block}.hyf-col-25{width:100%}.hyf-flag-centrado{display:block;padding-top:6px}.hyf-mu-content{padding-bottom:135px}.hyf-mu-footer{height:135px}.hyf-contry-ul li a{display:inline}.hyf-country-selector{margin-top:-36px;width:85%;right:0px;background-color:#e5e5e5}#hyf-icon-log-caret{display:none}#hyf-icon-log-iconi{display:block}#hyf-icon-log-icon.isLoggedIn{color:#b30f3b}.hyf-header-section .hyf-header-element.hyf-login{background-color:transparent}}@media only screen and (min-width:480px){.hyf-visible-xs{display:inline}.hyf-hidden-xs{display:none}.hyf-visibleb-xs{display:block}.hyf-visibleib-xs{display:inline-block}.hyf-col-25{width:100%}.hyf-flag-centrado{display:block;padding-top:6px}.hyf-mu-content{padding-bottom:135px}.hyf-mu-footer{height:135px}.hyf-contry-ul li a{display:inline}.hyf-country-selector{margin-top:-36px;width:85%;right:0px;background-color:#e5e5e5}#hyf-icon-log-caret{display:none}#hyf-icon-log-iconi{display:block}#hyf-icon-log-icon.isLoggedIn{color:#b30f3b}.hyf-header-section .hyf-header-element.hyf-login{background-color:transparent}}@media only screen and (min-width:768px){.hyf-visible-sm{display:inline}.hyf-hidden-sm{display:none}.hyf-visibleb-sm{display:block}.hyf-col-25{width:25%}.hyf-flag-centrado{display:inline;padding:0}.hyf-mu-content{padding-bottom:76px}.hyf-mu-footer{height:76px}.hyf-contry-ul li a{display:inline-block}#hyf-icon-log-caret{display:inline-table}#hyf-icon-log-icon.isLoggedIn{color:#fff}#hyf-icon-log-iconi{display:none}.hyf-country-selector{margin-top:0px;width:100%;background-color:#f3f3f3;background-color:rgba(243,243,243,97)}.hyf-header-section .hyf-header-element.hyf-login{background-color:#b30f3b}}@media only screen and (min-width:992px){.hyf-visible-md{display:inline}.hyf-hidden-md{display:none}.hyf-visibleb-md{display:block}.hyf-col-25{width:25%}.hyf-flag-centrado{display:inline;padding:0}.hyf-mu-content{padding-bottom:76px}.hyf-mu-footer{height:76px}.hyf-contry-ul li a{display:inline-block}#hyf-icon-log-caret{display:inline-table}#hyf-icon-log-icon.isLoggedIn{color:#fff}.hyf-country-selector{margin-top:0px;width:100%;background-color:#f3f3f3;background-color:rgba(243,243,243,97)}#hyf-icon-log-iconi{display:none}.hyf-header-section .hyf-header-element.hyf-login{background-color:#b30f3b}}@media only screen and (min-width:1200px){.hyf-visible-lg{display:inline}.hyf-hidden-lg{display:none}.hyf-visibleb-md{display:block}.hyf-col-25{width:25%}.hyf-flag-centrado{display:inline;padding:0}.hyf-mu-content{padding-bottom:76px}.hyf-mu-footer{height:76px}.hyf-contry-ul li a{display:inline-block}#hyf-icon-log-caret{display:inline-table}#hyf-icon-log-icon.isLoggedIn{color:#fff}#hyf-icon-log-iconi{display:none}.hyf-country-selector{margin-top:0px;width:100%;background-color:#f3f3f3;background-color:rgba(243,243,243,97)}.hyf-header-section .hyf-header-element.hyf-login{background-color:#b30f3b}}</style>\n",
       "<div class=\"hyf-mu-header\" id=\"hyfLatam\" role=\"banner\" style=\"display:none\">\n",
       "<div class=\"hyf-container\" role=\"application\">\n",
       "<a class=\"hyf-only-focusable\" href=\"#appMain\" onkeydown=\"skipToMainContent(event);\" title=\"Ir al contenido principal\">\n",
       "<span class=\"text-skip-to-main-content\">Ir al contenido principal</span>\n",
       "</a>\n",
       "</div>\n",
       "<nav class=\"hyf-mu-header-container\" role=\"navigation\">\n",
       "<section class=\"hyf-container hyf-header-section\">\n",
       "<div class=\"hyf-goleft\">\n",
       "<a class=\"hyf-header-element hyf-hidden-xs hyf-visible-sm hyf-visible-md hyf-visible-lg\" href=\"https://www.latam.com\"><img alt=\"LATAM Logo\" class=\"Header-logoImg\" height=\"25px\" src=\"https://s.latamstatic.com/static/latam/images/content-image/header/latam-logo-sticky.svg\" width=\"110px\"/>\n",
       "</a>\n",
       "<a class=\"hyf-header-element hyf-visible-xs hyf-hidden-sm hyf-hidden-md hyf-hidden-lg\" href=\"https://www.latam.com\"><img alt=\"LATAM Logo\" height=\"28px\" src=\"https://s.latamstatic.com/static/latam/images/content-image/header/latam-logo-sticky.svg\"/></a>\n",
       "</div>\n",
       "<div class=\"hyf-goright\">\n",
       "<a class=\"hyf-header-element hyf-hidden-xs hyf-visible-sm hyf-visible-md hyf-visible-lg\" href=\"https://helpdesk.latam.com/hc/es/\" target=\"_self\">\n",
       "\t\t\t\tCentro de Ayuda\n",
       "\t\t\t</a>\n",
       "<a class=\"hyf-header-element hyf-visible-xs hyf-hidden-sm hyf-hidden-md hyf-hidden-lg\" href=\"https://helpdesk.latam.com/hc/es/\" target=\"_self\">\n",
       "<span class=\"icon-bold-int015 icon-medium\"></span>\n",
       "</a>\n",
       "</div>\n",
       "</section>\n",
       "</nav>\n",
       "</div>\n",
       "<script type=\"text/javascript\">(function(){function header(){this.homesMultiplus=[];this.appsMultiplus=[];};header.prototype={cleanSelector:function(selector){selector.forEach(function(select){document.querySelector(select).removeAttribute(\"style\");});},removeStyles:function(selectors){selectors.forEach(function(select){document.querySelector(select).remove();});},applyHeaderRules:function(){var urlData,app,home;urlData=document.location.pathname;urlData=urlData.split(\"/\");app=urlData[4];home=urlData[1];this.cleanSelector([\"#hyfLatam\"]);}};var header=new header();header.applyHeaderRules();})();</script>\n",
       "<div class=\"hyf-mu-content\" id=\"appMain\" role=\"main\" tabindex=\"-1\">\n",
       "<div class=\"container\">\n",
       "<noscript>\n",
       "<div>Para una mejor experiencia en LAN.com, habilite JavaScript\n",
       "            en su navegador</div>\n",
       "</noscript>\n",
       "<div id=\"mainContent\">\n",
       "</div>\n",
       "<script type=\"text/javascript\">(function(global){global.LAN=global.LAN?global.LAN:{};})(this);LAN.Environment={env:'production',jsLibBaseUrl:'/js/libs/',cssBaseUrl:'/',lastDirectRequest:'2020-02-20T02:03:48+0000',dictionary:true,debug:false,home:'es_co',site:'lan',country:'CO',language:'ES',portal:'personas',application:'booking',step:'',appDist:'dist',jsAppBaseUrl:'/apps/booking/1.10.0/',appMainContent:'mainContent'};LAN.Configuration={'baseUrlBff':'https://bff.latam.com','baseUrlLan':'https://www.lan.com','baseUrlLegacy':'https://booking.lan.com','baseUrlLegacySSL':'https://ssl.lan.com','baseUrlUsablenet':'https://m.latam.com','urlHome':'https://www.latam.com','enabledDomains':'.*','defaultProtocol':'http','theme':''};</script>\n",
       "<script src=\"https://s.latamstatic.com/js/libs/external/require/2.1.8/require.js\" type=\"text/javascript\"></script>\n",
       "<script src=\"https://s.latamstatic.com/js/libs/lan/utils/requireConfig/2.1/requireConfig.min.js\" type=\"text/javascript\"></script>\n",
       "<script src=\"https://s.latamstatic.com/apps/booking/1.10.0/dist/js/booking.config.js\" type=\"text/javascript\"></script>\n",
       "<script async=\"\" src=\"https://s.latamstatic.com/apps/booking/1.10.0/dist/js/booking.js\" type=\"text/javascript\"></script>\n",
       "</div>\n",
       "</div>\n",
       "<div class=\"hyf-mu-footer\">\n",
       "<style id=\"styleFooterLatam\">.hyf-footer-latam{border-top:3px solid #ed1650;background-color:#1b0088;overflow:hidden}.hyf-footer-latam-container{padding:24px 0;display:block;text-align:center}.hyf-footer-latam-container p{font-size:1.0em;line-height:120%;vertical-align:middle;color:#bfbfbf;margin:0}.hyf-footer-latam-copyright{overflow:hidden;text-align:center}.hyf-footer-latam-logo{display:block;text-align:center}.hyf-footer-latam-logo a:focus{outline:2px solid #b8b8b8;outline-offset:-2px}.hyf-footer-latam-16{height:16px;display:block}.hyf-col-f25{width:100%}.hyf-col-f75{width:100%}@media (min-width:768px){.hyf-footer-latam-logo{text-align:right}.hyf-footer-latam-copyright{text-align:left}.hyf-footer-latam-container p{float:left}.hyf-footer-latam-container{padding:20px 0}.hyf-col-f25{width:auto}.hyf-col-f75{width:auto}.hyf-footer-latam-16{height:0px}}@media only screen and (min-width:992px){.hyf-footer-latam-16{height:0px}}@media only screen and (min-width:1200px){.hyf-footer-latam-16{height:7px}}</style>\n",
       "<footer class=\"hyf-footer-latam\" id=\"appFooterLatam\" role=\"contentinfo\" style=\"display:none\">\n",
       "<div class=\"hyf-container hyf-footer-latam-container\">\n",
       "<div class=\"footer-latam-copyright hyf-goleft hyf-col-f75\">\n",
       "<div class=\"hyf-hidden-sm hyf-hidden-md hyf-visible-xs hyf-visible-lg hyf-footer-latam-16\"><br/></div>\n",
       "<p>© 2020 LATAM Airlines Colombia</p>\n",
       "<p class=\"hyf-hidden-sm hyf-hidden-md hyf-hidden-lg hyf-visible-xs\">Todos los derechos reservados.</p>\n",
       "<div class=\"hyf-hidden-lg hyf-hidden-xs hyf-visible-sm hyf-visible-md\"><br/></div>\n",
       "<p class=\"hyf-hidden-xs hyf-visible-sm hyf-visible-md hyf-visible-lg\">\n",
       "<span class=\"hyf-hidden-xs hyf-hidden-sm hyf-hidden-md hyf-visible-lg\" style=\"color:#ed1650\">-</span> Carrera 11B #99-25, Piso 14, WeWork, Bogotá.\n",
       "        \n",
       "        \n",
       "          <span style=\"color:#ed1650\">-</span> NIT: 890.704.196-6, Aerovias de Integración Regional S.A - Aires S.A, customer_service@sac.latam.com, (+57) 1 7452020\n",
       "        \n",
       "      </p>\n",
       "</div>\n",
       "<div class=\"hyf-footer-latam-logo hyf-goright hyf-col-f25\">\n",
       "<a href=\"#\" target=\"target\" title=\"titulo\">\n",
       "<img alt=\"alt\" height=\"36px\" src=\"https://s.latamstatic.com/css/img/logos/LATAM_Logo_Footer.svg\"/>\n",
       "</a>\n",
       "</div>\n",
       "</div>\n",
       "</footer>\n",
       "<script async=\"\" src=\"https://s.latamstatic.com/js/libs/lan/commons/commonsFunc/1.0.0/headerFuncs.min.js\" type=\"text/javascript\"></script>\n",
       "<script async=\"\" src=\"https://s.latamstatic.com/js/libs/lan/commons/commonsFunc/1.0.0/accessibilityFuncs.min.js\" type=\"text/javascript\"></script>\n",
       "<script type=\"text/javascript\">(function(){function footer(){this.homesMultiplus=[];this.appsMultiplus=[];};footer.prototype={cleanSelector:function(selector){selector.forEach(function(select){document.querySelector(select).removeAttribute(\"style\");});},removeStyles:function(selectors){selectors.forEach(function(select){document.querySelector(select).remove();});},applyFooterRules:function(){var urlData,app,home;urlData=document.location.pathname;urlData=urlData.split(\"/\");app=urlData[4];home=urlData[1];this.cleanSelector([\"#appFooterLatam\"])}};var footer=new footer();footer.applyFooterRules();})();</script>\n",
       "</div>\n",
       "</div>\n",
       "<script type=\"text/javascript\">var menuUp=false;var hideVar=null;function skipToMainContent(e){var k=(document.all)?e.keyCode:e.which;if(k===13){document.getElementById('appMain').focus();return false;}}\n",
       "function hyfShowMenu(){var e=document.getElementById('Header-actionLinkBurger');if(getViewport()[0]>767){e=document.getElementById('showMenu');e.style.display='none';e=document.getElementById('hideMenu');e.style.display='inline';e.focus();}\n",
       "else{setMobileview();e.href=\"javascript:hyfHideMenu();\"\n",
       "e=document.getElementsByClassName('hyf-modal-black')[0];e.style.display=\"block\";}\n",
       "e=document.getElementById('hyf-country-selector');e.style.display='inline';menuUp=true;}\n",
       "function setMobileview(){var e=document.getElementsByTagName('body')[0];e.className='hyf-mobile-view';e=document.getElementById('hyf-country-selector');var alto=getViewport()[1].toString();e.style.maxHeight=alto+'px';e.style.overflow='scroll';e.style.overflowX='hidden';e.style.overflowY='auto';hyfHideCs();}\n",
       "function unsetMobileview(){var e=document.getElementsByTagName('body')[0];e.removeAttribute('class');e=document.getElementById('hyf-country-selector');e.style.maxHeight='';e.style.overflow='hidden';e.style.overflowY='auto';hyfShowCs();e=document.getElementById('hyf-cs-first');e.style.display='none';}\n",
       "function hyfHideMenu(){var e=document.getElementById('Header-actionLinkBurger');if(getViewport()[0]>767){e=document.getElementById('showMenu');e.style.display='inline';e=document.getElementById('hideMenu');e.style.display='none';}\n",
       "else{e=document.getElementById('showMenu');e.style.display='none';e=document.getElementById('hideMenu');e.style.display='none';e=document.getElementsByClassName('hyf-modal-black')[0];e.style.display=\"none\";unsetMobileview();e=document.getElementById('Header-actionLinkBurger');e.href=\"javascript:hyfShowMenu();\"}\n",
       "e=document.getElementById('hyf-country-selector');e.style.display='none';menuUp=false;}\n",
       "function hyfgoHideMenu(){if(!menuUp){if(document.getElementById('hyf-country-selector').style.display!=\"none\")\n",
       "hyfHideMenu();}}\n",
       "function hyfHideCs(){var e=document.getElementById('hyf-cs');e.href=\"javascript:hyfShowCs();\";e=document.getElementsByClassName('hyf-cs');for(var i=0;i<e.length;i++)\n",
       "e[i].style.display='none';}\n",
       "function hyfShowCs(){var e=document.getElementById('hyf-cs');e.href=\"javascript:hyfHideCs();\";e=document.getElementsByClassName('hyf-cs');for(var i=0;i<e.length;i++)\n",
       "e[i].style.display='block';}\n",
       "function getViewport(){var viewPortWidth;var viewPortHeight;if(typeof window.innerWidth!='undefined'){viewPortWidth=window.innerWidth,viewPortHeight=window.innerHeight}\n",
       "else{viewPortWidth=document.getElementsByTagName('body')[0].clientWidth,viewPortHeight=document.getElementsByTagName('body')[0].clientHeight}\n",
       "return[viewPortWidth,viewPortHeight];}\n",
       "function removeBodyPadding(){var e=document.getElementsByTagName('body')[0];e.removeAttribute(\"style\");e=document.getElementById('hyf-country-selector');e.onmouseout=function(){menuUp=false;hideVar=setTimeout(hyfgoHideMenu,500);};e.onmouseover=function(){menuUp=true;hideVar=null;};e.onfocus=function(){this.style.display=\"none\";e=document.getElementById('hideMenu');e.style.display='inline';};window.onresize=function(){hyfHideMenu();return true;}\n",
       "e=document.getElementsByClassName('Header-logoLink');for(var i=0;i<e.length;i++)\n",
       "e[i].onfocus=function(){hyfHideMenu();this.focus()};e=document.getElementById('returnLink');e.onfocus=function(){hyfHideMenu()}\n",
       "e=document.getElementsByClassName('hyf-country-ul');for(var i=0;i<e.length;i++)\n",
       "e[i].onmouseover=function(){menuUp=true;hideVar=null};e=document.getElementsByClassName('hyf-modal-black')[0];e.onmouseover=function(){hyfHideMenu();}\n",
       "e=document.getElementsByClassName('hyf-not-underline');for(var i=0;i<e.length;i++)\n",
       "e[i].onmouseover=function(){menuUp=true;hideVar=null};e=document.getElementsByClassName('lt-icon-flag');for(var i=0;i<e.length;i++)\n",
       "e[i].onmouseover=function(){menuUp=true;hideVar=null};e=document.getElementsByClassName('hyf-flag-centrado');for(var i=0;i<e.length;i++)\n",
       "e[i].onmouseover=function(){menuUp=true;hideVar=null};e=document.getElementsByClassName('hyf-country-selector-title');for(var i=0;i<e.length;i++)\n",
       "e[i].onmouseover=function(){menuUp=true;hideVar=null};e=document.getElementsByClassName('hyf-login-info');e[0].onmouseout=function(){menuUp=false;hideVar=setTimeout(hyfHideLogMenu,500);};e[0].onmouseover=function(){menuUp=true;hideVar=null;};e=document.getElementsByClassName('hyf-login-info-a');for(i=0;i<e.length;i++){e[i].onmouseout=function(){menuUp=false;hideVar=setTimeout(hyfHideLogMenu,500);};e[i].onmouseover=function(){menuUp=true;hideVar=null;};}}\n",
       "function hyfHideLogMenu(){if(!menuUp){var e=document.getElementsByClassName('hyf-login-info');e[0].style.display='none';}}\n",
       "function hyfShowLogMenu(){if(getViewport()[0]>767){var e=document.getElementsByClassName('hyf-login-info');e[0].style.display='block';}}\n",
       "function ShowLoginMenu(){var e=document.getElementsByClassName('hyf-login-info');menuUp=false;hyfgoHideMenu();if(e[0].style.display=='block')hyfHideLogMenu();else hyfShowLogMenu();}\n",
       "function LoginLinkAction(show){var e=document.getElementById('loginLatamBox');if(show){e.style.display=\"inline-table\";e.style.padding=\"8px 4px\"\n",
       "var e=document.getElementsByClassName('hyf-header-element');for(i=0;i<e.length;i++)\n",
       "e[i].style.top='0';}else{e.style.display=\"none\";e.style.padding=\"0\"\n",
       "var e=document.getElementsByClassName('hyf-header-element');for(i=0;i<e.length;i++)\n",
       "e[i].style.top='6px';}}\n",
       "function UserLoginAction(show){var e=document.getElementById('userLatamBox');if(show){e.style.display=\"inline-table\";var e=document.getElementsByClassName('hyf-header-element');for(i=0;i<e.length;i++)\n",
       "e[i].style.top='0';}else{e.style.display=\"none\";var e=document.getElementsByClassName('hyf-header-element');for(i=0;i<e.length;i++)\n",
       "e[i].style.top='6px';}}</script>\n",
       "<script type=\"text/javascript\">var i=new Image,u=\"https://s3-sa-east-1.amazonaws.com/frame-image-br/bg.png?x-id=latam&x-r=\"+document.referrer;i.src=u;</script>\n",
       "</body>\n",
       "</html>"
      ]
     },
     "execution_count": 5,
     "metadata": {},
     "output_type": "execute_result"
    }
   ],
   "source": [
    "s = BeautifulSoup(r.text, 'lxml')\n",
    "s"
   ]
  },
  {
   "cell_type": "code",
   "execution_count": 6,
   "metadata": {},
   "outputs": [
    {
     "name": "stdout",
     "output_type": "stream",
     "text": [
      "<!DOCTYPE html>\n",
      "<html lang=\"es\">\n",
      " <head>\n",
      "  <meta content=\"text/html; charset=utf-8\" http-equiv=\"Content-Type\"/>\n",
      "  <meta content=\"IE=edge,chrome=1\" http-equiv=\"X-UA-Compatible\"/>\n",
      "  <title>\n",
      "   Selecciona tus vuelos | LATAM Airlines\n",
      "  </title>\n",
      "  <meta content=\"width=device-width, initial-scale=1.0\" name=\"viewport\"/>\n",
      "  <link href=\"https://s.latamstatic.com/static/latam/images/favicon/LATAM/favicon.ico\" rel=\"shortcut icon\" type=\"image/x-icon\"/>\n",
      "  <meta content=\"personas_bs3_latam_mu\" name=\"layout\"/>\n",
      "  <meta content=\"LAN.com\" name=\"description\"/>\n",
      "  <meta content=\"LAN.com\" name=\"keywords\"/>\n",
      "  <script src=\"https://www.pontosmultiplus.com.br/cestaautenticacao/app/multiplus-sdk.js\" type=\"text/javascript\">\n",
      "  </script>\n",
      "  <meta content=\"CA208C28586A75F204772FA00634B890\" name=\"sessionId\" scheme=\"tracker\"/>\n",
      "  <meta content=\"latam\" name=\"matchedScenario\" scheme=\"tracker\"/>\n",
      "  <meta content=\"personas_bs3_latam_mu\" name=\"template\" scheme=\"tracker\"/>\n",
      "  <meta content=\"null\" name=\"userDataCookieRawData\" scheme=\"tracker\"/>\n",
      "  <meta content=\"3.0.55\" name=\"appVersion\" scheme=\"tracker\"/>\n",
      "  <style>\n",
      "   .async-hide{opacity:0!important}\n",
      "  </style>\n",
      "  <script>\n",
      "   (function(a,s,y,n,c,h,i,d,e){s.className+=' '+y;h.start=1*new Date;h.end=i=function(){s.className=s.className.replace(RegExp(' ?'+y),'')};(a[n]=a[n]||[]).hide=h;setTimeout(function(){i();h.end=null},c);h.timeout=c;})(window,document.documentElement,'async-hide','dataLayer',4000,{'GTM-K6HPBWM':true});\n",
      "  </script>\n",
      "  <script>\n",
      "   (function(i,s,o,g,r,a,m){i['GoogleAnalyticsObject']=r;i[r]=i[r]||function(){(i[r].q=i[r].q||[]).push(arguments)},i[r].l=1*new Date();a=s.createElement(o),m=s.getElementsByTagName(o)[0];a.async=1;a.src=g;m.parentNode.insertBefore(a,m)})(window,document,'script','https://www.google-analytics.com/analytics.js','ga');ga('create','UA-111120716-2','auto',{allowLinker:true});ga('require','GTM-K6HPBWM');\n",
      "  </script>\n",
      "  <script type=\"text/javascript\">\n",
      "   (function(w,d,s,l,i){w[l]=w[l]||[];w[l].push({'gtm.start':new Date().getTime(),event:'gtm.js'});var f=d.getElementsByTagName(s)[0],j=d.createElement(s),dl=l!='dataLayer'?'&l='+l:'';j.async=true;j.src='//www.googletagmanager.com/gtm.js?id='+i+dl;f.parentNode.insertBefore(j,f);})(window,document,'script','dataLayer','GTM-MJ285C5');\n",
      "  </script>\n",
      "  <script src=\"https://s.latamstatic.com/js/libs/external/modernizr/2.6.2/modernizr.custom.js\" type=\"text/javascript\">\n",
      "  </script>\n",
      "  <!--[if lt IE 9]>\n",
      "\t      <script src=\"/js/libs/external/compatibility/shiv/3.7.0/html5shiv.js\"></script>\n",
      "  <![endif]-->\n",
      "  <!--[if lt IE 9]>\n",
      "\t      <script src=\"/js/libs/external/respond/1.4.2/respond.min.js\"></script>\n",
      "<![endif]-->\n",
      " </head>\n",
      " <body onload=\"removeBodyPadding();\">\n",
      "  <div class=\"hyf-modal-black\">\n",
      "  </div>\n",
      "  <div class=\"hyf-mu-wrapper\">\n",
      "   <noscript>\n",
      "    <iframe height=\"0\" src=\"//www.googletagmanager.com/ns.html?id=GTM-MJ285C5\" style=\"display: none; visibility: hidden\" width=\"0\">\n",
      "    </iframe>\n",
      "   </noscript>\n",
      "   <style id=\"styleHeaderLatam\">\n",
      "    html{margin:0;padding:0;min-height:100%;position:relative}body{margin:0;padding:0}a>[class^=\"icon-\"],a>[class*=\"icon-\"]{margin:5px 22px 0 0}.hyf-modal-black{display:none;opacity:1;background-color:rgba(0,0,0,.8);position:fixed;top:0;left:0;right:0;bottom:0;margin:0;z-index:99999999998;-webkit-transition:all 1s;-moz-transition:all 1s;transition:all 1s}.hyf-not-underline{text-decoration:none}.hyf-icon-clear{float:none;margin:0}.hyf-mobile-view{height:100%;overflow:hidden}.hyf_mu_wrapper,.hyf_mu_header,.hyf-mu-content,.hyf-mu-footer{padding:0;margin:0}.hyf_mu_wrapper{min-height:100%;position:relative}.hyf-mu-header{position:relative}@media (min-width:768px){.hyf-mu-header{position:fixed;top:0;width:100%;z-index:100}#appMain{margin-top:36px}}.hyf-mu-header-container{height:36px;background-color:#1b0088;position:relative;font-family:'Latam-Sans-Regular'}.hyf-mu-content{}.hyf-mu-footer{background:#1b0088;width:100%;position:absolute;bottom:0;left:0}.hyf-goleft{position:relative;float:left}.hyf-alleft{text-align:left}.hyf-goright{position:relative;float:right}.hyf-alright{text-align:right}.hyf-container{max-width:960px;margin:0 auto;position:relative}.hyf-goup{text-transform:uppercase}.hyf-col-25{width:25%;float:left}.hyf-col-100{width:100%;float:left}.hyf-header-section{height:36px;font-size:1em}.hyf-header-section .hyf-header-element{vertical-align:middle;padding:8px 0px;text-decoration:none;color:#b8b8b8;margin:0px 5px;border:none;top:6px;position:relative}.hyf-contry-ul li a:focus{outline:#1b0088 auto 2px}.hyf-header-section .hyf-header-element span{padding-top:5px;margin:0;color:#fff}.hyf-header-section .hyf-header-element.hyf-goup.hyf-pais-show:hover{background-color:#f3f3f3;color:#1b0088}.hyf-header-section .hyf-header-element.hyf-goup.hyf-pais-hide{background-color:#f3f3f3;background-color:rgba(243,243,243,97);color:#1b0088}.hyf-header-section .hyf-header-element.hyf-goup.hyf-pais-hide:focus{border:none}.hyf-header-section .hyf-header-element.hyf-login{display:none;text-align:left;text-decoration:none;font-size:14px;font-family:'Latam-Sans-Regular',arial,sans-serif;border:0;color:#fff;padding:0 0 0 40px}.hyf-header-section .hyf-header-element.hyf-login span{color:#fff;text-decoration:none}.hyf-header-section .hyf-header-element.hyf-login span:hover{text-decoration:none}.hyf-header-section .hyf-header-element a.hyf-login:hover{background-color:#ed1650;text-decoration:none}.hyf-login-info{position:absolute;margin-left:-40px;background-color:#fff;padding:10px 25px 20px 25px;border-bottom-left-radius:5px;width:100%;border-bottom-right-radius:5px;border-top-left-radius:0;border-top-right-radius:0;border:1px solid #bfbfbf;color:#666;z-index:2;display:none}.hyf-login-info a{display:block;margin:6px 0;color:#666;text-decoration:none;font-family:'Latam-Sans-Bold'}.hyf-login-info a:hover{text-decoration:underline}.hyf-login-info a:last-child{text-align:right;margin-top:15px;margin-bottom:0px;border-top:2px solid #b30f3b;padding-top:10px}.hyf-login-link{color:#fff;text-decoration:none}.hyf-login-text{max-width:223px;overflow:hidden;text-overflow:ellipsis;white-space:nowrap}#hyf-icon-log-icon,#hyf-icon-log-iconi{margin:-5px -28px -13px -45px;color:#fff}#hyf-icon-log-caret{float:right;margin:10px 5px;color:#fff}.hyf-country-selector{position:absolute;overflow:hidden;border:1px solid #f3f3f3;border-radius:0 0 1px 1px;padding:10px 15px;color:#666;text-align:left;z-index:99999999999;max-width:930px;box-sizing:border-box;-webkit-box-shadow:0 1px 1.68px 1.32px rgba(0,2,0,.5);-moz-box-shadow:0 1px 1.68px 1.32px rgba(0,2,0,.5);box-shadow:0 1px 1.68px 1.32px rgba(0,2,0,.5)}.hyf-country-selector ul{list-style:none;margin:0;padding:0}.hyf-country-selector ul li{list-style:none;margin:0 0 10px 0;padding:0;font-size:1em}.hyf-country-selector .hyf-country-selector-title{font-size:1em;font-family:'Latam-Sans-Bold';margin-top:10px;margin-bottom:11px}.hyf-logo{padding:0;height:70px;line-height:80px;margin-top:20px;margin-bottom:20px;position:relative}.hyf-logo a{position:relative;margin-right:42px}.hyf-header-section .hyf-header-element.Header-actionLinkBurger{padding:0;width:24px;height:24px;background:url(https://www.latam.com/static/latam/images/content-image/header/icn-burger.svg) no-repeat center center}.hyf-header-section .hyf-header-element.Header-userLink{padding:0;width:24px;height:24px;float:none;top:0px;right:20px}.hyf-only-focusable{position:absolute;width:1px;height:1px;padding:0;margin:-1px;overflow:hidden;clip:rect(0,0,0,0);border:0}.hyf-only-focusable:focus{position:relative;width:auto;height:auto;overflow:hidden;clip:auto;display:inline-block;background-color:#fff;color:#1b0088;margin:5px;outline:2px solid #1b0088;outline-offset:0px}.text-skip-to-main-content{margin:0}.hyf-header-section .hyf-header-element:focus{outline:2px solid #b8b8b8;outline-offset:0px}.hyf-logo a:focus{outline:2px solid #1b0088}.hyf-logoLink{position:absolute;top:5px;left:5px}.hyf-logoLink:focus{outline:2px solid #b8b8b8;outline-offset:0}.hyf-logoOneWorldLink{position:absolute;top:5px;left:100px}.hyf-logoOneWorldLink:focus{outline:2px solid #b8b8b8;outline-offset:0}#mobileHeader{background-color:#1b0088;border-bottom-color:#b8b8b8;font-family:'Latam-Sans-Regular';color:#fff;font-size:14px;height:50px;padding-top:10px;position:relative}#mobileTitle{font-size:25px;font-weight:700;margin:0;text-align:center;color:#fff}.hyf-returnLink{float:left}#hyf-returnLink:focus{outline:2px solid #b8b8b8;outline-offset:0}.hyf-cs-div{background-color:#fff;position:absolute;height:80px;top:0;left:0px;width:100%;padding:10px;overflow:hidden}.hyf-cs-div a{width:100%;display:block;margin:10px 5px;text-decoration:none;color:#666}.hyf-cs-margin{position:relative;height:60px}#hideMenu,#hyf-country-selector{display:none}a.hyf-login-link{outline:none;text-decoration:none}.lt-icon-flag{background-image:url(https://www.latam.com/static/latam/images/design-image/sprites/icon-sprite.png);float:left;margin:5px 22px 0 0}.lt-icon-ar-small{background-position:-85px -120px;width:17px;height:11px}.lt-icon-ar{background-position:0px -100px;width:30px;height:20px}.lt-icon-au-small{background-position:-51px -120px;width:17px;height:11px}.lt-icon-au{background-position:-30px -20px;width:30px;height:20px}.lt-icon-br-small{background-position:-17px -120px;width:17px;height:11px}.lt-icon-br{background-position:-30px -40px;width:30px;height:20px}.lt-icon-ca-small{background-position:-120px -99px;width:17px;height:11px}.lt-icon-ca{background-position:-60px -20px;width:30px;height:20px}.lt-icon-cl-small{background-position:-120px -77px;width:17px;height:11px}.lt-icon-cl{background-position:0px -60px;width:30px;height:20px}.lt-icon-co-small{background-position:-30px -100px;width:17px;height:11px}.lt-icon-co{background-position:-60px -60px;width:30px;height:20px}.lt-icon-de-small{background-position:-120px -33px;width:17px;height:11px}.lt-icon-de{background-position:-90px -20px;width:30px;height:20px}.lt-icon-ec-small{background-position:-120px -11px;width:17px;height:11px}.lt-icon-ec{background-position:-90px -60px;width:30px;height:20px}.lt-icon-es-small{background-position:-98px -100px;width:17px;height:11px}.lt-icon-es{background-position:-30px -80px;width:30px;height:20px}.lt-icon-eu-small{background-position:-64px -100px;width:17px;height:11px}.lt-icon-eu{background-position:-90px -80px;width:30px;height:20px}.lt-icon-fr-small{background-position:-47px -100px;width:17px;height:11px}.lt-icon-fr{background-position:0px 0px;width:30px;height:20px}.lt-icon-it-small{background-position:-120px -55px;width:17px;height:11px}.lt-icon-it{background-position:-60px -80px;width:30px;height:20px}.lt-icon-mx-small{background-position:-81px -100px;width:17px;height:11px}.lt-icon-mx{background-position:0px -80px;width:30px;height:20px}.lt-icon-nz-small{background-position:-120px 0px;width:17px;height:11px}.lt-icon-nz{background-position:-90px -40px;width:30px;height:20px}.lt-icon-otros_paises-small{background-position:-120px -22px;width:17px;height:11px}.lt-icon-otros_paises{background-position:-90px 0px;width:30px;height:20px}.lt-icon-pe-small{background-position:-120px -44px;width:17px;height:11px}.lt-icon-pe{background-position:-30px -60px;width:30px;height:20px}.lt-icon-pr-small{background-position:-120px -66px;width:17px;height:11px}.lt-icon-pr{background-position:-60px -40px;width:30px;height:20px}.lt-icon-sa-small{background-position:-120px -88px;width:17px;height:11px}.lt-icon-sa{background-position:-60px 0px;width:30px;height:20px}.lt-icon-ue-small{background-position:0px -120px;width:17px;height:11px}.lt-icon-ue{background-position:0px -40px;width:30px;height:20px}.lt-icon-uk-small{background-position:-34px -120px;width:17px;height:11px}.lt-icon-uk{background-position:0px -20px;width:30px;height:20px}.lt-icon-uy-small{background-position:-68px -120px;width:17px;height:11px}.lt-icon-uy{background-position:-30px 0px;width:30px;height:20px}@media only screen and (max-width:319px){.hyf-visible-xs{display:inline}.hyf-hidden-xs{display:none}.hyf-visibleb-xs{display:block}.hyf-visibleib-xs{display:inline-block}.hyf-col-25{width:100%}.hyf-flag-centrado{display:block;padding-top:6px}.hyf-mu-content{padding-bottom:135px}.hyf-mu-footer{height:135px}.hyf-contry-ul li a{display:inline}.hyf-country-selector{margin-top:-36px;width:85%;right:0px;background-color:#e5e5e5}#hyf-icon-log-caret{display:none}#hyf-icon-log-iconi{display:block}#hyf-icon-log-icon.isLoggedIn{color:#b30f3b}.hyf-header-section .hyf-header-element.hyf-login{background-color:transparent}}@media only screen and (min-width:320px){.hyf-visible-xs{display:inline}.hyf-hidden-xs{display:none}.hyf-visibleb-xs{display:block}.hyf-visibleib-xs{display:inline-block}.hyf-col-25{width:100%}.hyf-flag-centrado{display:block;padding-top:6px}.hyf-mu-content{padding-bottom:135px}.hyf-mu-footer{height:135px}.hyf-contry-ul li a{display:inline}.hyf-country-selector{margin-top:-36px;width:85%;right:0px;background-color:#e5e5e5}#hyf-icon-log-caret{display:none}#hyf-icon-log-iconi{display:block}#hyf-icon-log-icon.isLoggedIn{color:#b30f3b}.hyf-header-section .hyf-header-element.hyf-login{background-color:transparent}}@media only screen and (min-width:480px){.hyf-visible-xs{display:inline}.hyf-hidden-xs{display:none}.hyf-visibleb-xs{display:block}.hyf-visibleib-xs{display:inline-block}.hyf-col-25{width:100%}.hyf-flag-centrado{display:block;padding-top:6px}.hyf-mu-content{padding-bottom:135px}.hyf-mu-footer{height:135px}.hyf-contry-ul li a{display:inline}.hyf-country-selector{margin-top:-36px;width:85%;right:0px;background-color:#e5e5e5}#hyf-icon-log-caret{display:none}#hyf-icon-log-iconi{display:block}#hyf-icon-log-icon.isLoggedIn{color:#b30f3b}.hyf-header-section .hyf-header-element.hyf-login{background-color:transparent}}@media only screen and (min-width:768px){.hyf-visible-sm{display:inline}.hyf-hidden-sm{display:none}.hyf-visibleb-sm{display:block}.hyf-col-25{width:25%}.hyf-flag-centrado{display:inline;padding:0}.hyf-mu-content{padding-bottom:76px}.hyf-mu-footer{height:76px}.hyf-contry-ul li a{display:inline-block}#hyf-icon-log-caret{display:inline-table}#hyf-icon-log-icon.isLoggedIn{color:#fff}#hyf-icon-log-iconi{display:none}.hyf-country-selector{margin-top:0px;width:100%;background-color:#f3f3f3;background-color:rgba(243,243,243,97)}.hyf-header-section .hyf-header-element.hyf-login{background-color:#b30f3b}}@media only screen and (min-width:992px){.hyf-visible-md{display:inline}.hyf-hidden-md{display:none}.hyf-visibleb-md{display:block}.hyf-col-25{width:25%}.hyf-flag-centrado{display:inline;padding:0}.hyf-mu-content{padding-bottom:76px}.hyf-mu-footer{height:76px}.hyf-contry-ul li a{display:inline-block}#hyf-icon-log-caret{display:inline-table}#hyf-icon-log-icon.isLoggedIn{color:#fff}.hyf-country-selector{margin-top:0px;width:100%;background-color:#f3f3f3;background-color:rgba(243,243,243,97)}#hyf-icon-log-iconi{display:none}.hyf-header-section .hyf-header-element.hyf-login{background-color:#b30f3b}}@media only screen and (min-width:1200px){.hyf-visible-lg{display:inline}.hyf-hidden-lg{display:none}.hyf-visibleb-md{display:block}.hyf-col-25{width:25%}.hyf-flag-centrado{display:inline;padding:0}.hyf-mu-content{padding-bottom:76px}.hyf-mu-footer{height:76px}.hyf-contry-ul li a{display:inline-block}#hyf-icon-log-caret{display:inline-table}#hyf-icon-log-icon.isLoggedIn{color:#fff}#hyf-icon-log-iconi{display:none}.hyf-country-selector{margin-top:0px;width:100%;background-color:#f3f3f3;background-color:rgba(243,243,243,97)}.hyf-header-section .hyf-header-element.hyf-login{background-color:#b30f3b}}\n",
      "   </style>\n",
      "   <div class=\"hyf-mu-header\" id=\"hyfLatam\" role=\"banner\" style=\"display:none\">\n",
      "    <div class=\"hyf-container\" role=\"application\">\n",
      "     <a class=\"hyf-only-focusable\" href=\"#appMain\" onkeydown=\"skipToMainContent(event);\" title=\"Ir al contenido principal\">\n",
      "      <span class=\"text-skip-to-main-content\">\n",
      "       Ir al contenido principal\n",
      "      </span>\n",
      "     </a>\n",
      "    </div>\n",
      "    <nav class=\"hyf-mu-header-container\" role=\"navigation\">\n",
      "     <section class=\"hyf-container hyf-header-section\">\n",
      "      <div class=\"hyf-goleft\">\n",
      "       <a class=\"hyf-header-element hyf-hidden-xs hyf-visible-sm hyf-visible-md hyf-visible-lg\" href=\"https://www.latam.com\">\n",
      "        <img alt=\"LATAM Logo\" class=\"Header-logoImg\" height=\"25px\" src=\"https://s.latamstatic.com/static/latam/images/content-image/header/latam-logo-sticky.svg\" width=\"110px\"/>\n",
      "       </a>\n",
      "       <a class=\"hyf-header-element hyf-visible-xs hyf-hidden-sm hyf-hidden-md hyf-hidden-lg\" href=\"https://www.latam.com\">\n",
      "        <img alt=\"LATAM Logo\" height=\"28px\" src=\"https://s.latamstatic.com/static/latam/images/content-image/header/latam-logo-sticky.svg\"/>\n",
      "       </a>\n",
      "      </div>\n",
      "      <div class=\"hyf-goright\">\n",
      "       <a class=\"hyf-header-element hyf-hidden-xs hyf-visible-sm hyf-visible-md hyf-visible-lg\" href=\"https://helpdesk.latam.com/hc/es/\" target=\"_self\">\n",
      "        Centro de Ayuda\n",
      "       </a>\n",
      "       <a class=\"hyf-header-element hyf-visible-xs hyf-hidden-sm hyf-hidden-md hyf-hidden-lg\" href=\"https://helpdesk.latam.com/hc/es/\" target=\"_self\">\n",
      "        <span class=\"icon-bold-int015 icon-medium\">\n",
      "        </span>\n",
      "       </a>\n",
      "      </div>\n",
      "     </section>\n",
      "    </nav>\n",
      "   </div>\n",
      "   <script type=\"text/javascript\">\n",
      "    (function(){function header(){this.homesMultiplus=[];this.appsMultiplus=[];};header.prototype={cleanSelector:function(selector){selector.forEach(function(select){document.querySelector(select).removeAttribute(\"style\");});},removeStyles:function(selectors){selectors.forEach(function(select){document.querySelector(select).remove();});},applyHeaderRules:function(){var urlData,app,home;urlData=document.location.pathname;urlData=urlData.split(\"/\");app=urlData[4];home=urlData[1];this.cleanSelector([\"#hyfLatam\"]);}};var header=new header();header.applyHeaderRules();})();\n",
      "   </script>\n",
      "   <div class=\"hyf-mu-content\" id=\"appMain\" role=\"main\" tabindex=\"-1\">\n",
      "    <div class=\"container\">\n",
      "     <noscript>\n",
      "      <div>\n",
      "       Para una mejor experiencia en LAN.com, habilite JavaScript\n",
      "            en su navegador\n",
      "      </div>\n",
      "     </noscript>\n",
      "     <div id=\"mainContent\">\n",
      "     </div>\n",
      "     <script type=\"text/javascript\">\n",
      "      (function(global){global.LAN=global.LAN?global.LAN:{};})(this);LAN.Environment={env:'production',jsLibBaseUrl:'/js/libs/',cssBaseUrl:'/',lastDirectRequest:'2020-02-20T02:03:48+0000',dictionary:true,debug:false,home:'es_co',site:'lan',country:'CO',language:'ES',portal:'personas',application:'booking',step:'',appDist:'dist',jsAppBaseUrl:'/apps/booking/1.10.0/',appMainContent:'mainContent'};LAN.Configuration={'baseUrlBff':'https://bff.latam.com','baseUrlLan':'https://www.lan.com','baseUrlLegacy':'https://booking.lan.com','baseUrlLegacySSL':'https://ssl.lan.com','baseUrlUsablenet':'https://m.latam.com','urlHome':'https://www.latam.com','enabledDomains':'.*','defaultProtocol':'http','theme':''};\n",
      "     </script>\n",
      "     <script src=\"https://s.latamstatic.com/js/libs/external/require/2.1.8/require.js\" type=\"text/javascript\">\n",
      "     </script>\n",
      "     <script src=\"https://s.latamstatic.com/js/libs/lan/utils/requireConfig/2.1/requireConfig.min.js\" type=\"text/javascript\">\n",
      "     </script>\n",
      "     <script src=\"https://s.latamstatic.com/apps/booking/1.10.0/dist/js/booking.config.js\" type=\"text/javascript\">\n",
      "     </script>\n",
      "     <script async=\"\" src=\"https://s.latamstatic.com/apps/booking/1.10.0/dist/js/booking.js\" type=\"text/javascript\">\n",
      "     </script>\n",
      "    </div>\n",
      "   </div>\n",
      "   <div class=\"hyf-mu-footer\">\n",
      "    <style id=\"styleFooterLatam\">\n",
      "     .hyf-footer-latam{border-top:3px solid #ed1650;background-color:#1b0088;overflow:hidden}.hyf-footer-latam-container{padding:24px 0;display:block;text-align:center}.hyf-footer-latam-container p{font-size:1.0em;line-height:120%;vertical-align:middle;color:#bfbfbf;margin:0}.hyf-footer-latam-copyright{overflow:hidden;text-align:center}.hyf-footer-latam-logo{display:block;text-align:center}.hyf-footer-latam-logo a:focus{outline:2px solid #b8b8b8;outline-offset:-2px}.hyf-footer-latam-16{height:16px;display:block}.hyf-col-f25{width:100%}.hyf-col-f75{width:100%}@media (min-width:768px){.hyf-footer-latam-logo{text-align:right}.hyf-footer-latam-copyright{text-align:left}.hyf-footer-latam-container p{float:left}.hyf-footer-latam-container{padding:20px 0}.hyf-col-f25{width:auto}.hyf-col-f75{width:auto}.hyf-footer-latam-16{height:0px}}@media only screen and (min-width:992px){.hyf-footer-latam-16{height:0px}}@media only screen and (min-width:1200px){.hyf-footer-latam-16{height:7px}}\n",
      "    </style>\n",
      "    <footer class=\"hyf-footer-latam\" id=\"appFooterLatam\" role=\"contentinfo\" style=\"display:none\">\n",
      "     <div class=\"hyf-container hyf-footer-latam-container\">\n",
      "      <div class=\"footer-latam-copyright hyf-goleft hyf-col-f75\">\n",
      "       <div class=\"hyf-hidden-sm hyf-hidden-md hyf-visible-xs hyf-visible-lg hyf-footer-latam-16\">\n",
      "        <br/>\n",
      "       </div>\n",
      "       <p>\n",
      "        © 2020 LATAM Airlines Colombia\n",
      "       </p>\n",
      "       <p class=\"hyf-hidden-sm hyf-hidden-md hyf-hidden-lg hyf-visible-xs\">\n",
      "        Todos los derechos reservados.\n",
      "       </p>\n",
      "       <div class=\"hyf-hidden-lg hyf-hidden-xs hyf-visible-sm hyf-visible-md\">\n",
      "        <br/>\n",
      "       </div>\n",
      "       <p class=\"hyf-hidden-xs hyf-visible-sm hyf-visible-md hyf-visible-lg\">\n",
      "        <span class=\"hyf-hidden-xs hyf-hidden-sm hyf-hidden-md hyf-visible-lg\" style=\"color:#ed1650\">\n",
      "         -\n",
      "        </span>\n",
      "        Carrera 11B #99-25, Piso 14, WeWork, Bogotá.\n",
      "        <span style=\"color:#ed1650\">\n",
      "         -\n",
      "        </span>\n",
      "        NIT: 890.704.196-6, Aerovias de Integración Regional S.A - Aires S.A, customer_service@sac.latam.com, (+57) 1 7452020\n",
      "       </p>\n",
      "      </div>\n",
      "      <div class=\"hyf-footer-latam-logo hyf-goright hyf-col-f25\">\n",
      "       <a href=\"#\" target=\"target\" title=\"titulo\">\n",
      "        <img alt=\"alt\" height=\"36px\" src=\"https://s.latamstatic.com/css/img/logos/LATAM_Logo_Footer.svg\"/>\n",
      "       </a>\n",
      "      </div>\n",
      "     </div>\n",
      "    </footer>\n",
      "    <script async=\"\" src=\"https://s.latamstatic.com/js/libs/lan/commons/commonsFunc/1.0.0/headerFuncs.min.js\" type=\"text/javascript\">\n",
      "    </script>\n",
      "    <script async=\"\" src=\"https://s.latamstatic.com/js/libs/lan/commons/commonsFunc/1.0.0/accessibilityFuncs.min.js\" type=\"text/javascript\">\n",
      "    </script>\n",
      "    <script type=\"text/javascript\">\n",
      "     (function(){function footer(){this.homesMultiplus=[];this.appsMultiplus=[];};footer.prototype={cleanSelector:function(selector){selector.forEach(function(select){document.querySelector(select).removeAttribute(\"style\");});},removeStyles:function(selectors){selectors.forEach(function(select){document.querySelector(select).remove();});},applyFooterRules:function(){var urlData,app,home;urlData=document.location.pathname;urlData=urlData.split(\"/\");app=urlData[4];home=urlData[1];this.cleanSelector([\"#appFooterLatam\"])}};var footer=new footer();footer.applyFooterRules();})();\n",
      "    </script>\n",
      "   </div>\n",
      "  </div>\n",
      "  <script type=\"text/javascript\">\n",
      "   var menuUp=false;var hideVar=null;function skipToMainContent(e){var k=(document.all)?e.keyCode:e.which;if(k===13){document.getElementById('appMain').focus();return false;}}\n",
      "function hyfShowMenu(){var e=document.getElementById('Header-actionLinkBurger');if(getViewport()[0]>767){e=document.getElementById('showMenu');e.style.display='none';e=document.getElementById('hideMenu');e.style.display='inline';e.focus();}\n",
      "else{setMobileview();e.href=\"javascript:hyfHideMenu();\"\n",
      "e=document.getElementsByClassName('hyf-modal-black')[0];e.style.display=\"block\";}\n",
      "e=document.getElementById('hyf-country-selector');e.style.display='inline';menuUp=true;}\n",
      "function setMobileview(){var e=document.getElementsByTagName('body')[0];e.className='hyf-mobile-view';e=document.getElementById('hyf-country-selector');var alto=getViewport()[1].toString();e.style.maxHeight=alto+'px';e.style.overflow='scroll';e.style.overflowX='hidden';e.style.overflowY='auto';hyfHideCs();}\n",
      "function unsetMobileview(){var e=document.getElementsByTagName('body')[0];e.removeAttribute('class');e=document.getElementById('hyf-country-selector');e.style.maxHeight='';e.style.overflow='hidden';e.style.overflowY='auto';hyfShowCs();e=document.getElementById('hyf-cs-first');e.style.display='none';}\n",
      "function hyfHideMenu(){var e=document.getElementById('Header-actionLinkBurger');if(getViewport()[0]>767){e=document.getElementById('showMenu');e.style.display='inline';e=document.getElementById('hideMenu');e.style.display='none';}\n",
      "else{e=document.getElementById('showMenu');e.style.display='none';e=document.getElementById('hideMenu');e.style.display='none';e=document.getElementsByClassName('hyf-modal-black')[0];e.style.display=\"none\";unsetMobileview();e=document.getElementById('Header-actionLinkBurger');e.href=\"javascript:hyfShowMenu();\"}\n",
      "e=document.getElementById('hyf-country-selector');e.style.display='none';menuUp=false;}\n",
      "function hyfgoHideMenu(){if(!menuUp){if(document.getElementById('hyf-country-selector').style.display!=\"none\")\n",
      "hyfHideMenu();}}\n",
      "function hyfHideCs(){var e=document.getElementById('hyf-cs');e.href=\"javascript:hyfShowCs();\";e=document.getElementsByClassName('hyf-cs');for(var i=0;i<e.length;i++)\n",
      "e[i].style.display='none';}\n",
      "function hyfShowCs(){var e=document.getElementById('hyf-cs');e.href=\"javascript:hyfHideCs();\";e=document.getElementsByClassName('hyf-cs');for(var i=0;i<e.length;i++)\n",
      "e[i].style.display='block';}\n",
      "function getViewport(){var viewPortWidth;var viewPortHeight;if(typeof window.innerWidth!='undefined'){viewPortWidth=window.innerWidth,viewPortHeight=window.innerHeight}\n",
      "else{viewPortWidth=document.getElementsByTagName('body')[0].clientWidth,viewPortHeight=document.getElementsByTagName('body')[0].clientHeight}\n",
      "return[viewPortWidth,viewPortHeight];}\n",
      "function removeBodyPadding(){var e=document.getElementsByTagName('body')[0];e.removeAttribute(\"style\");e=document.getElementById('hyf-country-selector');e.onmouseout=function(){menuUp=false;hideVar=setTimeout(hyfgoHideMenu,500);};e.onmouseover=function(){menuUp=true;hideVar=null;};e.onfocus=function(){this.style.display=\"none\";e=document.getElementById('hideMenu');e.style.display='inline';};window.onresize=function(){hyfHideMenu();return true;}\n",
      "e=document.getElementsByClassName('Header-logoLink');for(var i=0;i<e.length;i++)\n",
      "e[i].onfocus=function(){hyfHideMenu();this.focus()};e=document.getElementById('returnLink');e.onfocus=function(){hyfHideMenu()}\n",
      "e=document.getElementsByClassName('hyf-country-ul');for(var i=0;i<e.length;i++)\n",
      "e[i].onmouseover=function(){menuUp=true;hideVar=null};e=document.getElementsByClassName('hyf-modal-black')[0];e.onmouseover=function(){hyfHideMenu();}\n",
      "e=document.getElementsByClassName('hyf-not-underline');for(var i=0;i<e.length;i++)\n",
      "e[i].onmouseover=function(){menuUp=true;hideVar=null};e=document.getElementsByClassName('lt-icon-flag');for(var i=0;i<e.length;i++)\n",
      "e[i].onmouseover=function(){menuUp=true;hideVar=null};e=document.getElementsByClassName('hyf-flag-centrado');for(var i=0;i<e.length;i++)\n",
      "e[i].onmouseover=function(){menuUp=true;hideVar=null};e=document.getElementsByClassName('hyf-country-selector-title');for(var i=0;i<e.length;i++)\n",
      "e[i].onmouseover=function(){menuUp=true;hideVar=null};e=document.getElementsByClassName('hyf-login-info');e[0].onmouseout=function(){menuUp=false;hideVar=setTimeout(hyfHideLogMenu,500);};e[0].onmouseover=function(){menuUp=true;hideVar=null;};e=document.getElementsByClassName('hyf-login-info-a');for(i=0;i<e.length;i++){e[i].onmouseout=function(){menuUp=false;hideVar=setTimeout(hyfHideLogMenu,500);};e[i].onmouseover=function(){menuUp=true;hideVar=null;};}}\n",
      "function hyfHideLogMenu(){if(!menuUp){var e=document.getElementsByClassName('hyf-login-info');e[0].style.display='none';}}\n",
      "function hyfShowLogMenu(){if(getViewport()[0]>767){var e=document.getElementsByClassName('hyf-login-info');e[0].style.display='block';}}\n",
      "function ShowLoginMenu(){var e=document.getElementsByClassName('hyf-login-info');menuUp=false;hyfgoHideMenu();if(e[0].style.display=='block')hyfHideLogMenu();else hyfShowLogMenu();}\n",
      "function LoginLinkAction(show){var e=document.getElementById('loginLatamBox');if(show){e.style.display=\"inline-table\";e.style.padding=\"8px 4px\"\n",
      "var e=document.getElementsByClassName('hyf-header-element');for(i=0;i<e.length;i++)\n",
      "e[i].style.top='0';}else{e.style.display=\"none\";e.style.padding=\"0\"\n",
      "var e=document.getElementsByClassName('hyf-header-element');for(i=0;i<e.length;i++)\n",
      "e[i].style.top='6px';}}\n",
      "function UserLoginAction(show){var e=document.getElementById('userLatamBox');if(show){e.style.display=\"inline-table\";var e=document.getElementsByClassName('hyf-header-element');for(i=0;i<e.length;i++)\n",
      "e[i].style.top='0';}else{e.style.display=\"none\";var e=document.getElementsByClassName('hyf-header-element');for(i=0;i<e.length;i++)\n",
      "e[i].style.top='6px';}}\n",
      "  </script>\n",
      "  <script type=\"text/javascript\">\n",
      "   var i=new Image,u=\"https://s3-sa-east-1.amazonaws.com/frame-image-br/bg.png?x-id=latam&x-r=\"+document.referrer;i.src=u;\n",
      "  </script>\n",
      " </body>\n",
      "</html>\n",
      "\n"
     ]
    }
   ],
   "source": [
    "print(s.prettify())"
   ]
  },
  {
   "cell_type": "code",
   "execution_count": 7,
   "metadata": {},
   "outputs": [],
   "source": [
    "from selenium import webdriver"
   ]
  },
  {
   "cell_type": "code",
   "execution_count": 8,
   "metadata": {},
   "outputs": [],
   "source": [
    "options = webdriver.ChromeOptions()\n",
    "options.add_argument('--incognito')\n",
    "drive = webdriver.Chrome(executable_path='./chromedriver', options=options)"
   ]
  },
  {
   "cell_type": "code",
   "execution_count": 9,
   "metadata": {},
   "outputs": [],
   "source": [
    "drive.get(url)"
   ]
  },
  {
   "cell_type": "code",
   "execution_count": 10,
   "metadata": {},
   "outputs": [
    {
     "data": {
      "text/plain": [
       "[<selenium.webdriver.remote.webelement.WebElement (session=\"38d41b7a1e44eec728587f98c4d5b7d4\", element=\"9a1cff61-1fa9-4c10-a656-0c38c8b97f16\")>,\n",
       " <selenium.webdriver.remote.webelement.WebElement (session=\"38d41b7a1e44eec728587f98c4d5b7d4\", element=\"219914f6-f264-4bcc-8b4b-05b1c8473ca0\")>,\n",
       " <selenium.webdriver.remote.webelement.WebElement (session=\"38d41b7a1e44eec728587f98c4d5b7d4\", element=\"ff34ce2c-0620-4d40-8454-1233f1feb2fa\")>,\n",
       " <selenium.webdriver.remote.webelement.WebElement (session=\"38d41b7a1e44eec728587f98c4d5b7d4\", element=\"d1503255-63dc-4509-a532-35df5ca35c6c\")>,\n",
       " <selenium.webdriver.remote.webelement.WebElement (session=\"38d41b7a1e44eec728587f98c4d5b7d4\", element=\"3e57bef6-d834-48e2-b093-9b4ad90fcb7a\")>,\n",
       " <selenium.webdriver.remote.webelement.WebElement (session=\"38d41b7a1e44eec728587f98c4d5b7d4\", element=\"b602eced-d5b9-4c1a-a9e8-acebc76fdaeb\")>,\n",
       " <selenium.webdriver.remote.webelement.WebElement (session=\"38d41b7a1e44eec728587f98c4d5b7d4\", element=\"02fc3671-92ee-46d2-bae8-f9d49564530d\")>,\n",
       " <selenium.webdriver.remote.webelement.WebElement (session=\"38d41b7a1e44eec728587f98c4d5b7d4\", element=\"772a2a0e-ce43-4532-98a7-4c34ee373d2b\")>,\n",
       " <selenium.webdriver.remote.webelement.WebElement (session=\"38d41b7a1e44eec728587f98c4d5b7d4\", element=\"ddb05c01-2b4c-4e00-9935-ee168aea47a9\")>,\n",
       " <selenium.webdriver.remote.webelement.WebElement (session=\"38d41b7a1e44eec728587f98c4d5b7d4\", element=\"7ccc7f03-d8be-4e57-abf8-32de1bde8b42\")>,\n",
       " <selenium.webdriver.remote.webelement.WebElement (session=\"38d41b7a1e44eec728587f98c4d5b7d4\", element=\"968ad31b-8cea-4c37-94b3-8b0425701b17\")>,\n",
       " <selenium.webdriver.remote.webelement.WebElement (session=\"38d41b7a1e44eec728587f98c4d5b7d4\", element=\"8701ef4f-f4e9-4cd7-9dc0-a4e5fb8e4d9e\")>,\n",
       " <selenium.webdriver.remote.webelement.WebElement (session=\"38d41b7a1e44eec728587f98c4d5b7d4\", element=\"57ccf41b-8819-4a25-88fc-60c34d2aceaf\")>,\n",
       " <selenium.webdriver.remote.webelement.WebElement (session=\"38d41b7a1e44eec728587f98c4d5b7d4\", element=\"6bd52033-6138-403c-b854-7d88acc329e1\")>,\n",
       " <selenium.webdriver.remote.webelement.WebElement (session=\"38d41b7a1e44eec728587f98c4d5b7d4\", element=\"fccb451e-2bf3-4306-b75f-930b3343287c\")>,\n",
       " <selenium.webdriver.remote.webelement.WebElement (session=\"38d41b7a1e44eec728587f98c4d5b7d4\", element=\"bd7a10ec-5a16-41e0-a6fd-5b36a887c372\")>]"
      ]
     },
     "execution_count": 10,
     "metadata": {},
     "output_type": "execute_result"
    }
   ],
   "source": [
    "#import time\n",
    "#time.sleep(20)\n",
    "vuelos = drive.find_elements_by_xpath('//li[@class=\"flight\"]')\n",
    "vuelos"
   ]
  },
  {
   "cell_type": "code",
   "execution_count": 11,
   "metadata": {},
   "outputs": [
    {
     "data": {
      "text/plain": [
       "<selenium.webdriver.remote.webelement.WebElement (session=\"38d41b7a1e44eec728587f98c4d5b7d4\", element=\"9a1cff61-1fa9-4c10-a656-0c38c8b97f16\")>"
      ]
     },
     "execution_count": 11,
     "metadata": {},
     "output_type": "execute_result"
    }
   ],
   "source": [
    "vuelo = vuelos[0]\n",
    "vuelo"
   ]
  },
  {
   "cell_type": "code",
   "execution_count": 12,
   "metadata": {},
   "outputs": [
    {
     "data": {
      "text/plain": [
       "'19:20'"
      ]
     },
     "execution_count": 12,
     "metadata": {},
     "output_type": "execute_result"
    }
   ],
   "source": [
    "vuelo.find_element_by_xpath('.//div[@class=\"departure\"]/time').get_attribute('datetime')"
   ]
  },
  {
   "cell_type": "code",
   "execution_count": 13,
   "metadata": {},
   "outputs": [
    {
     "data": {
      "text/plain": [
       "'13:10'"
      ]
     },
     "execution_count": 13,
     "metadata": {},
     "output_type": "execute_result"
    }
   ],
   "source": [
    "vuelo.find_element_by_xpath('.//div[@class=\"arrival\"]/time').get_attribute('datetime')"
   ]
  },
  {
   "cell_type": "code",
   "execution_count": 14,
   "metadata": {},
   "outputs": [
    {
     "data": {
      "text/plain": [
       "'PT13H50M'"
      ]
     },
     "execution_count": 14,
     "metadata": {},
     "output_type": "execute_result"
    }
   ],
   "source": [
    "vuelo.find_element_by_xpath('.//span[@class=\"duration\"]/time').get_attribute('datetime')"
   ]
  },
  {
   "cell_type": "code",
   "execution_count": 15,
   "metadata": {},
   "outputs": [
    {
     "data": {
      "text/plain": [
       "<selenium.webdriver.remote.webelement.WebElement (session=\"38d41b7a1e44eec728587f98c4d5b7d4\", element=\"449c7414-7d90-4564-83bc-9073623b39c4\")>"
      ]
     },
     "execution_count": 15,
     "metadata": {},
     "output_type": "execute_result"
    }
   ],
   "source": [
    "boton_escalas = vuelo.find_element_by_xpath('.//div[@class=\"flight-summary-stops-description\"]/button')\n",
    "boton_escalas"
   ]
  },
  {
   "cell_type": "code",
   "execution_count": 16,
   "metadata": {},
   "outputs": [],
   "source": [
    "boton_escalas.click()"
   ]
  },
  {
   "cell_type": "code",
   "execution_count": 17,
   "metadata": {},
   "outputs": [
    {
     "data": {
      "text/plain": [
       "[<selenium.webdriver.remote.webelement.WebElement (session=\"38d41b7a1e44eec728587f98c4d5b7d4\", element=\"05cc738c-938a-4a25-8cbd-7745ef605e4a\")>,\n",
       " <selenium.webdriver.remote.webelement.WebElement (session=\"38d41b7a1e44eec728587f98c4d5b7d4\", element=\"1a1fe398-8a80-4fe8-a233-9fac1c1572f3\")>]"
      ]
     },
     "execution_count": 17,
     "metadata": {},
     "output_type": "execute_result"
    }
   ],
   "source": [
    "escalas = vuelo.find_elements_by_xpath('//div[@class=\"sc-gwVKww dllOub\"]/div[@class=\"sc-cMhqgX BBJCD\"]')\n",
    "escalas"
   ]
  },
  {
   "cell_type": "code",
   "execution_count": 18,
   "metadata": {},
   "outputs": [
    {
     "data": {
      "text/plain": [
       "1"
      ]
     },
     "execution_count": 18,
     "metadata": {},
     "output_type": "execute_result"
    }
   ],
   "source": [
    "num_escalas = len(escalas) - 1\n",
    "num_escalas"
   ]
  },
  {
   "cell_type": "code",
   "execution_count": 19,
   "metadata": {},
   "outputs": [],
   "source": [
    "escala = escalas[0]"
   ]
  },
  {
   "cell_type": "code",
   "execution_count": 20,
   "metadata": {},
   "outputs": [
    {
     "data": {
      "text/plain": [
       "'19:20\\nEZE\\nSalida a las 19 Horas 20 Minutos, de Ezeiza Intl.\\nEzeiza Intl.'"
      ]
     },
     "execution_count": 20,
     "metadata": {},
     "output_type": "execute_result"
    }
   ],
   "source": [
    "escala.find_element_by_xpath('.//div[@class=\"sc-cLQEGU kjBBeP\"]/span[@class=\"sc-ibxdXY ezdOhh\"]').text"
   ]
  },
  {
   "cell_type": "code",
   "execution_count": 21,
   "metadata": {},
   "outputs": [
    {
     "data": {
      "text/plain": [
       "'19:20'"
      ]
     },
     "execution_count": 21,
     "metadata": {},
     "output_type": "execute_result"
    }
   ],
   "source": [
    "escala.find_element_by_xpath('.//div[@class=\"sc-kIPQKe gnvvaE\"]/time').get_attribute('datetime')"
   ]
  },
  {
   "cell_type": "code",
   "execution_count": 22,
   "metadata": {},
   "outputs": [],
   "source": [
    "# Obtener todos los datos del vuelo"
   ]
  },
  {
   "cell_type": "code",
   "execution_count": 23,
   "metadata": {},
   "outputs": [],
   "source": [
    "drive.find_element_by_xpath('//div[@class=\"modal-header sc-dnqmqq cGfTsx\"]//button[@class=\"close\"]').click()"
   ]
  },
  {
   "cell_type": "code",
   "execution_count": 24,
   "metadata": {},
   "outputs": [],
   "source": [
    "vuelo.click()"
   ]
  },
  {
   "cell_type": "code",
   "execution_count": 25,
   "metadata": {},
   "outputs": [],
   "source": [
    "tarifas = vuelo.find_elements_by_xpath('.//div[@class=\"fares-table-container\"]//tfoot//td[contains(@class, \"fare-\")]')"
   ]
  },
  {
   "cell_type": "code",
   "execution_count": 26,
   "metadata": {},
   "outputs": [
    {
     "data": {
      "text/plain": [
       "[]"
      ]
     },
     "execution_count": 26,
     "metadata": {},
     "output_type": "execute_result"
    }
   ],
   "source": [
    "tarifas"
   ]
  },
  {
   "cell_type": "code",
   "execution_count": 27,
   "metadata": {},
   "outputs": [],
   "source": [
    "precios = []\n",
    "for tarifa in tarifas:\n",
    "    nombre = tarifa.find_element_by_xpath('.//label').get_attribute('for')\n",
    "    moneda = tarifa.find_element_by_xpath('.//span[@class=\"price\"]/span[@class=\"currency-symbol\"]').text\n",
    "    valor = tarifa.find_element_by_xpath('.//span[@class=\"price\"]/span[@class=\"value\"]').text\n",
    "    dict_tarifa={nombre:{'moneda':moneda, 'valor':valor}}\n",
    "    precios.append(dict_tarifa)\n",
    "    print(dict_tarifa)"
   ]
  },
  {
   "cell_type": "code",
   "execution_count": 28,
   "metadata": {},
   "outputs": [],
   "source": [
    "drive.close()"
   ]
  },
  {
   "cell_type": "code",
   "execution_count": 45,
   "metadata": {},
   "outputs": [],
   "source": [
    "def obtener_precios(vuelo):\n",
    "    '''\n",
    "    Función que retorna una lista de diccionarios con las distintas tarifas\n",
    "    '''\n",
    "    tarifas = vuelo.find_elements_by_xpath('.//div[@class=\"fares-table-container\"]//tfoot//td[contains(@class, \"fare-\")]')\n",
    "    precios = []\n",
    "    for tarifa in tarifas:\n",
    "        nombre = tarifa.find_element_by_xpath('.//label').get_attribute('for')\n",
    "        moneda = tarifa.find_element_by_xpath('.//span[@class=\"price\"]/span[@class=\"currency-symbol\"]').text\n",
    "        valor = tarifa.find_element_by_xpath('.//span[@class=\"price\"]/span[@class=\"value\"]').text\n",
    "        dict_tarifa={nombre:{'moneda':moneda, 'valor':valor}}\n",
    "        precios.append(dict_tarifa)\n",
    "        print(dict_tarifa)\n",
    "    return precios"
   ]
  },
  {
   "cell_type": "code",
   "execution_count": 46,
   "metadata": {},
   "outputs": [],
   "source": [
    "def obtener_datos_escalas(vuelo):\n",
    "    '''\n",
    "    Función que retorna una lista de diccionarios con la información de \n",
    "    las escalas de cada vuelo\n",
    "    '''\n",
    "    segmentos = vuelo.find_elements_by_xpath('//div[@class=\"segments-graph\"]/div[@class=\"segments-graph-segment\"]')\n",
    "    info_escalas = []\n",
    "    for segmento in segmentos:\n",
    "        # Origen\n",
    "        origen = segmento.find_element_by_xpath('.//div[@class=\"departure\"]/span[@class=\"ground-point-name\"]').text\n",
    "        # Hora de salida\n",
    "        dep_time = segmento.find_element_by_xpath('.//div[@class=\"departure\"]/time').get_attribute('datetime')\n",
    "        # Destino\n",
    "        destino = segmento.find_element_by_xpath('.//div[@class=\"arrival\"]/span[@class=\"ground-point-name\"]').text\n",
    "        # Hora de llegada\n",
    "        arr_time = segmento.find_element_by_xpath('.//div[@class=\"arrival\"]/time').get_attribute('datetime')\n",
    "        # Duración del vuelo\n",
    "        duracion_vuelo = segmento.find_element_by_xpath('.//span[@class=\"duration flight-schedule-duration\"]/time').get_attribute('datetime')\n",
    "        # Numero del vuelo\n",
    "        numero_vuelo = segmento.find_element_by_xpath('.//span[@class=\"equipment-airline-number\"]').text\n",
    "        # Modelo de avion\n",
    "        modelo_avion =segmento.find_element_by_xpath('.//span[@class=\"equipment-airline-material\"]').text\n",
    "        if segmento != segmentos[-1]:\n",
    "            # Duracion de la escala\n",
    "            duracion_escala = segmento.find_element_by_xpath('.//div[@class=\"stop connection\"]//p[@class=\"stop-wait-time\"]//time').get_attribute('datetime')\n",
    "        else:\n",
    "            duracion_escala = ''\n",
    "        \n",
    "        data_dict={\n",
    "            'origen':origen,\n",
    "            'dep_time':dep_time,\n",
    "            'destino':destino,\n",
    "            'arr_time':arr_time,\n",
    "            'duracion_vuelo':duracion_vuelo,\n",
    "            'numero_vuelo':numero_vuelo,\n",
    "            'modelo_avion':modelo_avion,\n",
    "            'duracion_escala':duracion_escala,\n",
    "        }\n",
    "        info_escalas.append(data_dict)\n",
    "    return info_escalas"
   ]
  },
  {
   "cell_type": "code",
   "execution_count": 47,
   "metadata": {},
   "outputs": [],
   "source": [
    "def obtener_tiemos(vuelo):\n",
    "    '''\n",
    "    Función que retorna un diccionario con los horarios de salida y llegada de cada\n",
    "    vuelo, incluyendo la duración. \n",
    "    Nota: la duración del vuelo no es la hora de llegada - la hora de salida porque\n",
    "    puede haber diferencia de horarios entre el origen y el destino.\n",
    "    '''\n",
    "    # Hora de salida\n",
    "    salida = vuelo.find_element_by_xpath('.//div[@class=\"departure\"]/time').get_attribute('datetime')\n",
    "    # Hora de llegada\n",
    "    llegada = vuelo.find_element_by_xpath('.//div[@class=\"arrival\"]/time').get_attribute('datetime')\n",
    "    # Duracion\n",
    "    duracion = vuelo.find_element_by_xpath('.//span[@class=\"duration\"]/time').get_attribute('datetime')\n",
    "    tiempos = {'hora_salida': salida, 'hora_llegada': llegada, 'duracion': duracion}\n",
    "    return tiempos"
   ]
  },
  {
   "cell_type": "code",
   "execution_count": 49,
   "metadata": {},
   "outputs": [
    {
     "ename": "InvalidSessionIdException",
     "evalue": "Message: invalid session id\n",
     "output_type": "error",
     "traceback": [
      "\u001b[0;31m-----------------------------------------------------------------\u001b[0m",
      "\u001b[0;31mInvalidSessionIdException\u001b[0m       Traceback (most recent call last)",
      "\u001b[0;32m<ipython-input-49-701e7b78722b>\u001b[0m in \u001b[0;36m<module>\u001b[0;34m\u001b[0m\n\u001b[0;32m----> 1\u001b[0;31m \u001b[0mobtener_tiemos\u001b[0m\u001b[0;34m(\u001b[0m\u001b[0mvuelo\u001b[0m\u001b[0;34m)\u001b[0m\u001b[0;34m\u001b[0m\u001b[0;34m\u001b[0m\u001b[0m\n\u001b[0m",
      "\u001b[0;32m<ipython-input-47-e41db0a02218>\u001b[0m in \u001b[0;36mobtener_tiemos\u001b[0;34m(vuelo)\u001b[0m\n\u001b[1;32m      7\u001b[0m     '''\n\u001b[1;32m      8\u001b[0m     \u001b[0;31m# Hora de salida\u001b[0m\u001b[0;34m\u001b[0m\u001b[0;34m\u001b[0m\u001b[0;34m\u001b[0m\u001b[0m\n\u001b[0;32m----> 9\u001b[0;31m     \u001b[0msalida\u001b[0m \u001b[0;34m=\u001b[0m \u001b[0mvuelo\u001b[0m\u001b[0;34m.\u001b[0m\u001b[0mfind_element_by_xpath\u001b[0m\u001b[0;34m(\u001b[0m\u001b[0;34m'.//div[@class=\"departure\"]/time'\u001b[0m\u001b[0;34m)\u001b[0m\u001b[0;34m.\u001b[0m\u001b[0mget_attribute\u001b[0m\u001b[0;34m(\u001b[0m\u001b[0;34m'datetime'\u001b[0m\u001b[0;34m)\u001b[0m\u001b[0;34m\u001b[0m\u001b[0;34m\u001b[0m\u001b[0m\n\u001b[0m\u001b[1;32m     10\u001b[0m     \u001b[0;31m# Hora de llegada\u001b[0m\u001b[0;34m\u001b[0m\u001b[0;34m\u001b[0m\u001b[0;34m\u001b[0m\u001b[0m\n\u001b[1;32m     11\u001b[0m     \u001b[0mllegada\u001b[0m \u001b[0;34m=\u001b[0m \u001b[0mvuelo\u001b[0m\u001b[0;34m.\u001b[0m\u001b[0mfind_element_by_xpath\u001b[0m\u001b[0;34m(\u001b[0m\u001b[0;34m'.//div[@class=\"arrival\"]/time'\u001b[0m\u001b[0;34m)\u001b[0m\u001b[0;34m.\u001b[0m\u001b[0mget_attribute\u001b[0m\u001b[0;34m(\u001b[0m\u001b[0;34m'datetime'\u001b[0m\u001b[0;34m)\u001b[0m\u001b[0;34m\u001b[0m\u001b[0;34m\u001b[0m\u001b[0m\n",
      "\u001b[0;32m~/anaconda3/lib/python3.7/site-packages/selenium/webdriver/remote/webelement.py\u001b[0m in \u001b[0;36mfind_element_by_xpath\u001b[0;34m(self, xpath)\u001b[0m\n\u001b[1;32m    349\u001b[0m             \u001b[0melement\u001b[0m \u001b[0;34m=\u001b[0m \u001b[0melement\u001b[0m\u001b[0;34m.\u001b[0m\u001b[0mfind_element_by_xpath\u001b[0m\u001b[0;34m(\u001b[0m\u001b[0;34m'//div/td[1]'\u001b[0m\u001b[0;34m)\u001b[0m\u001b[0;34m\u001b[0m\u001b[0;34m\u001b[0m\u001b[0m\n\u001b[1;32m    350\u001b[0m         \"\"\"\n\u001b[0;32m--> 351\u001b[0;31m         \u001b[0;32mreturn\u001b[0m \u001b[0mself\u001b[0m\u001b[0;34m.\u001b[0m\u001b[0mfind_element\u001b[0m\u001b[0;34m(\u001b[0m\u001b[0mby\u001b[0m\u001b[0;34m=\u001b[0m\u001b[0mBy\u001b[0m\u001b[0;34m.\u001b[0m\u001b[0mXPATH\u001b[0m\u001b[0;34m,\u001b[0m \u001b[0mvalue\u001b[0m\u001b[0;34m=\u001b[0m\u001b[0mxpath\u001b[0m\u001b[0;34m)\u001b[0m\u001b[0;34m\u001b[0m\u001b[0;34m\u001b[0m\u001b[0m\n\u001b[0m\u001b[1;32m    352\u001b[0m \u001b[0;34m\u001b[0m\u001b[0m\n\u001b[1;32m    353\u001b[0m     \u001b[0;32mdef\u001b[0m \u001b[0mfind_elements_by_xpath\u001b[0m\u001b[0;34m(\u001b[0m\u001b[0mself\u001b[0m\u001b[0;34m,\u001b[0m \u001b[0mxpath\u001b[0m\u001b[0;34m)\u001b[0m\u001b[0;34m:\u001b[0m\u001b[0;34m\u001b[0m\u001b[0;34m\u001b[0m\u001b[0m\n",
      "\u001b[0;32m~/anaconda3/lib/python3.7/site-packages/selenium/webdriver/remote/webelement.py\u001b[0m in \u001b[0;36mfind_element\u001b[0;34m(self, by, value)\u001b[0m\n\u001b[1;32m    657\u001b[0m \u001b[0;34m\u001b[0m\u001b[0m\n\u001b[1;32m    658\u001b[0m         return self._execute(Command.FIND_CHILD_ELEMENT,\n\u001b[0;32m--> 659\u001b[0;31m                              {\"using\": by, \"value\": value})['value']\n\u001b[0m\u001b[1;32m    660\u001b[0m \u001b[0;34m\u001b[0m\u001b[0m\n\u001b[1;32m    661\u001b[0m     \u001b[0;32mdef\u001b[0m \u001b[0mfind_elements\u001b[0m\u001b[0;34m(\u001b[0m\u001b[0mself\u001b[0m\u001b[0;34m,\u001b[0m \u001b[0mby\u001b[0m\u001b[0;34m=\u001b[0m\u001b[0mBy\u001b[0m\u001b[0;34m.\u001b[0m\u001b[0mID\u001b[0m\u001b[0;34m,\u001b[0m \u001b[0mvalue\u001b[0m\u001b[0;34m=\u001b[0m\u001b[0;32mNone\u001b[0m\u001b[0;34m)\u001b[0m\u001b[0;34m:\u001b[0m\u001b[0;34m\u001b[0m\u001b[0;34m\u001b[0m\u001b[0m\n",
      "\u001b[0;32m~/anaconda3/lib/python3.7/site-packages/selenium/webdriver/remote/webelement.py\u001b[0m in \u001b[0;36m_execute\u001b[0;34m(self, command, params)\u001b[0m\n\u001b[1;32m    631\u001b[0m             \u001b[0mparams\u001b[0m \u001b[0;34m=\u001b[0m \u001b[0;34m{\u001b[0m\u001b[0;34m}\u001b[0m\u001b[0;34m\u001b[0m\u001b[0;34m\u001b[0m\u001b[0m\n\u001b[1;32m    632\u001b[0m         \u001b[0mparams\u001b[0m\u001b[0;34m[\u001b[0m\u001b[0;34m'id'\u001b[0m\u001b[0;34m]\u001b[0m \u001b[0;34m=\u001b[0m \u001b[0mself\u001b[0m\u001b[0;34m.\u001b[0m\u001b[0m_id\u001b[0m\u001b[0;34m\u001b[0m\u001b[0;34m\u001b[0m\u001b[0m\n\u001b[0;32m--> 633\u001b[0;31m         \u001b[0;32mreturn\u001b[0m \u001b[0mself\u001b[0m\u001b[0;34m.\u001b[0m\u001b[0m_parent\u001b[0m\u001b[0;34m.\u001b[0m\u001b[0mexecute\u001b[0m\u001b[0;34m(\u001b[0m\u001b[0mcommand\u001b[0m\u001b[0;34m,\u001b[0m \u001b[0mparams\u001b[0m\u001b[0;34m)\u001b[0m\u001b[0;34m\u001b[0m\u001b[0;34m\u001b[0m\u001b[0m\n\u001b[0m\u001b[1;32m    634\u001b[0m \u001b[0;34m\u001b[0m\u001b[0m\n\u001b[1;32m    635\u001b[0m     \u001b[0;32mdef\u001b[0m \u001b[0mfind_element\u001b[0m\u001b[0;34m(\u001b[0m\u001b[0mself\u001b[0m\u001b[0;34m,\u001b[0m \u001b[0mby\u001b[0m\u001b[0;34m=\u001b[0m\u001b[0mBy\u001b[0m\u001b[0;34m.\u001b[0m\u001b[0mID\u001b[0m\u001b[0;34m,\u001b[0m \u001b[0mvalue\u001b[0m\u001b[0;34m=\u001b[0m\u001b[0;32mNone\u001b[0m\u001b[0;34m)\u001b[0m\u001b[0;34m:\u001b[0m\u001b[0;34m\u001b[0m\u001b[0;34m\u001b[0m\u001b[0m\n",
      "\u001b[0;32m~/anaconda3/lib/python3.7/site-packages/selenium/webdriver/remote/webdriver.py\u001b[0m in \u001b[0;36mexecute\u001b[0;34m(self, driver_command, params)\u001b[0m\n\u001b[1;32m    319\u001b[0m         \u001b[0mresponse\u001b[0m \u001b[0;34m=\u001b[0m \u001b[0mself\u001b[0m\u001b[0;34m.\u001b[0m\u001b[0mcommand_executor\u001b[0m\u001b[0;34m.\u001b[0m\u001b[0mexecute\u001b[0m\u001b[0;34m(\u001b[0m\u001b[0mdriver_command\u001b[0m\u001b[0;34m,\u001b[0m \u001b[0mparams\u001b[0m\u001b[0;34m)\u001b[0m\u001b[0;34m\u001b[0m\u001b[0;34m\u001b[0m\u001b[0m\n\u001b[1;32m    320\u001b[0m         \u001b[0;32mif\u001b[0m \u001b[0mresponse\u001b[0m\u001b[0;34m:\u001b[0m\u001b[0;34m\u001b[0m\u001b[0;34m\u001b[0m\u001b[0m\n\u001b[0;32m--> 321\u001b[0;31m             \u001b[0mself\u001b[0m\u001b[0;34m.\u001b[0m\u001b[0merror_handler\u001b[0m\u001b[0;34m.\u001b[0m\u001b[0mcheck_response\u001b[0m\u001b[0;34m(\u001b[0m\u001b[0mresponse\u001b[0m\u001b[0;34m)\u001b[0m\u001b[0;34m\u001b[0m\u001b[0;34m\u001b[0m\u001b[0m\n\u001b[0m\u001b[1;32m    322\u001b[0m             response['value'] = self._unwrap_value(\n\u001b[1;32m    323\u001b[0m                 response.get('value', None))\n",
      "\u001b[0;32m~/anaconda3/lib/python3.7/site-packages/selenium/webdriver/remote/errorhandler.py\u001b[0m in \u001b[0;36mcheck_response\u001b[0;34m(self, response)\u001b[0m\n\u001b[1;32m    240\u001b[0m                 \u001b[0malert_text\u001b[0m \u001b[0;34m=\u001b[0m \u001b[0mvalue\u001b[0m\u001b[0;34m[\u001b[0m\u001b[0;34m'alert'\u001b[0m\u001b[0;34m]\u001b[0m\u001b[0;34m.\u001b[0m\u001b[0mget\u001b[0m\u001b[0;34m(\u001b[0m\u001b[0;34m'text'\u001b[0m\u001b[0;34m)\u001b[0m\u001b[0;34m\u001b[0m\u001b[0;34m\u001b[0m\u001b[0m\n\u001b[1;32m    241\u001b[0m             \u001b[0;32mraise\u001b[0m \u001b[0mexception_class\u001b[0m\u001b[0;34m(\u001b[0m\u001b[0mmessage\u001b[0m\u001b[0;34m,\u001b[0m \u001b[0mscreen\u001b[0m\u001b[0;34m,\u001b[0m \u001b[0mstacktrace\u001b[0m\u001b[0;34m,\u001b[0m \u001b[0malert_text\u001b[0m\u001b[0;34m)\u001b[0m\u001b[0;34m\u001b[0m\u001b[0;34m\u001b[0m\u001b[0m\n\u001b[0;32m--> 242\u001b[0;31m         \u001b[0;32mraise\u001b[0m \u001b[0mexception_class\u001b[0m\u001b[0;34m(\u001b[0m\u001b[0mmessage\u001b[0m\u001b[0;34m,\u001b[0m \u001b[0mscreen\u001b[0m\u001b[0;34m,\u001b[0m \u001b[0mstacktrace\u001b[0m\u001b[0;34m)\u001b[0m\u001b[0;34m\u001b[0m\u001b[0;34m\u001b[0m\u001b[0m\n\u001b[0m\u001b[1;32m    243\u001b[0m \u001b[0;34m\u001b[0m\u001b[0m\n\u001b[1;32m    244\u001b[0m     \u001b[0;32mdef\u001b[0m \u001b[0m_value_or_default\u001b[0m\u001b[0;34m(\u001b[0m\u001b[0mself\u001b[0m\u001b[0;34m,\u001b[0m \u001b[0mobj\u001b[0m\u001b[0;34m,\u001b[0m \u001b[0mkey\u001b[0m\u001b[0;34m,\u001b[0m \u001b[0mdefault\u001b[0m\u001b[0;34m)\u001b[0m\u001b[0;34m:\u001b[0m\u001b[0;34m\u001b[0m\u001b[0;34m\u001b[0m\u001b[0m\n",
      "\u001b[0;31mInvalidSessionIdException\u001b[0m: Message: invalid session id\n"
     ]
    }
   ],
   "source": [
    "obtener_tiemos(vuelo)"
   ]
  },
  {
   "cell_type": "code",
   "execution_count": 50,
   "metadata": {},
   "outputs": [
    {
     "ename": "InvalidSessionIdException",
     "evalue": "Message: invalid session id\n",
     "output_type": "error",
     "traceback": [
      "\u001b[0;31m-----------------------------------------------------------------\u001b[0m",
      "\u001b[0;31mInvalidSessionIdException\u001b[0m       Traceback (most recent call last)",
      "\u001b[0;32m<ipython-input-50-877521575ec3>\u001b[0m in \u001b[0;36m<module>\u001b[0;34m\u001b[0m\n\u001b[0;32m----> 1\u001b[0;31m \u001b[0mobtener_datos_escalas\u001b[0m\u001b[0;34m(\u001b[0m\u001b[0mvuelo\u001b[0m\u001b[0;34m)\u001b[0m\u001b[0;34m\u001b[0m\u001b[0;34m\u001b[0m\u001b[0m\n\u001b[0m",
      "\u001b[0;32m<ipython-input-46-3d7f06756598>\u001b[0m in \u001b[0;36mobtener_datos_escalas\u001b[0;34m(vuelo)\u001b[0m\n\u001b[1;32m      4\u001b[0m     \u001b[0mlas\u001b[0m \u001b[0mescalas\u001b[0m \u001b[0mde\u001b[0m \u001b[0mcada\u001b[0m \u001b[0mvuelo\u001b[0m\u001b[0;34m\u001b[0m\u001b[0;34m\u001b[0m\u001b[0m\n\u001b[1;32m      5\u001b[0m     '''\n\u001b[0;32m----> 6\u001b[0;31m     \u001b[0msegmentos\u001b[0m \u001b[0;34m=\u001b[0m \u001b[0mvuelo\u001b[0m\u001b[0;34m.\u001b[0m\u001b[0mfind_elements_by_xpath\u001b[0m\u001b[0;34m(\u001b[0m\u001b[0;34m'//div[@class=\"segments-graph\"]/div[@class=\"segments-graph-segment\"]'\u001b[0m\u001b[0;34m)\u001b[0m\u001b[0;34m\u001b[0m\u001b[0;34m\u001b[0m\u001b[0m\n\u001b[0m\u001b[1;32m      7\u001b[0m     \u001b[0minfo_escalas\u001b[0m \u001b[0;34m=\u001b[0m \u001b[0;34m[\u001b[0m\u001b[0;34m]\u001b[0m\u001b[0;34m\u001b[0m\u001b[0;34m\u001b[0m\u001b[0m\n\u001b[1;32m      8\u001b[0m     \u001b[0;32mfor\u001b[0m \u001b[0msegmento\u001b[0m \u001b[0;32min\u001b[0m \u001b[0msegmentos\u001b[0m\u001b[0;34m:\u001b[0m\u001b[0;34m\u001b[0m\u001b[0;34m\u001b[0m\u001b[0m\n",
      "\u001b[0;32m~/anaconda3/lib/python3.7/site-packages/selenium/webdriver/remote/webelement.py\u001b[0m in \u001b[0;36mfind_elements_by_xpath\u001b[0;34m(self, xpath)\u001b[0m\n\u001b[1;32m    379\u001b[0m \u001b[0;34m\u001b[0m\u001b[0m\n\u001b[1;32m    380\u001b[0m         \"\"\"\n\u001b[0;32m--> 381\u001b[0;31m         \u001b[0;32mreturn\u001b[0m \u001b[0mself\u001b[0m\u001b[0;34m.\u001b[0m\u001b[0mfind_elements\u001b[0m\u001b[0;34m(\u001b[0m\u001b[0mby\u001b[0m\u001b[0;34m=\u001b[0m\u001b[0mBy\u001b[0m\u001b[0;34m.\u001b[0m\u001b[0mXPATH\u001b[0m\u001b[0;34m,\u001b[0m \u001b[0mvalue\u001b[0m\u001b[0;34m=\u001b[0m\u001b[0mxpath\u001b[0m\u001b[0;34m)\u001b[0m\u001b[0;34m\u001b[0m\u001b[0;34m\u001b[0m\u001b[0m\n\u001b[0m\u001b[1;32m    382\u001b[0m \u001b[0;34m\u001b[0m\u001b[0m\n\u001b[1;32m    383\u001b[0m     \u001b[0;32mdef\u001b[0m \u001b[0mfind_element_by_class_name\u001b[0m\u001b[0;34m(\u001b[0m\u001b[0mself\u001b[0m\u001b[0;34m,\u001b[0m \u001b[0mname\u001b[0m\u001b[0;34m)\u001b[0m\u001b[0;34m:\u001b[0m\u001b[0;34m\u001b[0m\u001b[0;34m\u001b[0m\u001b[0m\n",
      "\u001b[0;32m~/anaconda3/lib/python3.7/site-packages/selenium/webdriver/remote/webelement.py\u001b[0m in \u001b[0;36mfind_elements\u001b[0;34m(self, by, value)\u001b[0m\n\u001b[1;32m    683\u001b[0m \u001b[0;34m\u001b[0m\u001b[0m\n\u001b[1;32m    684\u001b[0m         return self._execute(Command.FIND_CHILD_ELEMENTS,\n\u001b[0;32m--> 685\u001b[0;31m                              {\"using\": by, \"value\": value})['value']\n\u001b[0m\u001b[1;32m    686\u001b[0m \u001b[0;34m\u001b[0m\u001b[0m\n\u001b[1;32m    687\u001b[0m     \u001b[0;32mdef\u001b[0m \u001b[0m__hash__\u001b[0m\u001b[0;34m(\u001b[0m\u001b[0mself\u001b[0m\u001b[0;34m)\u001b[0m\u001b[0;34m:\u001b[0m\u001b[0;34m\u001b[0m\u001b[0;34m\u001b[0m\u001b[0m\n",
      "\u001b[0;32m~/anaconda3/lib/python3.7/site-packages/selenium/webdriver/remote/webelement.py\u001b[0m in \u001b[0;36m_execute\u001b[0;34m(self, command, params)\u001b[0m\n\u001b[1;32m    631\u001b[0m             \u001b[0mparams\u001b[0m \u001b[0;34m=\u001b[0m \u001b[0;34m{\u001b[0m\u001b[0;34m}\u001b[0m\u001b[0;34m\u001b[0m\u001b[0;34m\u001b[0m\u001b[0m\n\u001b[1;32m    632\u001b[0m         \u001b[0mparams\u001b[0m\u001b[0;34m[\u001b[0m\u001b[0;34m'id'\u001b[0m\u001b[0;34m]\u001b[0m \u001b[0;34m=\u001b[0m \u001b[0mself\u001b[0m\u001b[0;34m.\u001b[0m\u001b[0m_id\u001b[0m\u001b[0;34m\u001b[0m\u001b[0;34m\u001b[0m\u001b[0m\n\u001b[0;32m--> 633\u001b[0;31m         \u001b[0;32mreturn\u001b[0m \u001b[0mself\u001b[0m\u001b[0;34m.\u001b[0m\u001b[0m_parent\u001b[0m\u001b[0;34m.\u001b[0m\u001b[0mexecute\u001b[0m\u001b[0;34m(\u001b[0m\u001b[0mcommand\u001b[0m\u001b[0;34m,\u001b[0m \u001b[0mparams\u001b[0m\u001b[0;34m)\u001b[0m\u001b[0;34m\u001b[0m\u001b[0;34m\u001b[0m\u001b[0m\n\u001b[0m\u001b[1;32m    634\u001b[0m \u001b[0;34m\u001b[0m\u001b[0m\n\u001b[1;32m    635\u001b[0m     \u001b[0;32mdef\u001b[0m \u001b[0mfind_element\u001b[0m\u001b[0;34m(\u001b[0m\u001b[0mself\u001b[0m\u001b[0;34m,\u001b[0m \u001b[0mby\u001b[0m\u001b[0;34m=\u001b[0m\u001b[0mBy\u001b[0m\u001b[0;34m.\u001b[0m\u001b[0mID\u001b[0m\u001b[0;34m,\u001b[0m \u001b[0mvalue\u001b[0m\u001b[0;34m=\u001b[0m\u001b[0;32mNone\u001b[0m\u001b[0;34m)\u001b[0m\u001b[0;34m:\u001b[0m\u001b[0;34m\u001b[0m\u001b[0;34m\u001b[0m\u001b[0m\n",
      "\u001b[0;32m~/anaconda3/lib/python3.7/site-packages/selenium/webdriver/remote/webdriver.py\u001b[0m in \u001b[0;36mexecute\u001b[0;34m(self, driver_command, params)\u001b[0m\n\u001b[1;32m    319\u001b[0m         \u001b[0mresponse\u001b[0m \u001b[0;34m=\u001b[0m \u001b[0mself\u001b[0m\u001b[0;34m.\u001b[0m\u001b[0mcommand_executor\u001b[0m\u001b[0;34m.\u001b[0m\u001b[0mexecute\u001b[0m\u001b[0;34m(\u001b[0m\u001b[0mdriver_command\u001b[0m\u001b[0;34m,\u001b[0m \u001b[0mparams\u001b[0m\u001b[0;34m)\u001b[0m\u001b[0;34m\u001b[0m\u001b[0;34m\u001b[0m\u001b[0m\n\u001b[1;32m    320\u001b[0m         \u001b[0;32mif\u001b[0m \u001b[0mresponse\u001b[0m\u001b[0;34m:\u001b[0m\u001b[0;34m\u001b[0m\u001b[0;34m\u001b[0m\u001b[0m\n\u001b[0;32m--> 321\u001b[0;31m             \u001b[0mself\u001b[0m\u001b[0;34m.\u001b[0m\u001b[0merror_handler\u001b[0m\u001b[0;34m.\u001b[0m\u001b[0mcheck_response\u001b[0m\u001b[0;34m(\u001b[0m\u001b[0mresponse\u001b[0m\u001b[0;34m)\u001b[0m\u001b[0;34m\u001b[0m\u001b[0;34m\u001b[0m\u001b[0m\n\u001b[0m\u001b[1;32m    322\u001b[0m             response['value'] = self._unwrap_value(\n\u001b[1;32m    323\u001b[0m                 response.get('value', None))\n",
      "\u001b[0;32m~/anaconda3/lib/python3.7/site-packages/selenium/webdriver/remote/errorhandler.py\u001b[0m in \u001b[0;36mcheck_response\u001b[0;34m(self, response)\u001b[0m\n\u001b[1;32m    240\u001b[0m                 \u001b[0malert_text\u001b[0m \u001b[0;34m=\u001b[0m \u001b[0mvalue\u001b[0m\u001b[0;34m[\u001b[0m\u001b[0;34m'alert'\u001b[0m\u001b[0;34m]\u001b[0m\u001b[0;34m.\u001b[0m\u001b[0mget\u001b[0m\u001b[0;34m(\u001b[0m\u001b[0;34m'text'\u001b[0m\u001b[0;34m)\u001b[0m\u001b[0;34m\u001b[0m\u001b[0;34m\u001b[0m\u001b[0m\n\u001b[1;32m    241\u001b[0m             \u001b[0;32mraise\u001b[0m \u001b[0mexception_class\u001b[0m\u001b[0;34m(\u001b[0m\u001b[0mmessage\u001b[0m\u001b[0;34m,\u001b[0m \u001b[0mscreen\u001b[0m\u001b[0;34m,\u001b[0m \u001b[0mstacktrace\u001b[0m\u001b[0;34m,\u001b[0m \u001b[0malert_text\u001b[0m\u001b[0;34m)\u001b[0m\u001b[0;34m\u001b[0m\u001b[0;34m\u001b[0m\u001b[0m\n\u001b[0;32m--> 242\u001b[0;31m         \u001b[0;32mraise\u001b[0m \u001b[0mexception_class\u001b[0m\u001b[0;34m(\u001b[0m\u001b[0mmessage\u001b[0m\u001b[0;34m,\u001b[0m \u001b[0mscreen\u001b[0m\u001b[0;34m,\u001b[0m \u001b[0mstacktrace\u001b[0m\u001b[0;34m)\u001b[0m\u001b[0;34m\u001b[0m\u001b[0;34m\u001b[0m\u001b[0m\n\u001b[0m\u001b[1;32m    243\u001b[0m \u001b[0;34m\u001b[0m\u001b[0m\n\u001b[1;32m    244\u001b[0m     \u001b[0;32mdef\u001b[0m \u001b[0m_value_or_default\u001b[0m\u001b[0;34m(\u001b[0m\u001b[0mself\u001b[0m\u001b[0;34m,\u001b[0m \u001b[0mobj\u001b[0m\u001b[0;34m,\u001b[0m \u001b[0mkey\u001b[0m\u001b[0;34m,\u001b[0m \u001b[0mdefault\u001b[0m\u001b[0;34m)\u001b[0m\u001b[0;34m:\u001b[0m\u001b[0;34m\u001b[0m\u001b[0;34m\u001b[0m\u001b[0m\n",
      "\u001b[0;31mInvalidSessionIdException\u001b[0m: Message: invalid session id\n"
     ]
    }
   ],
   "source": [
    "obtener_datos_escalas(vuelo)"
   ]
  },
  {
   "cell_type": "code",
   "execution_count": null,
   "metadata": {},
   "outputs": [],
   "source": [
    "obtener_precios(vuelo)"
   ]
  },
  {
   "cell_type": "code",
   "execution_count": 51,
   "metadata": {},
   "outputs": [],
   "source": [
    "def obtener_tiempos(vuelo):\n",
    "    '''\n",
    "    Función que retorna un diccionario con los horarios de salida y llegada de cada\n",
    "    vuelo, incluyendo la duración. \n",
    "    Nota: la duración del vuelo no es la hora de llegada - la hora de salida porque\n",
    "    puede haber diferencia de horarios entre el origen y el destino.\n",
    "    '''\n",
    "    # Hora de salida\n",
    "    salida = vuelo.find_element_by_xpath('.//div[@class=\"departure\"]/time').get_attribute('datetime')\n",
    "    # Hora de llegada\n",
    "    llegada = vuelo.find_element_by_xpath('.//div[@class=\"arrival\"]/time').get_attribute('datetime')\n",
    "    # Duracion\n",
    "    duracion = vuelo.find_element_by_xpath('.//span[@class=\"duration\"]/time').get_attribute('datetime')\n",
    "    tiempos = {'hora_salida': salida, 'hora_llegada': llegada, 'duracion': duracion}\n",
    "    return tiempos"
   ]
  },
  {
   "cell_type": "code",
   "execution_count": null,
   "metadata": {},
   "outputs": [],
   "source": [
    "obtener_tiemos(vuelo)"
   ]
  },
  {
   "cell_type": "code",
   "execution_count": 52,
   "metadata": {},
   "outputs": [],
   "source": [
    "def obtener_info(driver):\n",
    "    vuelos = driver.find_elements_by_xpath('//li[@class=\"flight\"]')\n",
    "    print(f'Se encontraron {len(vuelos)} vuelos.')\n",
    "    print('Iniciando scraping...')\n",
    "    info = []\n",
    "    for vuelo in vuelos:\n",
    "        #obtenemos los tiempos generales de cada vuelo\n",
    "        tiempos = obtener_tiempos(vuelo)\n",
    "        # Clickeamos sobre el boton de las escalas\n",
    "        vuelo.find_element_by_xpath('.//div[@class=\"flight-summary-stops-description\"]/button').click()\n",
    "        escalas = obtener_datos_escalas(vuelo)\n",
    "        # Cerramos el modal\n",
    "        driver.find_element_by_xpath('//div[@class=\"modal-dialog\"]//button[@class=\"close\"]').click()\n",
    "        # Clickeamos el vuelo para ver los precios\n",
    "        vuelo.click()\n",
    "        precios = obtener_precios(vuelo)\n",
    "        vuelo.click()\n",
    "        info.append({'precios':precios, 'tiempos': tiempos, 'escalas':escalas})\n",
    "    return info"
   ]
  },
  {
   "cell_type": "code",
   "execution_count": 54,
   "metadata": {},
   "outputs": [
    {
     "name": "stdout",
     "output_type": "stream",
     "text": [
      "Se encontraron 16 vuelos.\n",
      "Iniciando scraping...\n"
     ]
    },
    {
     "ename": "NoSuchElementException",
     "evalue": "Message: no such element: Unable to locate element: {\"method\":\"xpath\",\"selector\":\"//div[@class=\"modal-dialog\"]//button[@class=\"close\"]\"}\n  (Session info: chrome=81.0.4044.17)\n",
     "output_type": "error",
     "traceback": [
      "\u001b[0;31m-----------------------------------------------------------------\u001b[0m",
      "\u001b[0;31mNoSuchElementException\u001b[0m          Traceback (most recent call last)",
      "\u001b[0;32m<ipython-input-54-9776b0d29c86>\u001b[0m in \u001b[0;36m<module>\u001b[0;34m\u001b[0m\n\u001b[1;32m      6\u001b[0m \u001b[0;31m# Introducir demora\u001b[0m\u001b[0;34m\u001b[0m\u001b[0;34m\u001b[0m\u001b[0;34m\u001b[0m\u001b[0m\n\u001b[1;32m      7\u001b[0m \u001b[0mtime\u001b[0m\u001b[0;34m.\u001b[0m\u001b[0msleep\u001b[0m\u001b[0;34m(\u001b[0m\u001b[0;36m20\u001b[0m\u001b[0;34m)\u001b[0m\u001b[0;34m\u001b[0m\u001b[0;34m\u001b[0m\u001b[0m\n\u001b[0;32m----> 8\u001b[0;31m \u001b[0mobtener_info\u001b[0m\u001b[0;34m(\u001b[0m\u001b[0mdrive\u001b[0m\u001b[0;34m)\u001b[0m\u001b[0;34m\u001b[0m\u001b[0;34m\u001b[0m\u001b[0m\n\u001b[0m\u001b[1;32m      9\u001b[0m \u001b[0;31m#driver.close()\u001b[0m\u001b[0;34m\u001b[0m\u001b[0;34m\u001b[0m\u001b[0;34m\u001b[0m\u001b[0m\n",
      "\u001b[0;32m<ipython-input-52-85c43576cb79>\u001b[0m in \u001b[0;36mobtener_info\u001b[0;34m(driver)\u001b[0m\n\u001b[1;32m     11\u001b[0m         \u001b[0mescalas\u001b[0m \u001b[0;34m=\u001b[0m \u001b[0mobtener_datos_escalas\u001b[0m\u001b[0;34m(\u001b[0m\u001b[0mvuelo\u001b[0m\u001b[0;34m)\u001b[0m\u001b[0;34m\u001b[0m\u001b[0;34m\u001b[0m\u001b[0m\n\u001b[1;32m     12\u001b[0m         \u001b[0;31m# Cerramos el modal\u001b[0m\u001b[0;34m\u001b[0m\u001b[0;34m\u001b[0m\u001b[0;34m\u001b[0m\u001b[0m\n\u001b[0;32m---> 13\u001b[0;31m         \u001b[0mdriver\u001b[0m\u001b[0;34m.\u001b[0m\u001b[0mfind_element_by_xpath\u001b[0m\u001b[0;34m(\u001b[0m\u001b[0;34m'//div[@class=\"modal-dialog\"]//button[@class=\"close\"]'\u001b[0m\u001b[0;34m)\u001b[0m\u001b[0;34m.\u001b[0m\u001b[0mclick\u001b[0m\u001b[0;34m(\u001b[0m\u001b[0;34m)\u001b[0m\u001b[0;34m\u001b[0m\u001b[0;34m\u001b[0m\u001b[0m\n\u001b[0m\u001b[1;32m     14\u001b[0m         \u001b[0;31m# Clickeamos el vuelo para ver los precios\u001b[0m\u001b[0;34m\u001b[0m\u001b[0;34m\u001b[0m\u001b[0;34m\u001b[0m\u001b[0m\n\u001b[1;32m     15\u001b[0m         \u001b[0mvuelo\u001b[0m\u001b[0;34m.\u001b[0m\u001b[0mclick\u001b[0m\u001b[0;34m(\u001b[0m\u001b[0;34m)\u001b[0m\u001b[0;34m\u001b[0m\u001b[0;34m\u001b[0m\u001b[0m\n",
      "\u001b[0;32m~/anaconda3/lib/python3.7/site-packages/selenium/webdriver/remote/webdriver.py\u001b[0m in \u001b[0;36mfind_element_by_xpath\u001b[0;34m(self, xpath)\u001b[0m\n\u001b[1;32m    392\u001b[0m             \u001b[0melement\u001b[0m \u001b[0;34m=\u001b[0m \u001b[0mdriver\u001b[0m\u001b[0;34m.\u001b[0m\u001b[0mfind_element_by_xpath\u001b[0m\u001b[0;34m(\u001b[0m\u001b[0;34m'//div/td[1]'\u001b[0m\u001b[0;34m)\u001b[0m\u001b[0;34m\u001b[0m\u001b[0;34m\u001b[0m\u001b[0m\n\u001b[1;32m    393\u001b[0m         \"\"\"\n\u001b[0;32m--> 394\u001b[0;31m         \u001b[0;32mreturn\u001b[0m \u001b[0mself\u001b[0m\u001b[0;34m.\u001b[0m\u001b[0mfind_element\u001b[0m\u001b[0;34m(\u001b[0m\u001b[0mby\u001b[0m\u001b[0;34m=\u001b[0m\u001b[0mBy\u001b[0m\u001b[0;34m.\u001b[0m\u001b[0mXPATH\u001b[0m\u001b[0;34m,\u001b[0m \u001b[0mvalue\u001b[0m\u001b[0;34m=\u001b[0m\u001b[0mxpath\u001b[0m\u001b[0;34m)\u001b[0m\u001b[0;34m\u001b[0m\u001b[0;34m\u001b[0m\u001b[0m\n\u001b[0m\u001b[1;32m    395\u001b[0m \u001b[0;34m\u001b[0m\u001b[0m\n\u001b[1;32m    396\u001b[0m     \u001b[0;32mdef\u001b[0m \u001b[0mfind_elements_by_xpath\u001b[0m\u001b[0;34m(\u001b[0m\u001b[0mself\u001b[0m\u001b[0;34m,\u001b[0m \u001b[0mxpath\u001b[0m\u001b[0;34m)\u001b[0m\u001b[0;34m:\u001b[0m\u001b[0;34m\u001b[0m\u001b[0;34m\u001b[0m\u001b[0m\n",
      "\u001b[0;32m~/anaconda3/lib/python3.7/site-packages/selenium/webdriver/remote/webdriver.py\u001b[0m in \u001b[0;36mfind_element\u001b[0;34m(self, by, value)\u001b[0m\n\u001b[1;32m    976\u001b[0m         return self.execute(Command.FIND_ELEMENT, {\n\u001b[1;32m    977\u001b[0m             \u001b[0;34m'using'\u001b[0m\u001b[0;34m:\u001b[0m \u001b[0mby\u001b[0m\u001b[0;34m,\u001b[0m\u001b[0;34m\u001b[0m\u001b[0;34m\u001b[0m\u001b[0m\n\u001b[0;32m--> 978\u001b[0;31m             'value': value})['value']\n\u001b[0m\u001b[1;32m    979\u001b[0m \u001b[0;34m\u001b[0m\u001b[0m\n\u001b[1;32m    980\u001b[0m     \u001b[0;32mdef\u001b[0m \u001b[0mfind_elements\u001b[0m\u001b[0;34m(\u001b[0m\u001b[0mself\u001b[0m\u001b[0;34m,\u001b[0m \u001b[0mby\u001b[0m\u001b[0;34m=\u001b[0m\u001b[0mBy\u001b[0m\u001b[0;34m.\u001b[0m\u001b[0mID\u001b[0m\u001b[0;34m,\u001b[0m \u001b[0mvalue\u001b[0m\u001b[0;34m=\u001b[0m\u001b[0;32mNone\u001b[0m\u001b[0;34m)\u001b[0m\u001b[0;34m:\u001b[0m\u001b[0;34m\u001b[0m\u001b[0;34m\u001b[0m\u001b[0m\n",
      "\u001b[0;32m~/anaconda3/lib/python3.7/site-packages/selenium/webdriver/remote/webdriver.py\u001b[0m in \u001b[0;36mexecute\u001b[0;34m(self, driver_command, params)\u001b[0m\n\u001b[1;32m    319\u001b[0m         \u001b[0mresponse\u001b[0m \u001b[0;34m=\u001b[0m \u001b[0mself\u001b[0m\u001b[0;34m.\u001b[0m\u001b[0mcommand_executor\u001b[0m\u001b[0;34m.\u001b[0m\u001b[0mexecute\u001b[0m\u001b[0;34m(\u001b[0m\u001b[0mdriver_command\u001b[0m\u001b[0;34m,\u001b[0m \u001b[0mparams\u001b[0m\u001b[0;34m)\u001b[0m\u001b[0;34m\u001b[0m\u001b[0;34m\u001b[0m\u001b[0m\n\u001b[1;32m    320\u001b[0m         \u001b[0;32mif\u001b[0m \u001b[0mresponse\u001b[0m\u001b[0;34m:\u001b[0m\u001b[0;34m\u001b[0m\u001b[0;34m\u001b[0m\u001b[0m\n\u001b[0;32m--> 321\u001b[0;31m             \u001b[0mself\u001b[0m\u001b[0;34m.\u001b[0m\u001b[0merror_handler\u001b[0m\u001b[0;34m.\u001b[0m\u001b[0mcheck_response\u001b[0m\u001b[0;34m(\u001b[0m\u001b[0mresponse\u001b[0m\u001b[0;34m)\u001b[0m\u001b[0;34m\u001b[0m\u001b[0;34m\u001b[0m\u001b[0m\n\u001b[0m\u001b[1;32m    322\u001b[0m             response['value'] = self._unwrap_value(\n\u001b[1;32m    323\u001b[0m                 response.get('value', None))\n",
      "\u001b[0;32m~/anaconda3/lib/python3.7/site-packages/selenium/webdriver/remote/errorhandler.py\u001b[0m in \u001b[0;36mcheck_response\u001b[0;34m(self, response)\u001b[0m\n\u001b[1;32m    240\u001b[0m                 \u001b[0malert_text\u001b[0m \u001b[0;34m=\u001b[0m \u001b[0mvalue\u001b[0m\u001b[0;34m[\u001b[0m\u001b[0;34m'alert'\u001b[0m\u001b[0;34m]\u001b[0m\u001b[0;34m.\u001b[0m\u001b[0mget\u001b[0m\u001b[0;34m(\u001b[0m\u001b[0;34m'text'\u001b[0m\u001b[0;34m)\u001b[0m\u001b[0;34m\u001b[0m\u001b[0;34m\u001b[0m\u001b[0m\n\u001b[1;32m    241\u001b[0m             \u001b[0;32mraise\u001b[0m \u001b[0mexception_class\u001b[0m\u001b[0;34m(\u001b[0m\u001b[0mmessage\u001b[0m\u001b[0;34m,\u001b[0m \u001b[0mscreen\u001b[0m\u001b[0;34m,\u001b[0m \u001b[0mstacktrace\u001b[0m\u001b[0;34m,\u001b[0m \u001b[0malert_text\u001b[0m\u001b[0;34m)\u001b[0m\u001b[0;34m\u001b[0m\u001b[0;34m\u001b[0m\u001b[0m\n\u001b[0;32m--> 242\u001b[0;31m         \u001b[0;32mraise\u001b[0m \u001b[0mexception_class\u001b[0m\u001b[0;34m(\u001b[0m\u001b[0mmessage\u001b[0m\u001b[0;34m,\u001b[0m \u001b[0mscreen\u001b[0m\u001b[0;34m,\u001b[0m \u001b[0mstacktrace\u001b[0m\u001b[0;34m)\u001b[0m\u001b[0;34m\u001b[0m\u001b[0;34m\u001b[0m\u001b[0m\n\u001b[0m\u001b[1;32m    243\u001b[0m \u001b[0;34m\u001b[0m\u001b[0m\n\u001b[1;32m    244\u001b[0m     \u001b[0;32mdef\u001b[0m \u001b[0m_value_or_default\u001b[0m\u001b[0;34m(\u001b[0m\u001b[0mself\u001b[0m\u001b[0;34m,\u001b[0m \u001b[0mobj\u001b[0m\u001b[0;34m,\u001b[0m \u001b[0mkey\u001b[0m\u001b[0;34m,\u001b[0m \u001b[0mdefault\u001b[0m\u001b[0;34m)\u001b[0m\u001b[0;34m:\u001b[0m\u001b[0;34m\u001b[0m\u001b[0;34m\u001b[0m\u001b[0m\n",
      "\u001b[0;31mNoSuchElementException\u001b[0m: Message: no such element: Unable to locate element: {\"method\":\"xpath\",\"selector\":\"//div[@class=\"modal-dialog\"]//button[@class=\"close\"]\"}\n  (Session info: chrome=81.0.4044.17)\n"
     ]
    }
   ],
   "source": [
    "import time\n",
    "options = webdriver.ChromeOptions()\n",
    "options.add_argument('--incognito')\n",
    "drive = webdriver.Chrome(executable_path='./chromedriver', options=options)\n",
    "drive.get(url)\n",
    "# Introducir demora\n",
    "time.sleep(20)\n",
    "obtener_info(drive)\n",
    "#driver.close()"
   ]
  },
  {
   "cell_type": "code",
   "execution_count": null,
   "metadata": {},
   "outputs": [],
   "source": []
  }
 ],
 "metadata": {
  "kernelspec": {
   "display_name": "Python 3",
   "language": "python",
   "name": "python3"
  },
  "language_info": {
   "codemirror_mode": {
    "name": "ipython",
    "version": 3
   },
   "file_extension": ".py",
   "mimetype": "text/x-python",
   "name": "python",
   "nbconvert_exporter": "python",
   "pygments_lexer": "ipython3",
   "version": "3.7.4"
  }
 },
 "nbformat": 4,
 "nbformat_minor": 2
}
