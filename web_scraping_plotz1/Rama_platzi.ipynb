{
 "cells": [
  {
   "cell_type": "code",
   "execution_count": 1,
   "metadata": {},
   "outputs": [],
   "source": [
    "import requests"
   ]
  },
  {
   "cell_type": "code",
   "execution_count": 2,
   "metadata": {},
   "outputs": [],
   "source": [
    "url = 'https://consultaprocesos.ramajudicial.gov.co/Procesos/NumeroRadicacion'"
   ]
  },
  {
   "cell_type": "code",
   "execution_count": 3,
   "metadata": {},
   "outputs": [],
   "source": [
    "rama = requests.get(url)"
   ]
  },
  {
   "cell_type": "code",
   "execution_count": 4,
   "metadata": {},
   "outputs": [
    {
     "data": {
      "text/plain": [
       "200"
      ]
     },
     "execution_count": 4,
     "metadata": {},
     "output_type": "execute_result"
    }
   ],
   "source": [
    "rama.status_code"
   ]
  },
  {
   "cell_type": "code",
   "execution_count": 5,
   "metadata": {},
   "outputs": [
    {
     "name": "stdout",
     "output_type": "stream",
     "text": [
      "<!DOCTYPE html>\r\n",
      "<html lang=\"es-co\">\r\n",
      "<head>\r\n",
      "    <meta charset=\"utf-8\" />\r\n",
      "    <meta name=\"viewport\" content=\"width=device-width, initial-scale=1.0\">\r\n",
      "    <meta http-equiv=\"X-UA-Compatible\" content=\"ie=edge\">\r\n",
      "\r\n",
      "    <link rel=\"stylesheet\"\r\n",
      "          href=\"https://maxcdn.bootstrapcdn.com/bootstrap/3.3.7/css/bootstrap.min.css\"\r\n",
      "          integrity=\"sha384-BVYiiSIFeK1dGmJRAkycuHAHRg32OmUcww7on3RYdg4Va+PmSTsz/K68vbdEjh4u\"\r\n",
      "          crossorigin=\"anonymous\">\r\n",
      "    <link rel=\"stylesheet\" type=\"text/css\" href=\"/css/main.css\">\r\n",
      "    <link rel=\"stylesheet\" type=\"text/css\" href=\"/css/dataTables.bootstrap.min.css\" />\r\n",
      "    <link rel=\"stylesheet\" type=\"text/css\" href=\"/css/consulta_procesos.css\" />\r\n",
      "    <link rel=\"stylesheet\" type=\"text/css\" href=\"/css/home-consultas.css\">\r\n",
      "    <!-- <link rel=\"stylesheet\" type=\"text/css\" href=\"~/css/header.css\"> -->\r\n",
      "    <link rel=\"stylesheet\" type=\"text/css\" href=\"/css/navigation.css\">\r\n",
      "    <!-- <link rel=\"stylesheet\" type=\"text/css\" href=\"~/css/footer.css\"> -->\r\n",
      "    <link rel=\"stylesheet\" href=\"//code.jquery.com/ui/1.12.1/themes/base/jquery-ui.css\">\r\n",
      "\r\n",
      "    <script src=\"https://code.jquery.com/jquery-3.3.1.min.js\"\r\n",
      "            integrity=\"sha256-FgpCb/KJQlLNfOu91ta32o/NMZxltwRo8QtmkMRdAu8=\"\r\n",
      "            crossorigin=\"anonymous\">\r\n",
      "    </script>\r\n",
      "\r\n",
      "\r\n",
      "\r\n",
      "    <title>Consulta de Procesos por N&#xFA;mero de Radicaci&#xF3;n - Consejo Superior de la Judicatura</title>\r\n",
      "\r\n",
      "    \r\n",
      "    <script src='https://www.google.com/recaptcha/api.js?render=6LctLIEUAAAAAMl0mYJfTndodGUrrlds2c5za3KV'></script>\r\n",
      "\r\n",
      "\r\n",
      "</head>\r\n",
      "<body>\r\n",
      "    <div class=\"container-consulta-procesos\">\r\n",
      "        <header aria-label=\"Encabezado\" id=\"banner\" role=\"banner\">\r\n",
      "            <a id=\"skip-to-content\" href=\"#mainContent\">Saltar a contenido principal</a>\r\n",
      "            <div id=\"heading\">\r\n",
      "                <nav aria-label=\"Enlaces a sitios de la rama judicial Colombiana\" id=\"top_navigation\">\r\n",
      "                    <ul>\r\n",
      "                        <li>\r\n",
      "                            <a href=\"https://www.ramajudicial.gov.co/web/consejo-superior-de-la-judicatura/portal/inicio\" target=\"_blank\" title=\"Consejo Superior de la Judicatura\">\r\n",
      "                                <span aria-hidden=\"true\" class=\"green-consejo\">Consejo Superior de la Judicatura</span>\r\n",
      "                            </a>\r\n",
      "                        </li>\r\n",
      "                        <li>\r\n",
      "                            <a href=\"http://www.cortesuprema.gov.co/\" title=\"Corte Suprema de Justicia\" target=\"_blank\">\r\n",
      "                                <span aria-hidden=\"true\" class=\"yellow\">Corte Suprema de Justicia</span>\r\n",
      "                            </a>\r\n",
      "                        </li>\r\n",
      "                        <li>\r\n",
      "                            <a href=\"http://www.consejodeestado.gov.co/\" title=\"Consejo de Estado\" target=\"_blank\">\r\n",
      "                                <span aria-hidden=\"true\" class=\"blue\">Consejo de Estado</span>\r\n",
      "                            </a>\r\n",
      "                        </li>\r\n",
      "                        <li>\r\n",
      "                            <a href=\"http://www.corteconstitucional.gov.co/\" target=\"_blank\" title=\"Corte Constitucional\">\r\n",
      "                                <span aria-hidden=\"true\" class=\"red\">Corte Constitucional</span>\r\n",
      "                            </a>\r\n",
      "                        </li>\r\n",
      "                        <li>\r\n",
      "                            <a href=\"https://www.ramajudicial.gov.co/web/sala-disciplinaria/inicio\" target=\"_blank\" title=\"Sala Jurisdiccional Disciplinaria\">\r\n",
      "                                <span aria-hidden=\"true\" class=\"green-sala\">Sala Jurisdiccional Disciplinaria</span>\r\n",
      "                            </a>\r\n",
      "                        </li>\r\n",
      "                    </ul>\r\n",
      "                </nav>\r\n",
      "                <div class=\"site-title-content col-md-3\">\r\n",
      "                    <div class=\"box-logo\">\r\n",
      "                        <a class=\"logo custom-logo\" title=\"Ir a La Rama Judicial\" href=\"https://www.ramajudicial.gov.co/\" target=\"_blank\">\r\n",
      "                            <img alt=\"Ir a La Rama Judicial\" class=\"block-margin-img1\" height=\"110\" src=\"/images/logo1.png\">\r\n",
      "                        </a>\r\n",
      "                        <a href=\"/Procesos/Index#menuDeConsultas\"\r\n",
      "                           tabindex=\"0\"\r\n",
      "                           aria-label=\"Ir al inicio de la aplicación\"\r\n",
      "                           class=\"link-inicio\">\r\n",
      "                            INICIO\r\n",
      "                        </a>\r\n",
      "                    </div>\r\n",
      "                </div>\r\n",
      "                <div class=\"site-title-content col-md-6\">\r\n",
      "                    <span class=\"currentDate\">febrero 16 - 2020</span>\r\n",
      "                    <div id=\"searchBox\" class=\"row\">\r\n",
      "                        <div class=\"col-xs-2 icons-search\">\r\n",
      "                            <a href=\"http://www.convertic.gov.co/641/w3-channel.html\" title=\"Obtener Software para Accesibilidad\" target=\"_blank\">\r\n",
      "                                <i aria-hidden=\"true\" class=\"fas fa-eye\"></i>\r\n",
      "                            </a>\r\n",
      "                        </div>\r\n",
      "                        <div class=\"col-xs-10\">\r\n",
      "                            <h1>CONSULTA DE PROCESOS<br>NACIONAL UNIFICADA</h1>\r\n",
      "                        </div>\r\n",
      "                        <div class=\"col-xs-2 icons-search\">\r\n",
      "                        </div>\r\n",
      "                    </div>\r\n",
      "                </div>\r\n",
      "                <div class=\"site-title-content col-md-3 hidden-xs\">\r\n",
      "                    <div class=\"box-logo\">\r\n",
      "                        <a class=\"logo secondLogo\" title=\"Ir a la Presidencia de la República de Colombia\" href=\"https://id.presidencia.gov.co/Paginas/presidencia.aspx\" target=\"_blank\">\r\n",
      "                            <img src=\"/images/EscudoColombia.png\" class=\"block-margin-img1\" alt=\"Ir a la Presidencia de la República de Colombia\">\r\n",
      "                        </a>\r\n",
      "                        <a href=\"/Documentacion/Ayuda.html\" class=\"link-inicio\">AYUDA</a>\r\n",
      "                    </div>\r\n",
      "                </div>\r\n",
      "            </div>\r\n",
      "            <nav aria-label=\"Menú principal\" class=\"navbar navbar-default\" role=\"navigation\" id=\"navigation\">\r\n",
      "            </nav>\r\n",
      "        </header>\r\n",
      "        <main aria-label=\"Cuerpo\" id=\"mainContent\" tabindex=\"-1\">\r\n",
      "            \r\n",
      "<div id=\"myModal\" class=\"modal fade\" role=\"alertdialog\">\r\n",
      "    <div class=\"modal-dialog\">\r\n",
      "        <div class=\"modal-content\">\r\n",
      "            <div class=\"modal-header\">\r\n",
      "                <button type=\"button\" class=\"close\" data-dismiss=\"modal\">&times;</button>\r\n",
      "                <div class=\"titulo-h4 modal-title\">MENSAJE</div>\r\n",
      "            </div>\r\n",
      "            <div class=\"modal-body\">\r\n",
      "                <p id=\"myModalMessage\" tabindex=\"0\" class=\"alert alert-info\" role=\"alert\">\r\n",
      "                    Consultando Información...\r\n",
      "                </p>\r\n",
      "                <button id=\"myModalClose\" type=\"button\" class=\"btn greend\" \r\n",
      "                        data-dismiss=\"modal\">VOLVER</button>\r\n",
      "            </div>\r\n",
      "        </div>\r\n",
      "    </div>\r\n",
      "</div>\r\n",
      "<div id=\"paramsImpresion\" class=\"modal fade\" role=\"alertdialog\">\r\n",
      "    <div class=\"modal-dialog\">\r\n",
      "        <div class=\"modal-content\">\r\n",
      "            <div class=\"modal-header\">\r\n",
      "                <button type=\"button\" class=\"close\" data-dismiss=\"modal\">&times;</button>\r\n",
      "                <div class=\"titulo-h4 modal-title\">PARAMETROS DE IMPRESION</div>\r\n",
      "            </div>\r\n",
      "            <div class=\"modal-body\">\r\n",
      "                Favor ingresar rango de páginas a imprimir, hasta 20 páginas por vez, <br />\r\n",
      "                Ejm: 1-20, 21-40, 41-60.\r\n",
      "                <hr />\r\n",
      "                <div id=\"paramsImpresion_Msg\" class=\"alert alert-danger\" role=\"alertdialog\" hidden>\r\n",
      "                    <a href=\"#\" class=\"close\" aria-label=\"Cerrar Mensaje\">&times;</a>\r\n",
      "                    <span style=\"font-size:13px;\" id=\"paramsImpresion_MsgText\"></span>\r\n",
      "                </div>\r\n",
      "                <input type=\"hidden\" id=\"paramsImpresion_Tipo\" />\r\n",
      "                <label for=\"paginaDesde\">Desde </label> <input id=\"paginaDesde\" type=\"number\" min=\"1\" />\r\n",
      "                <label for=\"paginaHasta\">Hasta </label> <input id=\"paginaHasta\" type=\"number\" min=\"1\" />\r\n",
      "                <hr />\r\n",
      "                <button type=\"button\" class=\"btn greend\"\r\n",
      "                        onclick=\"descargarProcesos_Modal()\">\r\n",
      "                    ACEPTAR\r\n",
      "                </button>\r\n",
      "                <button type=\"button\" class=\"btn greyb\" data-dismiss=\"modal\">CANDELAR</button>\r\n",
      "            </div>\r\n",
      "        </div>\r\n",
      "    </div>\r\n",
      "</div>\r\n",
      "\r\n",
      "<div class=\"container-fluid table-tiles\">\r\n",
      "    <div class=\"row\" style=\"font-size:14px; margin-top:20px; margin-right: 0px; margin-left: 0px; text-align: left;\">\r\n",
      "        <a style=\"color: #808080;\" href=\"/\">\r\n",
      "            <i aria-hidden=\"true\" class=\"fas fa-arrow-left\"></i> Regresar a Opciones de Consulta</a>\r\n",
      "    </div>\r\n",
      "    \r\n",
      "\r\n",
      "<div class=\"row title\">\r\n",
      "    <i aria-hidden=\"true\" class=\"fas fa-list-ol\"></i>\r\n",
      "    <h2><label for=\"NumeroRadicacion\">Número de Radicación</label></h2>\r\n",
      "    <div class=\"titulo-h4\">Aquí encontrará la manera más fácil de consultar su proceso.</div>\r\n",
      "</div>\r\n",
      "<form id=\"Consulta\" class=\"consulta\" action=\"/Procesos/NumeroRadicacion\" method=\"post\">\r\n",
      "\r\n",
      "<input id=\"g-captcha\" name=\"g-captcha\" type=\"hidden\" />\r\n",
      "<input type=\"hidden\" data-val=\"true\" data-val-required=\"The IdProceso field is required.\" id=\"IdProceso\" name=\"IdProceso\" value=\"0\" />\r\n",
      "<input type=\"hidden\" id=\"TipoConsulta\" name=\"TipoConsulta\" value=\"NumeroRadicacion\" />\r\n",
      "<input type=\"hidden\" data-val=\"true\" data-val-required=\"The Pagina field is required.\" id=\"ListaProcesos_Paginacion_Pagina\" name=\"ListaProcesos.Paginacion.Pagina\" value=\"1\" />\r\n",
      "<input type=\"hidden\" data-val=\"true\" data-val-required=\"The CantidadPaginas field is required.\" id=\"ListaProcesos_Paginacion_CantidadPaginas\" name=\"ListaProcesos.Paginacion.CantidadPaginas\" value=\"0\" />\r\n",
      "<input type=\"hidden\" id=\"ListaProcesos_Paginacion_Paginas\" name=\"ListaProcesos.Paginacion.Paginas\" value=\"\" />\r\n",
      "\r\n",
      "    <div class=\"form-group selectable\">\r\n",
      "        <input class=\"cp-required\" autofocus onkeypress=\"return onlyNumbers(event)\" maxlength=\"23\" placeholder=\"Ingrese los 23 dígitos del número de radicación\" type=\"text\" data-val=\"true\" data-val-length=\"El n&#xFA;mero de radicaci&#xF3;n ha de ser de 23 d&#xED;gitos:\" data-val-length-max=\"23\" data-val-length-min=\"23\" data-val-regex=\"El n&#xFA;mero de radicaci&#xF3;n ha de estar conformado unicamente por d&#xED;gitos (0 al 9).\" data-val-regex-pattern=\"\\d&#x2B;\" data-val-required=\"Se ha de ingresar el n&#xFA;mero de radicaci&#xF3;n.\" id=\"NumeroRadicacion\" name=\"NumeroRadicacion\" value=\"\" />\r\n",
      "        <br />\r\n",
      "        <span class=\"cp-text-danger-block field-validation-valid\" role=\"alert\" data-valmsg-for=\"NumeroRadicacion\" data-valmsg-replace=\"true\"></span>\r\n",
      "    </div>\r\n",
      "    <div class=\"form-group buttongroup\">\r\n",
      "        <button type=\"submit\" class=\"btn greend\">CONSULTAR</button>\r\n",
      "        <button type=\"button\" class=\"btn greyb\" onclick=\"location.href='/Procesos/NumeroRadicacion'\">NUEVA CONSULTA</button>\r\n",
      "    </div>\r\n",
      "    <!-- spinner-border, #1 -->\r\n",
      "    <div class=\"spinner-border text-primary\" role=\"status\">\r\n",
      "        <span class=\"sr-only\">Loading</span>\r\n",
      "    </div>\r\n",
      "<input name=\"__RequestVerificationToken\" type=\"hidden\" value=\"CfDJ8EOten-GceJPop59mxguO4bKN_261iLLFQDXEeuDR4ac1Z9_7kmaud6ReDAIMxw2bDz1RoG9ZAO71fMykOavjvpT9dd_7aoMRu_NBMDXP71-__VgsAUgeOmnPpZjXfKbdovW90zhHMEf_cYeidpfqzY\" /></form>\r\n",
      "\r\n",
      "\r\n",
      "</div>\r\n",
      "\r\n",
      "\r\n",
      "\r\n",
      "\r\n",
      "\r\n",
      "\r\n",
      "    \r\n",
      "<p/>\r\n",
      "\r\n",
      "        </main>\r\n",
      "        <footer aria-label=\"Pie de Página\" id=\"footer\">\r\n",
      "            <div id=\"rama-footer\" class=\"row\">\r\n",
      "                <section aria-label=\"Datos de la Rama Judicial\" class=\"col-lg-offset-4 col-md-offset-4 col-lg-4 col-md-4 col-xs-12 section-footer\">\r\n",
      "                    <p style=\"text-align: center;\"> <a href=\"https://www.ramajudicial.gov.co/portal/politicas-de-privacidad-y-condiciones-de-uso\" class=\"enlace-footer\"><span>Politicas de Privacidad y Condiciones de Uso</span></a></p>\r\n",
      "                    <p style=\"text-align: center;\"> <span style=\"color:#ffffff;\">Calle 12 No. 7 - 65 Bogotá Colombia</span></p>\r\n",
      "                    <p style=\"text-align: center;\"> <span style=\"color:#ffffff;\">Soporte: Teléfono 5658500 Ext 7559 o al correo electrónico soportepaginaweb1@cendoj.ramajudicial.gov.co</span></p>\r\n",
      "\r\n",
      "                </section>\r\n",
      "            </div>\r\n",
      "        </footer>\r\n",
      "    </div>\r\n",
      "    <!-- Global site tag (gtag.js) - Google Analytics -->\r\n",
      "    <script async src=\"https://www.googletagmanager.com/gtag/js?id=UA-154252976-1\"></script>\r\n",
      "    <script>\r\n",
      "        window.dataLayer = window.dataLayer || [];\r\n",
      "        function gtag() { dataLayer.push(arguments); }\r\n",
      "        gtag('js', new Date());\r\n",
      "\r\n",
      "        gtag('config', 'UA-154252976-1');\r\n",
      "    </script>\r\n",
      "\r\n",
      "    <script src=\"https://maxcdn.bootstrapcdn.com/bootstrap/3.3.7/js/bootstrap.min.js\"\r\n",
      "            integrity=\"sha384-Tc5IQib027qvyjSMfHjOMaLkfuWVxZxUPnCJA7l2mCWNIpG9mGCD8wGNIcPD7Txa\"\r\n",
      "            crossorigin=\"anonymous\">\r\n",
      "    </script>\r\n",
      "\r\n",
      "    <script type=\"text/javascript\" src=\"/js/main.js\"></script>\r\n",
      "    <script type=\"text/javascript\" src=\"/js/jquery.dataTables.min.js\"></script>\r\n",
      "    <script type=\"text/javascript\" src=\"/js/dataTables.bootstrap.min.js\"></script>\r\n",
      "    \r\n",
      "    <script src=\"/js/consulta_procesos.js\"></script>\r\n",
      "    <script>\r\n",
      "\r\n",
      "        function descargarProcesos_Modal() {\r\n",
      "\r\n",
      "            let paginaDesde = Number($(\"#paginaDesde\").val()) || 0\r\n",
      "            let paginaHasta = Number($(\"#paginaHasta\").val()) || 0\r\n",
      "            console.log(paginaDesde, paginaHasta)\r\n",
      "\r\n",
      "            // Validar entradas\r\n",
      "            if (!(paginaDesde >= 1 && paginaHasta >= paginaDesde)) {\r\n",
      "                $(\"#paramsImpresion_MsgText\").html(\"La página desde ha de ser mayor o igual a 1 <br>y la página hasta igual o mayor a la página desde\")\r\n",
      "                $(\"#paramsImpresion_Msg\").show()\r\n",
      "                return\r\n",
      "            }\r\n",
      "\r\n",
      "            // Cerrar emergente y cerrarlo\r\n",
      "            $(\"#paramsImpresion\").modal('hide');\r\n",
      "            //$(\"#paramsImpresion\").hide()\r\n",
      "\r\n",
      "            descargarProcesos($(\"#paramsImpresion_Tipo\").val(), paginaDesde, paginaHasta)\r\n",
      "        }\r\n",
      "\r\n",
      "        grecaptcha.ready(function () {\r\n",
      "            grecaptcha.execute('6LctLIEUAAAAAMl0mYJfTndodGUrrlds2c5za3KV', { action: 'ConsultaProceso' }).then(function (token) {\r\n",
      "                document.getElementById('g-captcha').value = token\r\n",
      "                // Colocar aria-label a texarea creada por el reCaptcha\r\n",
      "                $(\"#g-recaptcha-response-100000\").attr('aria-label', 'Google reCaptcha Response')\r\n",
      "            });\r\n",
      "        });\r\n",
      "\r\n",
      "        function handleKeyPress(evt) {\r\n",
      "            var nbr, chr;\r\n",
      "            if (window.Event) nbr = evt.which;\r\n",
      "            else nbr = event.keyCode;\r\n",
      "            if (nbr == 13) {\r\n",
      "                if ($(\"#myModal\").is(':visible'))\r\n",
      "                    $(\"#myModal\").modal('hide')\r\n",
      "                else if ($(\"#paramsImpresion\").is(':visible'))\r\n",
      "                    descargarProcesos_Modal()\r\n",
      "                else\r\n",
      "                    document.getElementById(\"Consulta\").submit();\r\n",
      "            }\r\n",
      "            else if (nbr == 27) {\r\n",
      "                if ($(\"#myModal\").is(':visible'))\r\n",
      "                    $(\"#myModal\").modal('hide')\r\n",
      "                else if ($(\"#paramsImpresion\").is(':visible'))\r\n",
      "                    $(\"#paramsImpresion\").modal('hide')\r\n",
      "            }\r\n",
      "            return true;\r\n",
      "        }\r\n",
      "        document.onkeydown = handleKeyPress\r\n",
      "\r\n",
      "\r\n",
      "        $(document).ready(function () {\r\n",
      "            ////$('#myModalClose').focusin(function cerrarDialogo() {\r\n",
      "            ////    $(\"#myModal\").modal('hide');\r\n",
      "            ////})\r\n",
      "\r\n",
      "            $('#myModal').on('shown.bs.modal', function () {\r\n",
      "                console.log('On shown.bs.modal')\r\n",
      "                setTimeout(function () {\r\n",
      "                    $('#myModalClose').focus();\r\n",
      "                    console.log('On shown.bs.modal - focus()')\r\n",
      "                }, 1000);\r\n",
      "            })\r\n",
      "\r\n",
      "            var $div = $('.cp-required').closest('div.form-group').attr(\"aria-label\", \"Este campo es obligatorio\");\r\n",
      "\r\n",
      "\r\n",
      "            $('#paramsImpresion_Msg').click(function (event) {\r\n",
      "                event.preventDefault();\r\n",
      "                $('#paramsImpresion_Msg').hide()\r\n",
      "            })\r\n",
      "\r\n",
      "\r\n",
      "        })\r\n",
      "    </script>\r\n",
      "\r\n",
      "\r\n",
      "    \r\n",
      "\r\n",
      "\r\n",
      "</body>\r\n",
      "</html><script id=\"f5_cspm\">(function(){var f5_cspm={f5_p:'FBCCPMALALHLMCMHNIBDABEBLICFKAOPCHJMPPGCPCOKBFLIKHGIJALNPHNICHAPENIGJIBJAIEBHEAMBACCDGELBFDAMAIHAAIOJOBHCHHGLCANAAAHCJFCAEINNDIL',setCharAt:function(str,index,chr){if(index>str.length-1)return str;return str.substr(0,index)+chr+str.substr(index+1);},get_byte:function(str,i){var s=(i/16)|0;i=(i&15);s=s*32;return((str.charCodeAt(i+16+s)-65)<<4)|(str.charCodeAt(i+s)-65);},set_byte:function(str,i,b){var s=(i/16)|0;i=(i&15);s=s*32;str=f5_cspm.setCharAt(str,(i+16+s),String.fromCharCode((b>>4)+65));str=f5_cspm.setCharAt(str,(i+s),String.fromCharCode((b&15)+65));return str;},set_latency:function(str,latency){latency=latency&0xffff;str=f5_cspm.set_byte(str,48,(latency>>8));str=f5_cspm.set_byte(str,49,(latency&0xff));str=f5_cspm.set_byte(str,43,2);return str;},wait_perf_data:function(){try{var wp=window.performance.timing;if(wp.loadEventEnd>0){var res=wp.loadEventEnd-wp.navigationStart;if(res<60001){var cookie_val=f5_cspm.set_latency(f5_cspm.f5_p,res);window.document.cookie='f5avr0144002454aaaaaaaaaaaaaaaa='+encodeURIComponent(cookie_val)+';path=/';}\n",
      "return;}}\n",
      "catch(err){return;}\n",
      "setTimeout(f5_cspm.wait_perf_data,100);return;},go:function(){var chunk=window.document.cookie.split(/\\s*;\\s*/);for(var i=0;i<chunk.length;++i){var pair=chunk[i].split(/\\s*=\\s*/);if(pair[0]=='f5_cspm'&&pair[1]=='1234')\n",
      "{var d=new Date();d.setTime(d.getTime()-1000);window.document.cookie='f5_cspm=;expires='+d.toUTCString()+';path=/;';setTimeout(f5_cspm.wait_perf_data,100);}}}}\n",
      "f5_cspm.go();}());</script>\n"
     ]
    }
   ],
   "source": [
    "print(rama.text)"
   ]
  },
  {
   "cell_type": "code",
   "execution_count": 6,
   "metadata": {},
   "outputs": [
    {
     "data": {
      "text/plain": [
       "b'<!DOCTYPE html>\\r\\n<html lang=\"es-co\">\\r\\n<head>\\r\\n    <meta charset=\"utf-8\" />\\r\\n    <meta name=\"viewport\" content=\"width=device-width, initial-scale=1.0\">\\r\\n    <meta http-equiv=\"X-UA-Compatible\" content=\"ie=edge\">\\r\\n\\r\\n    <link rel=\"stylesheet\"\\r\\n          href=\"https://maxcdn.bootstrapcdn.com/bootstrap/3.3.7/css/bootstrap.min.css\"\\r\\n          integrity=\"sha384-BVYiiSIFeK1dGmJRAkycuHAHRg32OmUcww7on3RYdg4Va+PmSTsz/K68vbdEjh4u\"\\r\\n          crossorigin=\"anonymous\">\\r\\n    <link rel=\"stylesheet\" type=\"text/css\" href=\"/css/main.css\">\\r\\n    <link rel=\"stylesheet\" type=\"text/css\" href=\"/css/dataTables.bootstrap.min.css\" />\\r\\n    <link rel=\"stylesheet\" type=\"text/css\" href=\"/css/consulta_procesos.css\" />\\r\\n    <link rel=\"stylesheet\" type=\"text/css\" href=\"/css/home-consultas.css\">\\r\\n    <!-- <link rel=\"stylesheet\" type=\"text/css\" href=\"~/css/header.css\"> -->\\r\\n    <link rel=\"stylesheet\" type=\"text/css\" href=\"/css/navigation.css\">\\r\\n    <!-- <link rel=\"stylesheet\" type=\"text/css\" href=\"~/css/footer.css\"> -->\\r\\n    <link rel=\"stylesheet\" href=\"//code.jquery.com/ui/1.12.1/themes/base/jquery-ui.css\">\\r\\n\\r\\n    <script src=\"https://code.jquery.com/jquery-3.3.1.min.js\"\\r\\n            integrity=\"sha256-FgpCb/KJQlLNfOu91ta32o/NMZxltwRo8QtmkMRdAu8=\"\\r\\n            crossorigin=\"anonymous\">\\r\\n    </script>\\r\\n\\r\\n\\r\\n\\r\\n    <title>Consulta de Procesos por N&#xFA;mero de Radicaci&#xF3;n - Consejo Superior de la Judicatura</title>\\r\\n\\r\\n    \\r\\n    <script src=\\'https://www.google.com/recaptcha/api.js?render=6LctLIEUAAAAAMl0mYJfTndodGUrrlds2c5za3KV\\'></script>\\r\\n\\r\\n\\r\\n</head>\\r\\n<body>\\r\\n    <div class=\"container-consulta-procesos\">\\r\\n        <header aria-label=\"Encabezado\" id=\"banner\" role=\"banner\">\\r\\n            <a id=\"skip-to-content\" href=\"#mainContent\">Saltar a contenido principal</a>\\r\\n            <div id=\"heading\">\\r\\n                <nav aria-label=\"Enlaces a sitios de la rama judicial Colombiana\" id=\"top_navigation\">\\r\\n                    <ul>\\r\\n                        <li>\\r\\n                            <a href=\"https://www.ramajudicial.gov.co/web/consejo-superior-de-la-judicatura/portal/inicio\" target=\"_blank\" title=\"Consejo Superior de la Judicatura\">\\r\\n                                <span aria-hidden=\"true\" class=\"green-consejo\">Consejo Superior de la Judicatura</span>\\r\\n                            </a>\\r\\n                        </li>\\r\\n                        <li>\\r\\n                            <a href=\"http://www.cortesuprema.gov.co/\" title=\"Corte Suprema de Justicia\" target=\"_blank\">\\r\\n                                <span aria-hidden=\"true\" class=\"yellow\">Corte Suprema de Justicia</span>\\r\\n                            </a>\\r\\n                        </li>\\r\\n                        <li>\\r\\n                            <a href=\"http://www.consejodeestado.gov.co/\" title=\"Consejo de Estado\" target=\"_blank\">\\r\\n                                <span aria-hidden=\"true\" class=\"blue\">Consejo de Estado</span>\\r\\n                            </a>\\r\\n                        </li>\\r\\n                        <li>\\r\\n                            <a href=\"http://www.corteconstitucional.gov.co/\" target=\"_blank\" title=\"Corte Constitucional\">\\r\\n                                <span aria-hidden=\"true\" class=\"red\">Corte Constitucional</span>\\r\\n                            </a>\\r\\n                        </li>\\r\\n                        <li>\\r\\n                            <a href=\"https://www.ramajudicial.gov.co/web/sala-disciplinaria/inicio\" target=\"_blank\" title=\"Sala Jurisdiccional Disciplinaria\">\\r\\n                                <span aria-hidden=\"true\" class=\"green-sala\">Sala Jurisdiccional Disciplinaria</span>\\r\\n                            </a>\\r\\n                        </li>\\r\\n                    </ul>\\r\\n                </nav>\\r\\n                <div class=\"site-title-content col-md-3\">\\r\\n                    <div class=\"box-logo\">\\r\\n                        <a class=\"logo custom-logo\" title=\"Ir a La Rama Judicial\" href=\"https://www.ramajudicial.gov.co/\" target=\"_blank\">\\r\\n                            <img alt=\"Ir a La Rama Judicial\" class=\"block-margin-img1\" height=\"110\" src=\"/images/logo1.png\">\\r\\n                        </a>\\r\\n                        <a href=\"/Procesos/Index#menuDeConsultas\"\\r\\n                           tabindex=\"0\"\\r\\n                           aria-label=\"Ir al inicio de la aplicaci\\xc3\\xb3n\"\\r\\n                           class=\"link-inicio\">\\r\\n                            INICIO\\r\\n                        </a>\\r\\n                    </div>\\r\\n                </div>\\r\\n                <div class=\"site-title-content col-md-6\">\\r\\n                    <span class=\"currentDate\">febrero 16 - 2020</span>\\r\\n                    <div id=\"searchBox\" class=\"row\">\\r\\n                        <div class=\"col-xs-2 icons-search\">\\r\\n                            <a href=\"http://www.convertic.gov.co/641/w3-channel.html\" title=\"Obtener Software para Accesibilidad\" target=\"_blank\">\\r\\n                                <i aria-hidden=\"true\" class=\"fas fa-eye\"></i>\\r\\n                            </a>\\r\\n                        </div>\\r\\n                        <div class=\"col-xs-10\">\\r\\n                            <h1>CONSULTA DE PROCESOS<br>NACIONAL UNIFICADA</h1>\\r\\n                        </div>\\r\\n                        <div class=\"col-xs-2 icons-search\">\\r\\n                        </div>\\r\\n                    </div>\\r\\n                </div>\\r\\n                <div class=\"site-title-content col-md-3 hidden-xs\">\\r\\n                    <div class=\"box-logo\">\\r\\n                        <a class=\"logo secondLogo\" title=\"Ir a la Presidencia de la Rep\\xc3\\xbablica de Colombia\" href=\"https://id.presidencia.gov.co/Paginas/presidencia.aspx\" target=\"_blank\">\\r\\n                            <img src=\"/images/EscudoColombia.png\" class=\"block-margin-img1\" alt=\"Ir a la Presidencia de la Rep\\xc3\\xbablica de Colombia\">\\r\\n                        </a>\\r\\n                        <a href=\"/Documentacion/Ayuda.html\" class=\"link-inicio\">AYUDA</a>\\r\\n                    </div>\\r\\n                </div>\\r\\n            </div>\\r\\n            <nav aria-label=\"Men\\xc3\\xba principal\" class=\"navbar navbar-default\" role=\"navigation\" id=\"navigation\">\\r\\n            </nav>\\r\\n        </header>\\r\\n        <main aria-label=\"Cuerpo\" id=\"mainContent\" tabindex=\"-1\">\\r\\n            \\r\\n<div id=\"myModal\" class=\"modal fade\" role=\"alertdialog\">\\r\\n    <div class=\"modal-dialog\">\\r\\n        <div class=\"modal-content\">\\r\\n            <div class=\"modal-header\">\\r\\n                <button type=\"button\" class=\"close\" data-dismiss=\"modal\">&times;</button>\\r\\n                <div class=\"titulo-h4 modal-title\">MENSAJE</div>\\r\\n            </div>\\r\\n            <div class=\"modal-body\">\\r\\n                <p id=\"myModalMessage\" tabindex=\"0\" class=\"alert alert-info\" role=\"alert\">\\r\\n                    Consultando Informaci\\xc3\\xb3n...\\r\\n                </p>\\r\\n                <button id=\"myModalClose\" type=\"button\" class=\"btn greend\" \\r\\n                        data-dismiss=\"modal\">VOLVER</button>\\r\\n            </div>\\r\\n        </div>\\r\\n    </div>\\r\\n</div>\\r\\n<div id=\"paramsImpresion\" class=\"modal fade\" role=\"alertdialog\">\\r\\n    <div class=\"modal-dialog\">\\r\\n        <div class=\"modal-content\">\\r\\n            <div class=\"modal-header\">\\r\\n                <button type=\"button\" class=\"close\" data-dismiss=\"modal\">&times;</button>\\r\\n                <div class=\"titulo-h4 modal-title\">PARAMETROS DE IMPRESION</div>\\r\\n            </div>\\r\\n            <div class=\"modal-body\">\\r\\n                Favor ingresar rango de p\\xc3\\xa1ginas a imprimir, hasta 20 p\\xc3\\xa1ginas por vez, <br />\\r\\n                Ejm: 1-20, 21-40, 41-60.\\r\\n                <hr />\\r\\n                <div id=\"paramsImpresion_Msg\" class=\"alert alert-danger\" role=\"alertdialog\" hidden>\\r\\n                    <a href=\"#\" class=\"close\" aria-label=\"Cerrar Mensaje\">&times;</a>\\r\\n                    <span style=\"font-size:13px;\" id=\"paramsImpresion_MsgText\"></span>\\r\\n                </div>\\r\\n                <input type=\"hidden\" id=\"paramsImpresion_Tipo\" />\\r\\n                <label for=\"paginaDesde\">Desde </label> <input id=\"paginaDesde\" type=\"number\" min=\"1\" />\\r\\n                <label for=\"paginaHasta\">Hasta </label> <input id=\"paginaHasta\" type=\"number\" min=\"1\" />\\r\\n                <hr />\\r\\n                <button type=\"button\" class=\"btn greend\"\\r\\n                        onclick=\"descargarProcesos_Modal()\">\\r\\n                    ACEPTAR\\r\\n                </button>\\r\\n                <button type=\"button\" class=\"btn greyb\" data-dismiss=\"modal\">CANDELAR</button>\\r\\n            </div>\\r\\n        </div>\\r\\n    </div>\\r\\n</div>\\r\\n\\r\\n<div class=\"container-fluid table-tiles\">\\r\\n    <div class=\"row\" style=\"font-size:14px; margin-top:20px; margin-right: 0px; margin-left: 0px; text-align: left;\">\\r\\n        <a style=\"color: #808080;\" href=\"/\">\\r\\n            <i aria-hidden=\"true\" class=\"fas fa-arrow-left\"></i> Regresar a Opciones de Consulta</a>\\r\\n    </div>\\r\\n    \\r\\n\\r\\n<div class=\"row title\">\\r\\n    <i aria-hidden=\"true\" class=\"fas fa-list-ol\"></i>\\r\\n    <h2><label for=\"NumeroRadicacion\">N\\xc3\\xbamero de Radicaci\\xc3\\xb3n</label></h2>\\r\\n    <div class=\"titulo-h4\">Aqu\\xc3\\xad encontrar\\xc3\\xa1 la manera m\\xc3\\xa1s f\\xc3\\xa1cil de consultar su proceso.</div>\\r\\n</div>\\r\\n<form id=\"Consulta\" class=\"consulta\" action=\"/Procesos/NumeroRadicacion\" method=\"post\">\\r\\n\\r\\n<input id=\"g-captcha\" name=\"g-captcha\" type=\"hidden\" />\\r\\n<input type=\"hidden\" data-val=\"true\" data-val-required=\"The IdProceso field is required.\" id=\"IdProceso\" name=\"IdProceso\" value=\"0\" />\\r\\n<input type=\"hidden\" id=\"TipoConsulta\" name=\"TipoConsulta\" value=\"NumeroRadicacion\" />\\r\\n<input type=\"hidden\" data-val=\"true\" data-val-required=\"The Pagina field is required.\" id=\"ListaProcesos_Paginacion_Pagina\" name=\"ListaProcesos.Paginacion.Pagina\" value=\"1\" />\\r\\n<input type=\"hidden\" data-val=\"true\" data-val-required=\"The CantidadPaginas field is required.\" id=\"ListaProcesos_Paginacion_CantidadPaginas\" name=\"ListaProcesos.Paginacion.CantidadPaginas\" value=\"0\" />\\r\\n<input type=\"hidden\" id=\"ListaProcesos_Paginacion_Paginas\" name=\"ListaProcesos.Paginacion.Paginas\" value=\"\" />\\r\\n\\r\\n    <div class=\"form-group selectable\">\\r\\n        <input class=\"cp-required\" autofocus onkeypress=\"return onlyNumbers(event)\" maxlength=\"23\" placeholder=\"Ingrese los 23 d\\xc3\\xadgitos del n\\xc3\\xbamero de radicaci\\xc3\\xb3n\" type=\"text\" data-val=\"true\" data-val-length=\"El n&#xFA;mero de radicaci&#xF3;n ha de ser de 23 d&#xED;gitos:\" data-val-length-max=\"23\" data-val-length-min=\"23\" data-val-regex=\"El n&#xFA;mero de radicaci&#xF3;n ha de estar conformado unicamente por d&#xED;gitos (0 al 9).\" data-val-regex-pattern=\"\\\\d&#x2B;\" data-val-required=\"Se ha de ingresar el n&#xFA;mero de radicaci&#xF3;n.\" id=\"NumeroRadicacion\" name=\"NumeroRadicacion\" value=\"\" />\\r\\n        <br />\\r\\n        <span class=\"cp-text-danger-block field-validation-valid\" role=\"alert\" data-valmsg-for=\"NumeroRadicacion\" data-valmsg-replace=\"true\"></span>\\r\\n    </div>\\r\\n    <div class=\"form-group buttongroup\">\\r\\n        <button type=\"submit\" class=\"btn greend\">CONSULTAR</button>\\r\\n        <button type=\"button\" class=\"btn greyb\" onclick=\"location.href=\\'/Procesos/NumeroRadicacion\\'\">NUEVA CONSULTA</button>\\r\\n    </div>\\r\\n    <!-- spinner-border, #1 -->\\r\\n    <div class=\"spinner-border text-primary\" role=\"status\">\\r\\n        <span class=\"sr-only\">Loading</span>\\r\\n    </div>\\r\\n<input name=\"__RequestVerificationToken\" type=\"hidden\" value=\"CfDJ8EOten-GceJPop59mxguO4bKN_261iLLFQDXEeuDR4ac1Z9_7kmaud6ReDAIMxw2bDz1RoG9ZAO71fMykOavjvpT9dd_7aoMRu_NBMDXP71-__VgsAUgeOmnPpZjXfKbdovW90zhHMEf_cYeidpfqzY\" /></form>\\r\\n\\r\\n\\r\\n</div>\\r\\n\\r\\n\\r\\n\\r\\n\\r\\n\\r\\n\\r\\n    \\r\\n<p/>\\r\\n\\r\\n        </main>\\r\\n        <footer aria-label=\"Pie de P\\xc3\\xa1gina\" id=\"footer\">\\r\\n            <div id=\"rama-footer\" class=\"row\">\\r\\n                <section aria-label=\"Datos de la Rama Judicial\" class=\"col-lg-offset-4 col-md-offset-4 col-lg-4 col-md-4 col-xs-12 section-footer\">\\r\\n                    <p style=\"text-align: center;\"> <a href=\"https://www.ramajudicial.gov.co/portal/politicas-de-privacidad-y-condiciones-de-uso\" class=\"enlace-footer\"><span>Politicas de Privacidad y Condiciones de Uso</span></a></p>\\r\\n                    <p style=\"text-align: center;\"> <span style=\"color:#ffffff;\">Calle 12 No. 7 - 65 Bogot\\xc3\\xa1 Colombia</span></p>\\r\\n                    <p style=\"text-align: center;\"> <span style=\"color:#ffffff;\">Soporte: Tel\\xc3\\xa9fono 5658500 Ext 7559 o al correo electr\\xc3\\xb3nico soportepaginaweb1@cendoj.ramajudicial.gov.co</span></p>\\r\\n\\r\\n                </section>\\r\\n            </div>\\r\\n        </footer>\\r\\n    </div>\\r\\n    <!-- Global site tag (gtag.js) - Google Analytics -->\\r\\n    <script async src=\"https://www.googletagmanager.com/gtag/js?id=UA-154252976-1\"></script>\\r\\n    <script>\\r\\n        window.dataLayer = window.dataLayer || [];\\r\\n        function gtag() { dataLayer.push(arguments); }\\r\\n        gtag(\\'js\\', new Date());\\r\\n\\r\\n        gtag(\\'config\\', \\'UA-154252976-1\\');\\r\\n    </script>\\r\\n\\r\\n    <script src=\"https://maxcdn.bootstrapcdn.com/bootstrap/3.3.7/js/bootstrap.min.js\"\\r\\n            integrity=\"sha384-Tc5IQib027qvyjSMfHjOMaLkfuWVxZxUPnCJA7l2mCWNIpG9mGCD8wGNIcPD7Txa\"\\r\\n            crossorigin=\"anonymous\">\\r\\n    </script>\\r\\n\\r\\n    <script type=\"text/javascript\" src=\"/js/main.js\"></script>\\r\\n    <script type=\"text/javascript\" src=\"/js/jquery.dataTables.min.js\"></script>\\r\\n    <script type=\"text/javascript\" src=\"/js/dataTables.bootstrap.min.js\"></script>\\r\\n    \\r\\n    <script src=\"/js/consulta_procesos.js\"></script>\\r\\n    <script>\\r\\n\\r\\n        function descargarProcesos_Modal() {\\r\\n\\r\\n            let paginaDesde = Number($(\"#paginaDesde\").val()) || 0\\r\\n            let paginaHasta = Number($(\"#paginaHasta\").val()) || 0\\r\\n            console.log(paginaDesde, paginaHasta)\\r\\n\\r\\n            // Validar entradas\\r\\n            if (!(paginaDesde >= 1 && paginaHasta >= paginaDesde)) {\\r\\n                $(\"#paramsImpresion_MsgText\").html(\"La p\\xc3\\xa1gina desde ha de ser mayor o igual a 1 <br>y la p\\xc3\\xa1gina hasta igual o mayor a la p\\xc3\\xa1gina desde\")\\r\\n                $(\"#paramsImpresion_Msg\").show()\\r\\n                return\\r\\n            }\\r\\n\\r\\n            // Cerrar emergente y cerrarlo\\r\\n            $(\"#paramsImpresion\").modal(\\'hide\\');\\r\\n            //$(\"#paramsImpresion\").hide()\\r\\n\\r\\n            descargarProcesos($(\"#paramsImpresion_Tipo\").val(), paginaDesde, paginaHasta)\\r\\n        }\\r\\n\\r\\n        grecaptcha.ready(function () {\\r\\n            grecaptcha.execute(\\'6LctLIEUAAAAAMl0mYJfTndodGUrrlds2c5za3KV\\', { action: \\'ConsultaProceso\\' }).then(function (token) {\\r\\n                document.getElementById(\\'g-captcha\\').value = token\\r\\n                // Colocar aria-label a texarea creada por el reCaptcha\\r\\n                $(\"#g-recaptcha-response-100000\").attr(\\'aria-label\\', \\'Google reCaptcha Response\\')\\r\\n            });\\r\\n        });\\r\\n\\r\\n        function handleKeyPress(evt) {\\r\\n            var nbr, chr;\\r\\n            if (window.Event) nbr = evt.which;\\r\\n            else nbr = event.keyCode;\\r\\n            if (nbr == 13) {\\r\\n                if ($(\"#myModal\").is(\\':visible\\'))\\r\\n                    $(\"#myModal\").modal(\\'hide\\')\\r\\n                else if ($(\"#paramsImpresion\").is(\\':visible\\'))\\r\\n                    descargarProcesos_Modal()\\r\\n                else\\r\\n                    document.getElementById(\"Consulta\").submit();\\r\\n            }\\r\\n            else if (nbr == 27) {\\r\\n                if ($(\"#myModal\").is(\\':visible\\'))\\r\\n                    $(\"#myModal\").modal(\\'hide\\')\\r\\n                else if ($(\"#paramsImpresion\").is(\\':visible\\'))\\r\\n                    $(\"#paramsImpresion\").modal(\\'hide\\')\\r\\n            }\\r\\n            return true;\\r\\n        }\\r\\n        document.onkeydown = handleKeyPress\\r\\n\\r\\n\\r\\n        $(document).ready(function () {\\r\\n            ////$(\\'#myModalClose\\').focusin(function cerrarDialogo() {\\r\\n            ////    $(\"#myModal\").modal(\\'hide\\');\\r\\n            ////})\\r\\n\\r\\n            $(\\'#myModal\\').on(\\'shown.bs.modal\\', function () {\\r\\n                console.log(\\'On shown.bs.modal\\')\\r\\n                setTimeout(function () {\\r\\n                    $(\\'#myModalClose\\').focus();\\r\\n                    console.log(\\'On shown.bs.modal - focus()\\')\\r\\n                }, 1000);\\r\\n            })\\r\\n\\r\\n            var $div = $(\\'.cp-required\\').closest(\\'div.form-group\\').attr(\"aria-label\", \"Este campo es obligatorio\");\\r\\n\\r\\n\\r\\n            $(\\'#paramsImpresion_Msg\\').click(function (event) {\\r\\n                event.preventDefault();\\r\\n                $(\\'#paramsImpresion_Msg\\').hide()\\r\\n            })\\r\\n\\r\\n\\r\\n        })\\r\\n    </script>\\r\\n\\r\\n\\r\\n    \\r\\n\\r\\n\\r\\n</body>\\r\\n</html><script id=\"f5_cspm\">(function(){var f5_cspm={f5_p:\\'FBCCPMALALHLMCMHNIBDABEBLICFKAOPCHJMPPGCPCOKBFLIKHGIJALNPHNICHAPENIGJIBJAIEBHEAMBACCDGELBFDAMAIHAAIOJOBHCHHGLCANAAAHCJFCAEINNDIL\\',setCharAt:function(str,index,chr){if(index>str.length-1)return str;return str.substr(0,index)+chr+str.substr(index+1);},get_byte:function(str,i){var s=(i/16)|0;i=(i&15);s=s*32;return((str.charCodeAt(i+16+s)-65)<<4)|(str.charCodeAt(i+s)-65);},set_byte:function(str,i,b){var s=(i/16)|0;i=(i&15);s=s*32;str=f5_cspm.setCharAt(str,(i+16+s),String.fromCharCode((b>>4)+65));str=f5_cspm.setCharAt(str,(i+s),String.fromCharCode((b&15)+65));return str;},set_latency:function(str,latency){latency=latency&0xffff;str=f5_cspm.set_byte(str,48,(latency>>8));str=f5_cspm.set_byte(str,49,(latency&0xff));str=f5_cspm.set_byte(str,43,2);return str;},wait_perf_data:function(){try{var wp=window.performance.timing;if(wp.loadEventEnd>0){var res=wp.loadEventEnd-wp.navigationStart;if(res<60001){var cookie_val=f5_cspm.set_latency(f5_cspm.f5_p,res);window.document.cookie=\\'f5avr0144002454aaaaaaaaaaaaaaaa=\\'+encodeURIComponent(cookie_val)+\\';path=/\\';}\\nreturn;}}\\ncatch(err){return;}\\nsetTimeout(f5_cspm.wait_perf_data,100);return;},go:function(){var chunk=window.document.cookie.split(/\\\\s*;\\\\s*/);for(var i=0;i<chunk.length;++i){var pair=chunk[i].split(/\\\\s*=\\\\s*/);if(pair[0]==\\'f5_cspm\\'&&pair[1]==\\'1234\\')\\n{var d=new Date();d.setTime(d.getTime()-1000);window.document.cookie=\\'f5_cspm=;expires=\\'+d.toUTCString()+\\';path=/;\\';setTimeout(f5_cspm.wait_perf_data,100);}}}}\\nf5_cspm.go();}());</script>'"
      ]
     },
     "execution_count": 6,
     "metadata": {},
     "output_type": "execute_result"
    }
   ],
   "source": [
    "rama.content"
   ]
  },
  {
   "cell_type": "code",
   "execution_count": 7,
   "metadata": {},
   "outputs": [
    {
     "data": {
      "text/plain": [
       "{'Cache-Control': 'no-cache', 'Pragma': 'no-cache', 'Transfer-Encoding': 'chunked', 'Content-Type': 'text/html; charset=utf-8', 'Expires': '-1', 'Server': 'Kestrel', 'Set-Cookie': '.AspNetCore.Antiforgery.JO2F350xfzU=CfDJ8EOten-GceJPop59mxguO4aeB1isFUKqQhZyPPfypFoI34VUvKT8ohnyc5tJHysgLYYJWU7sl3BVfaxYGghY8sFZTT6E3XEij6SejrexADDTyjkr8OGDrzNzuO_voV7YI4McCPKms3NLnQ50nyzANnE; path=/; samesite=strict; httponly, .AspNetCore.Session=CfDJ8EOten%2BGceJPop59mxguO4YWECmydN1woSzNcwmQ4q%2F7kxEvB8%2B4H17SCqqKrBrbhCfnQLm3J6xcNhEdOfvH1%2BLG0%2BWcqZbWpCSpNM%2BDEaByyueA37zElD2orfnwVP5ZM17yhg7T7Xj0eCG%2BrriAolZR%2FzUUwElN9ila6HM6UZvD; path=/; samesite=lax; httponly, f5avrbbbbbbbbbbbbbbbb=OELFICAKAMHKEOBHHOAMLIEBILBGGGOPFDJMHPGCOCOKNFLILMHILCJNPHNICHAPGNIGJIBJAIEDHEAMBBCCDGELBFDAMAIHIABAGMIJAPBOFMJMPLECECBHBCLDKLOP; HttpOnly; secure, f5_cspm=1234;', 'X-Frame-Options': 'SAMEORIGIN', 'Date': 'Sun, 16 Feb 2020 21:18:51 GMT'}"
      ]
     },
     "execution_count": 7,
     "metadata": {},
     "output_type": "execute_result"
    }
   ],
   "source": [
    "rama.headers"
   ]
  },
  {
   "cell_type": "code",
   "execution_count": 8,
   "metadata": {},
   "outputs": [
    {
     "data": {
      "text/plain": [
       "{'User-Agent': 'python-requests/2.22.0', 'Accept-Encoding': 'gzip, deflate', 'Accept': '*/*', 'Connection': 'keep-alive'}"
      ]
     },
     "execution_count": 8,
     "metadata": {},
     "output_type": "execute_result"
    }
   ],
   "source": [
    "rama.request.headers"
   ]
  },
  {
   "cell_type": "code",
   "execution_count": 9,
   "metadata": {},
   "outputs": [
    {
     "data": {
      "text/plain": [
       "'GET'"
      ]
     },
     "execution_count": 9,
     "metadata": {},
     "output_type": "execute_result"
    }
   ],
   "source": [
    "rama.request.method"
   ]
  },
  {
   "cell_type": "code",
   "execution_count": 10,
   "metadata": {},
   "outputs": [
    {
     "data": {
      "text/plain": [
       "'https://consultaprocesos.ramajudicial.gov.co/Procesos/NumeroRadicacion'"
      ]
     },
     "execution_count": 10,
     "metadata": {},
     "output_type": "execute_result"
    }
   ],
   "source": [
    "rama.request.url"
   ]
  },
  {
   "cell_type": "code",
   "execution_count": 20,
   "metadata": {},
   "outputs": [],
   "source": [
    "from bs4 import BeautifulSoup"
   ]
  },
  {
   "cell_type": "code",
   "execution_count": 21,
   "metadata": {},
   "outputs": [],
   "source": [
    "s = BeautifulSoup(rama.text, 'html.parser')"
   ]
  },
  {
   "cell_type": "code",
   "execution_count": 22,
   "metadata": {},
   "outputs": [
    {
     "data": {
      "text/plain": [
       "bs4.BeautifulSoup"
      ]
     },
     "execution_count": 22,
     "metadata": {},
     "output_type": "execute_result"
    }
   ],
   "source": [
    "type(s)"
   ]
  },
  {
   "cell_type": "code",
   "execution_count": 24,
   "metadata": {},
   "outputs": [
    {
     "name": "stdout",
     "output_type": "stream",
     "text": [
      "<!DOCTYPE html>\n",
      "<html lang=\"es-co\">\n",
      " <head>\n",
      "  <meta charset=\"utf-8\"/>\n",
      "  <meta content=\"width=device-width, initial-scale=1.0\" name=\"viewport\"/>\n",
      "  <meta content=\"ie=edge\" http-equiv=\"X-UA-Compatible\"/>\n",
      "  <link crossorigin=\"anonymous\" href=\"https://maxcdn.bootstrapcdn.com/bootstrap/3.3.7/css/bootstrap.min.css\" integrity=\"sha384-BVYiiSIFeK1dGmJRAkycuHAHRg32OmUcww7on3RYdg4Va+PmSTsz/K68vbdEjh4u\" rel=\"stylesheet\"/>\n",
      "  <link href=\"/css/main.css\" rel=\"stylesheet\" type=\"text/css\"/>\n",
      "  <link href=\"/css/dataTables.bootstrap.min.css\" rel=\"stylesheet\" type=\"text/css\">\n",
      "   <link href=\"/css/consulta_procesos.css\" rel=\"stylesheet\" type=\"text/css\">\n",
      "    <link href=\"/css/home-consultas.css\" rel=\"stylesheet\" type=\"text/css\"/>\n",
      "    <!-- <link rel=\"stylesheet\" type=\"text/css\" href=\"~/css/header.css\"> -->\n",
      "    <link href=\"/css/navigation.css\" rel=\"stylesheet\" type=\"text/css\"/>\n",
      "    <!-- <link rel=\"stylesheet\" type=\"text/css\" href=\"~/css/footer.css\"> -->\n",
      "    <link href=\"//code.jquery.com/ui/1.12.1/themes/base/jquery-ui.css\" rel=\"stylesheet\"/>\n",
      "    <script crossorigin=\"anonymous\" integrity=\"sha256-FgpCb/KJQlLNfOu91ta32o/NMZxltwRo8QtmkMRdAu8=\" src=\"https://code.jquery.com/jquery-3.3.1.min.js\">\n",
      "    </script>\n",
      "    <title>\n",
      "     Consulta de Procesos por Número de Radicación - Consejo Superior de la Judicatura\n",
      "    </title>\n",
      "    <script src=\"https://www.google.com/recaptcha/api.js?render=6LctLIEUAAAAAMl0mYJfTndodGUrrlds2c5za3KV\">\n",
      "    </script>\n",
      "   </link>\n",
      "  </link>\n",
      " </head>\n",
      " <body>\n",
      "  <div class=\"container-consulta-procesos\">\n",
      "   <header aria-label=\"Encabezado\" id=\"banner\" role=\"banner\">\n",
      "    <a href=\"#mainContent\" id=\"skip-to-content\">\n",
      "     Saltar a contenido principal\n",
      "    </a>\n",
      "    <div id=\"heading\">\n",
      "     <nav aria-label=\"Enlaces a sitios de la rama judicial Colombiana\" id=\"top_navigation\">\n",
      "      <ul>\n",
      "       <li>\n",
      "        <a href=\"https://www.ramajudicial.gov.co/web/consejo-superior-de-la-judicatura/portal/inicio\" target=\"_blank\" title=\"Consejo Superior de la Judicatura\">\n",
      "         <span aria-hidden=\"true\" class=\"green-consejo\">\n",
      "          Consejo Superior de la Judicatura\n",
      "         </span>\n",
      "        </a>\n",
      "       </li>\n",
      "       <li>\n",
      "        <a href=\"http://www.cortesuprema.gov.co/\" target=\"_blank\" title=\"Corte Suprema de Justicia\">\n",
      "         <span aria-hidden=\"true\" class=\"yellow\">\n",
      "          Corte Suprema de Justicia\n",
      "         </span>\n",
      "        </a>\n",
      "       </li>\n",
      "       <li>\n",
      "        <a href=\"http://www.consejodeestado.gov.co/\" target=\"_blank\" title=\"Consejo de Estado\">\n",
      "         <span aria-hidden=\"true\" class=\"blue\">\n",
      "          Consejo de Estado\n",
      "         </span>\n",
      "        </a>\n",
      "       </li>\n",
      "       <li>\n",
      "        <a href=\"http://www.corteconstitucional.gov.co/\" target=\"_blank\" title=\"Corte Constitucional\">\n",
      "         <span aria-hidden=\"true\" class=\"red\">\n",
      "          Corte Constitucional\n",
      "         </span>\n",
      "        </a>\n",
      "       </li>\n",
      "       <li>\n",
      "        <a href=\"https://www.ramajudicial.gov.co/web/sala-disciplinaria/inicio\" target=\"_blank\" title=\"Sala Jurisdiccional Disciplinaria\">\n",
      "         <span aria-hidden=\"true\" class=\"green-sala\">\n",
      "          Sala Jurisdiccional Disciplinaria\n",
      "         </span>\n",
      "        </a>\n",
      "       </li>\n",
      "      </ul>\n",
      "     </nav>\n",
      "     <div class=\"site-title-content col-md-3\">\n",
      "      <div class=\"box-logo\">\n",
      "       <a class=\"logo custom-logo\" href=\"https://www.ramajudicial.gov.co/\" target=\"_blank\" title=\"Ir a La Rama Judicial\">\n",
      "        <img alt=\"Ir a La Rama Judicial\" class=\"block-margin-img1\" height=\"110\" src=\"/images/logo1.png\"/>\n",
      "       </a>\n",
      "       <a aria-label=\"Ir al inicio de la aplicación\" class=\"link-inicio\" href=\"/Procesos/Index#menuDeConsultas\" tabindex=\"0\">\n",
      "        INICIO\n",
      "       </a>\n",
      "      </div>\n",
      "     </div>\n",
      "     <div class=\"site-title-content col-md-6\">\n",
      "      <span class=\"currentDate\">\n",
      "       febrero 16 - 2020\n",
      "      </span>\n",
      "      <div class=\"row\" id=\"searchBox\">\n",
      "       <div class=\"col-xs-2 icons-search\">\n",
      "        <a href=\"http://www.convertic.gov.co/641/w3-channel.html\" target=\"_blank\" title=\"Obtener Software para Accesibilidad\">\n",
      "         <i aria-hidden=\"true\" class=\"fas fa-eye\">\n",
      "         </i>\n",
      "        </a>\n",
      "       </div>\n",
      "       <div class=\"col-xs-10\">\n",
      "        <h1>\n",
      "         CONSULTA DE PROCESOS\n",
      "         <br/>\n",
      "         NACIONAL UNIFICADA\n",
      "        </h1>\n",
      "       </div>\n",
      "       <div class=\"col-xs-2 icons-search\">\n",
      "       </div>\n",
      "      </div>\n",
      "     </div>\n",
      "     <div class=\"site-title-content col-md-3 hidden-xs\">\n",
      "      <div class=\"box-logo\">\n",
      "       <a class=\"logo secondLogo\" href=\"https://id.presidencia.gov.co/Paginas/presidencia.aspx\" target=\"_blank\" title=\"Ir a la Presidencia de la República de Colombia\">\n",
      "        <img alt=\"Ir a la Presidencia de la República de Colombia\" class=\"block-margin-img1\" src=\"/images/EscudoColombia.png\"/>\n",
      "       </a>\n",
      "       <a class=\"link-inicio\" href=\"/Documentacion/Ayuda.html\">\n",
      "        AYUDA\n",
      "       </a>\n",
      "      </div>\n",
      "     </div>\n",
      "    </div>\n",
      "    <nav aria-label=\"Menú principal\" class=\"navbar navbar-default\" id=\"navigation\" role=\"navigation\">\n",
      "    </nav>\n",
      "   </header>\n",
      "   <main aria-label=\"Cuerpo\" id=\"mainContent\" tabindex=\"-1\">\n",
      "    <div class=\"modal fade\" id=\"myModal\" role=\"alertdialog\">\n",
      "     <div class=\"modal-dialog\">\n",
      "      <div class=\"modal-content\">\n",
      "       <div class=\"modal-header\">\n",
      "        <button class=\"close\" data-dismiss=\"modal\" type=\"button\">\n",
      "         ×\n",
      "        </button>\n",
      "        <div class=\"titulo-h4 modal-title\">\n",
      "         MENSAJE\n",
      "        </div>\n",
      "       </div>\n",
      "       <div class=\"modal-body\">\n",
      "        <p class=\"alert alert-info\" id=\"myModalMessage\" role=\"alert\" tabindex=\"0\">\n",
      "         Consultando Información...\n",
      "        </p>\n",
      "        <button class=\"btn greend\" data-dismiss=\"modal\" id=\"myModalClose\" type=\"button\">\n",
      "         VOLVER\n",
      "        </button>\n",
      "       </div>\n",
      "      </div>\n",
      "     </div>\n",
      "    </div>\n",
      "    <div class=\"modal fade\" id=\"paramsImpresion\" role=\"alertdialog\">\n",
      "     <div class=\"modal-dialog\">\n",
      "      <div class=\"modal-content\">\n",
      "       <div class=\"modal-header\">\n",
      "        <button class=\"close\" data-dismiss=\"modal\" type=\"button\">\n",
      "         ×\n",
      "        </button>\n",
      "        <div class=\"titulo-h4 modal-title\">\n",
      "         PARAMETROS DE IMPRESION\n",
      "        </div>\n",
      "       </div>\n",
      "       <div class=\"modal-body\">\n",
      "        Favor ingresar rango de páginas a imprimir, hasta 20 páginas por vez,\n",
      "        <br>\n",
      "         Ejm: 1-20, 21-40, 41-60.\n",
      "         <hr/>\n",
      "         <div class=\"alert alert-danger\" hidden=\"\" id=\"paramsImpresion_Msg\" role=\"alertdialog\">\n",
      "          <a aria-label=\"Cerrar Mensaje\" class=\"close\" href=\"#\">\n",
      "           ×\n",
      "          </a>\n",
      "          <span id=\"paramsImpresion_MsgText\" style=\"font-size:13px;\">\n",
      "          </span>\n",
      "         </div>\n",
      "         <input id=\"paramsImpresion_Tipo\" type=\"hidden\"/>\n",
      "         <label for=\"paginaDesde\">\n",
      "          Desde\n",
      "         </label>\n",
      "         <input id=\"paginaDesde\" min=\"1\" type=\"number\"/>\n",
      "         <label for=\"paginaHasta\">\n",
      "          Hasta\n",
      "         </label>\n",
      "         <input id=\"paginaHasta\" min=\"1\" type=\"number\"/>\n",
      "         <hr/>\n",
      "         <button class=\"btn greend\" onclick=\"descargarProcesos_Modal()\" type=\"button\">\n",
      "          ACEPTAR\n",
      "         </button>\n",
      "         <button class=\"btn greyb\" data-dismiss=\"modal\" type=\"button\">\n",
      "          CANDELAR\n",
      "         </button>\n",
      "        </br>\n",
      "       </div>\n",
      "      </div>\n",
      "     </div>\n",
      "    </div>\n",
      "    <div class=\"container-fluid table-tiles\">\n",
      "     <div class=\"row\" style=\"font-size:14px; margin-top:20px; margin-right: 0px; margin-left: 0px; text-align: left;\">\n",
      "      <a href=\"/\" style=\"color: #808080;\">\n",
      "       <i aria-hidden=\"true\" class=\"fas fa-arrow-left\">\n",
      "       </i>\n",
      "       Regresar a Opciones de Consulta\n",
      "      </a>\n",
      "     </div>\n",
      "     <div class=\"row title\">\n",
      "      <i aria-hidden=\"true\" class=\"fas fa-list-ol\">\n",
      "      </i>\n",
      "      <h2>\n",
      "       <label for=\"NumeroRadicacion\">\n",
      "        Número de Radicación\n",
      "       </label>\n",
      "      </h2>\n",
      "      <div class=\"titulo-h4\">\n",
      "       Aquí encontrará la manera más fácil de consultar su proceso.\n",
      "      </div>\n",
      "     </div>\n",
      "     <form action=\"/Procesos/NumeroRadicacion\" class=\"consulta\" id=\"Consulta\" method=\"post\">\n",
      "      <input id=\"g-captcha\" name=\"g-captcha\" type=\"hidden\"/>\n",
      "      <input data-val=\"true\" data-val-required=\"The IdProceso field is required.\" id=\"IdProceso\" name=\"IdProceso\" type=\"hidden\" value=\"0\"/>\n",
      "      <input id=\"TipoConsulta\" name=\"TipoConsulta\" type=\"hidden\" value=\"NumeroRadicacion\"/>\n",
      "      <input data-val=\"true\" data-val-required=\"The Pagina field is required.\" id=\"ListaProcesos_Paginacion_Pagina\" name=\"ListaProcesos.Paginacion.Pagina\" type=\"hidden\" value=\"1\"/>\n",
      "      <input data-val=\"true\" data-val-required=\"The CantidadPaginas field is required.\" id=\"ListaProcesos_Paginacion_CantidadPaginas\" name=\"ListaProcesos.Paginacion.CantidadPaginas\" type=\"hidden\" value=\"0\"/>\n",
      "      <input id=\"ListaProcesos_Paginacion_Paginas\" name=\"ListaProcesos.Paginacion.Paginas\" type=\"hidden\" value=\"\"/>\n",
      "      <div class=\"form-group selectable\">\n",
      "       <input autofocus=\"\" class=\"cp-required\" data-val=\"true\" data-val-length=\"El número de radicación ha de ser de 23 dígitos:\" data-val-length-max=\"23\" data-val-length-min=\"23\" data-val-regex=\"El número de radicación ha de estar conformado unicamente por dígitos (0 al 9).\" data-val-regex-pattern=\"\\d+\" data-val-required=\"Se ha de ingresar el número de radicación.\" id=\"NumeroRadicacion\" maxlength=\"23\" name=\"NumeroRadicacion\" onkeypress=\"return onlyNumbers(event)\" placeholder=\"Ingrese los 23 dígitos del número de radicación\" type=\"text\" value=\"\"/>\n",
      "       <br/>\n",
      "       <span class=\"cp-text-danger-block field-validation-valid\" data-valmsg-for=\"NumeroRadicacion\" data-valmsg-replace=\"true\" role=\"alert\">\n",
      "       </span>\n",
      "      </div>\n",
      "      <div class=\"form-group buttongroup\">\n",
      "       <button class=\"btn greend\" type=\"submit\">\n",
      "        CONSULTAR\n",
      "       </button>\n",
      "       <button class=\"btn greyb\" onclick=\"location.href='/Procesos/NumeroRadicacion'\" type=\"button\">\n",
      "        NUEVA CONSULTA\n",
      "       </button>\n",
      "      </div>\n",
      "      <!-- spinner-border, #1 -->\n",
      "      <div class=\"spinner-border text-primary\" role=\"status\">\n",
      "       <span class=\"sr-only\">\n",
      "        Loading\n",
      "       </span>\n",
      "      </div>\n",
      "      <input name=\"__RequestVerificationToken\" type=\"hidden\" value=\"CfDJ8EOten-GceJPop59mxguO4bKN_261iLLFQDXEeuDR4ac1Z9_7kmaud6ReDAIMxw2bDz1RoG9ZAO71fMykOavjvpT9dd_7aoMRu_NBMDXP71-__VgsAUgeOmnPpZjXfKbdovW90zhHMEf_cYeidpfqzY\"/>\n",
      "     </form>\n",
      "    </div>\n",
      "    <p>\n",
      "    </p>\n",
      "   </main>\n",
      "   <footer aria-label=\"Pie de Página\" id=\"footer\">\n",
      "    <div class=\"row\" id=\"rama-footer\">\n",
      "     <section aria-label=\"Datos de la Rama Judicial\" class=\"col-lg-offset-4 col-md-offset-4 col-lg-4 col-md-4 col-xs-12 section-footer\">\n",
      "      <p style=\"text-align: center;\">\n",
      "       <a class=\"enlace-footer\" href=\"https://www.ramajudicial.gov.co/portal/politicas-de-privacidad-y-condiciones-de-uso\">\n",
      "        <span>\n",
      "         Politicas de Privacidad y Condiciones de Uso\n",
      "        </span>\n",
      "       </a>\n",
      "      </p>\n",
      "      <p style=\"text-align: center;\">\n",
      "       <span style=\"color:#ffffff;\">\n",
      "        Calle 12 No. 7 - 65 Bogotá Colombia\n",
      "       </span>\n",
      "      </p>\n",
      "      <p style=\"text-align: center;\">\n",
      "       <span style=\"color:#ffffff;\">\n",
      "        Soporte: Teléfono 5658500 Ext 7559 o al correo electrónico soportepaginaweb1@cendoj.ramajudicial.gov.co\n",
      "       </span>\n",
      "      </p>\n",
      "     </section>\n",
      "    </div>\n",
      "   </footer>\n",
      "  </div>\n",
      "  <!-- Global site tag (gtag.js) - Google Analytics -->\n",
      "  <script async=\"\" src=\"https://www.googletagmanager.com/gtag/js?id=UA-154252976-1\">\n",
      "  </script>\n",
      "  <script>\n",
      "   window.dataLayer = window.dataLayer || [];\r\n",
      "        function gtag() { dataLayer.push(arguments); }\r\n",
      "        gtag('js', new Date());\r\n",
      "\r\n",
      "        gtag('config', 'UA-154252976-1');\n",
      "  </script>\n",
      "  <script crossorigin=\"anonymous\" integrity=\"sha384-Tc5IQib027qvyjSMfHjOMaLkfuWVxZxUPnCJA7l2mCWNIpG9mGCD8wGNIcPD7Txa\" src=\"https://maxcdn.bootstrapcdn.com/bootstrap/3.3.7/js/bootstrap.min.js\">\n",
      "  </script>\n",
      "  <script src=\"/js/main.js\" type=\"text/javascript\">\n",
      "  </script>\n",
      "  <script src=\"/js/jquery.dataTables.min.js\" type=\"text/javascript\">\n",
      "  </script>\n",
      "  <script src=\"/js/dataTables.bootstrap.min.js\" type=\"text/javascript\">\n",
      "  </script>\n",
      "  <script src=\"/js/consulta_procesos.js\">\n",
      "  </script>\n",
      "  <script>\n",
      "   function descargarProcesos_Modal() {\r\n",
      "\r\n",
      "            let paginaDesde = Number($(\"#paginaDesde\").val()) || 0\r\n",
      "            let paginaHasta = Number($(\"#paginaHasta\").val()) || 0\r\n",
      "            console.log(paginaDesde, paginaHasta)\r\n",
      "\r\n",
      "            // Validar entradas\r\n",
      "            if (!(paginaDesde >= 1 && paginaHasta >= paginaDesde)) {\r\n",
      "                $(\"#paramsImpresion_MsgText\").html(\"La página desde ha de ser mayor o igual a 1 <br>y la página hasta igual o mayor a la página desde\")\r\n",
      "                $(\"#paramsImpresion_Msg\").show()\r\n",
      "                return\r\n",
      "            }\r\n",
      "\r\n",
      "            // Cerrar emergente y cerrarlo\r\n",
      "            $(\"#paramsImpresion\").modal('hide');\r\n",
      "            //$(\"#paramsImpresion\").hide()\r\n",
      "\r\n",
      "            descargarProcesos($(\"#paramsImpresion_Tipo\").val(), paginaDesde, paginaHasta)\r\n",
      "        }\r\n",
      "\r\n",
      "        grecaptcha.ready(function () {\r\n",
      "            grecaptcha.execute('6LctLIEUAAAAAMl0mYJfTndodGUrrlds2c5za3KV', { action: 'ConsultaProceso' }).then(function (token) {\r\n",
      "                document.getElementById('g-captcha').value = token\r\n",
      "                // Colocar aria-label a texarea creada por el reCaptcha\r\n",
      "                $(\"#g-recaptcha-response-100000\").attr('aria-label', 'Google reCaptcha Response')\r\n",
      "            });\r\n",
      "        });\r\n",
      "\r\n",
      "        function handleKeyPress(evt) {\r\n",
      "            var nbr, chr;\r\n",
      "            if (window.Event) nbr = evt.which;\r\n",
      "            else nbr = event.keyCode;\r\n",
      "            if (nbr == 13) {\r\n",
      "                if ($(\"#myModal\").is(':visible'))\r\n",
      "                    $(\"#myModal\").modal('hide')\r\n",
      "                else if ($(\"#paramsImpresion\").is(':visible'))\r\n",
      "                    descargarProcesos_Modal()\r\n",
      "                else\r\n",
      "                    document.getElementById(\"Consulta\").submit();\r\n",
      "            }\r\n",
      "            else if (nbr == 27) {\r\n",
      "                if ($(\"#myModal\").is(':visible'))\r\n",
      "                    $(\"#myModal\").modal('hide')\r\n",
      "                else if ($(\"#paramsImpresion\").is(':visible'))\r\n",
      "                    $(\"#paramsImpresion\").modal('hide')\r\n",
      "            }\r\n",
      "            return true;\r\n",
      "        }\r\n",
      "        document.onkeydown = handleKeyPress\r\n",
      "\r\n",
      "\r\n",
      "        $(document).ready(function () {\r\n",
      "            ////$('#myModalClose').focusin(function cerrarDialogo() {\r\n",
      "            ////    $(\"#myModal\").modal('hide');\r\n",
      "            ////})\r\n",
      "\r\n",
      "            $('#myModal').on('shown.bs.modal', function () {\r\n",
      "                console.log('On shown.bs.modal')\r\n",
      "                setTimeout(function () {\r\n",
      "                    $('#myModalClose').focus();\r\n",
      "                    console.log('On shown.bs.modal - focus()')\r\n",
      "                }, 1000);\r\n",
      "            })\r\n",
      "\r\n",
      "            var $div = $('.cp-required').closest('div.form-group').attr(\"aria-label\", \"Este campo es obligatorio\");\r\n",
      "\r\n",
      "\r\n",
      "            $('#paramsImpresion_Msg').click(function (event) {\r\n",
      "                event.preventDefault();\r\n",
      "                $('#paramsImpresion_Msg').hide()\r\n",
      "            })\r\n",
      "\r\n",
      "\r\n",
      "        })\n",
      "  </script>\n",
      " </body>\n",
      "</html>\n",
      "<script id=\"f5_cspm\">\n",
      " (function(){var f5_cspm={f5_p:'FBCCPMALALHLMCMHNIBDABEBLICFKAOPCHJMPPGCPCOKBFLIKHGIJALNPHNICHAPENIGJIBJAIEBHEAMBACCDGELBFDAMAIHAAIOJOBHCHHGLCANAAAHCJFCAEINNDIL',setCharAt:function(str,index,chr){if(index>str.length-1)return str;return str.substr(0,index)+chr+str.substr(index+1);},get_byte:function(str,i){var s=(i/16)|0;i=(i&15);s=s*32;return((str.charCodeAt(i+16+s)-65)<<4)|(str.charCodeAt(i+s)-65);},set_byte:function(str,i,b){var s=(i/16)|0;i=(i&15);s=s*32;str=f5_cspm.setCharAt(str,(i+16+s),String.fromCharCode((b>>4)+65));str=f5_cspm.setCharAt(str,(i+s),String.fromCharCode((b&15)+65));return str;},set_latency:function(str,latency){latency=latency&0xffff;str=f5_cspm.set_byte(str,48,(latency>>8));str=f5_cspm.set_byte(str,49,(latency&0xff));str=f5_cspm.set_byte(str,43,2);return str;},wait_perf_data:function(){try{var wp=window.performance.timing;if(wp.loadEventEnd>0){var res=wp.loadEventEnd-wp.navigationStart;if(res<60001){var cookie_val=f5_cspm.set_latency(f5_cspm.f5_p,res);window.document.cookie='f5avr0144002454aaaaaaaaaaaaaaaa='+encodeURIComponent(cookie_val)+';path=/';}\n",
      "return;}}\n",
      "catch(err){return;}\n",
      "setTimeout(f5_cspm.wait_perf_data,100);return;},go:function(){var chunk=window.document.cookie.split(/\\s*;\\s*/);for(var i=0;i<chunk.length;++i){var pair=chunk[i].split(/\\s*=\\s*/);if(pair[0]=='f5_cspm'&&pair[1]=='1234')\n",
      "{var d=new Date();d.setTime(d.getTime()-1000);window.document.cookie='f5_cspm=;expires='+d.toUTCString()+';path=/;';setTimeout(f5_cspm.wait_perf_data,100);}}}}\n",
      "f5_cspm.go();}());\n",
      "</script>\n"
     ]
    }
   ],
   "source": [
    "print(s.prettify())"
   ]
  },
  {
   "cell_type": "code",
   "execution_count": 44,
   "metadata": {},
   "outputs": [
    {
     "data": {
      "text/plain": [
       "[<input id=\"g-captcha\" name=\"g-captcha\" type=\"hidden\"/>,\n",
       " <input data-val=\"true\" data-val-required=\"The IdProceso field is required.\" id=\"IdProceso\" name=\"IdProceso\" type=\"hidden\" value=\"0\"/>,\n",
       " <input id=\"TipoConsulta\" name=\"TipoConsulta\" type=\"hidden\" value=\"NumeroRadicacion\"/>,\n",
       " <input data-val=\"true\" data-val-required=\"The Pagina field is required.\" id=\"ListaProcesos_Paginacion_Pagina\" name=\"ListaProcesos.Paginacion.Pagina\" type=\"hidden\" value=\"1\"/>,\n",
       " <input data-val=\"true\" data-val-required=\"The CantidadPaginas field is required.\" id=\"ListaProcesos_Paginacion_CantidadPaginas\" name=\"ListaProcesos.Paginacion.CantidadPaginas\" type=\"hidden\" value=\"0\"/>,\n",
       " <input id=\"ListaProcesos_Paginacion_Paginas\" name=\"ListaProcesos.Paginacion.Paginas\" type=\"hidden\" value=\"\"/>,\n",
       " <input autofocus=\"\" class=\"cp-required\" data-val=\"true\" data-val-length=\"El número de radicación ha de ser de 23 dígitos:\" data-val-length-max=\"23\" data-val-length-min=\"23\" data-val-regex=\"El número de radicación ha de estar conformado unicamente por dígitos (0 al 9).\" data-val-regex-pattern=\"\\d+\" data-val-required=\"Se ha de ingresar el número de radicación.\" id=\"NumeroRadicacion\" maxlength=\"23\" name=\"NumeroRadicacion\" onkeypress=\"return onlyNumbers(event)\" placeholder=\"Ingrese los 23 dígitos del número de radicación\" type=\"text\" value=\"\"/>,\n",
       " <input name=\"__RequestVerificationToken\" type=\"hidden\" value=\"CfDJ8EOten-GceJPop59mxguO4bKN_261iLLFQDXEeuDR4ac1Z9_7kmaud6ReDAIMxw2bDz1RoG9ZAO71fMykOavjvpT9dd_7aoMRu_NBMDXP71-__VgsAUgeOmnPpZjXfKbdovW90zhHMEf_cYeidpfqzY\"/>]"
      ]
     },
     "execution_count": 44,
     "metadata": {},
     "output_type": "execute_result"
    }
   ],
   "source": [
    "secciones = s.find('div', attrs={'class':'container-fluid'}).find_all('input')\n",
    "secciones"
   ]
  },
  {
   "cell_type": "code",
   "execution_count": 50,
   "metadata": {},
   "outputs": [],
   "source": [
    "seccion = secciones[7]"
   ]
  },
  {
   "cell_type": "code",
   "execution_count": 51,
   "metadata": {},
   "outputs": [
    {
     "data": {
      "text/plain": [
       "<input name=\"__RequestVerificationToken\" type=\"hidden\" value=\"CfDJ8EOten-GceJPop59mxguO4bKN_261iLLFQDXEeuDR4ac1Z9_7kmaud6ReDAIMxw2bDz1RoG9ZAO71fMykOavjvpT9dd_7aoMRu_NBMDXP71-__VgsAUgeOmnPpZjXfKbdovW90zhHMEf_cYeidpfqzY\"/>"
      ]
     },
     "execution_count": 51,
     "metadata": {},
     "output_type": "execute_result"
    }
   ],
   "source": [
    "seccion"
   ]
  },
  {
   "cell_type": "code",
   "execution_count": 61,
   "metadata": {},
   "outputs": [],
   "source": [
    "\"\"\"valor del numero de token\"\"\"\n",
    "val_tok = seccion.get('value')"
   ]
  },
  {
   "cell_type": "code",
   "execution_count": 62,
   "metadata": {},
   "outputs": [
    {
     "data": {
      "text/plain": [
       "'CfDJ8EOten-GceJPop59mxguO4bKN_261iLLFQDXEeuDR4ac1Z9_7kmaud6ReDAIMxw2bDz1RoG9ZAO71fMykOavjvpT9dd_7aoMRu_NBMDXP71-__VgsAUgeOmnPpZjXfKbdovW90zhHMEf_cYeidpfqzY'"
      ]
     },
     "execution_count": 62,
     "metadata": {},
     "output_type": "execute_result"
    }
   ],
   "source": [
    "val_tok"
   ]
  },
  {
   "cell_type": "code",
   "execution_count": 67,
   "metadata": {},
   "outputs": [],
   "source": [
    "secc_num_proc = secciones[6]"
   ]
  },
  {
   "cell_type": "code",
   "execution_count": 68,
   "metadata": {
    "scrolled": true
   },
   "outputs": [
    {
     "data": {
      "text/plain": [
       "<input autofocus=\"\" class=\"cp-required\" data-val=\"true\" data-val-length=\"El número de radicación ha de ser de 23 dígitos:\" data-val-length-max=\"23\" data-val-length-min=\"23\" data-val-regex=\"El número de radicación ha de estar conformado unicamente por dígitos (0 al 9).\" data-val-regex-pattern=\"\\d+\" data-val-required=\"Se ha de ingresar el número de radicación.\" id=\"NumeroRadicacion\" maxlength=\"23\" name=\"NumeroRadicacion\" onkeypress=\"return onlyNumbers(event)\" placeholder=\"Ingrese los 23 dígitos del número de radicación\" type=\"text\" value=\"\"/>"
      ]
     },
     "execution_count": 68,
     "metadata": {},
     "output_type": "execute_result"
    }
   ],
   "source": [
    "secc_num_proc"
   ]
  },
  {
   "cell_type": "code",
   "execution_count": 69,
   "metadata": {},
   "outputs": [],
   "source": [
    "\"\"\"valor del numero de proceso\"\"\"\n",
    "val_num_proc = secc_num_proc.get('value')"
   ]
  },
  {
   "cell_type": "code",
   "execution_count": 70,
   "metadata": {},
   "outputs": [
    {
     "data": {
      "text/plain": [
       "''"
      ]
     },
     "execution_count": 70,
     "metadata": {},
     "output_type": "execute_result"
    }
   ],
   "source": [
    "val_num_proc"
   ]
  },
  {
   "cell_type": "code",
   "execution_count": 79,
   "metadata": {},
   "outputs": [
    {
     "data": {
      "text/plain": [
       "[<button class=\"btn greend\" type=\"submit\">CONSULTAR</button>,\n",
       " <button class=\"btn greyb\" onclick=\"location.href='/Procesos/NumeroRadicacion'\" type=\"button\">NUEVA CONSULTA</button>]"
      ]
     },
     "execution_count": 79,
     "metadata": {},
     "output_type": "execute_result"
    }
   ],
   "source": [
    "botones = s.find('div', attrs={'class':'form-group buttongroup'}).find_all('button')\n",
    "botones"
   ]
  },
  {
   "cell_type": "code",
   "execution_count": 84,
   "metadata": {},
   "outputs": [
    {
     "data": {
      "text/plain": [
       "<button class=\"btn greyb\" onclick=\"location.href='/Procesos/NumeroRadicacion'\" type=\"button\">NUEVA CONSULTA</button>"
      ]
     },
     "execution_count": 84,
     "metadata": {},
     "output_type": "execute_result"
    }
   ],
   "source": [
    "\"\"\"Boton para consulta\"\"\"\n",
    "boton_sub = botones[1]\n",
    "boton_sub"
   ]
  },
  {
   "cell_type": "code",
   "execution_count": 100,
   "metadata": {},
   "outputs": [
    {
     "data": {
      "text/plain": [
       "'NUEVA CONSULTA'"
      ]
     },
     "execution_count": 100,
     "metadata": {},
     "output_type": "execute_result"
    }
   ],
   "source": [
    "boton_sub.get_text() #Texto del boton\n",
    "#siguiente = requests.get(boton_sub.get[1])\n",
    "#siguiente"
   ]
  },
  {
   "cell_type": "code",
   "execution_count": 111,
   "metadata": {},
   "outputs": [
    {
     "data": {
      "text/plain": [
       "\"location.href='/Procesos/NumeroRadicacion'\""
      ]
     },
     "execution_count": 111,
     "metadata": {},
     "output_type": "execute_result"
    }
   ],
   "source": [
    "\"\"\"Captura direccion de consulta\"\"\"\n",
    "siguiente = boton_sub.attrs.get('onclick')\n",
    "siguiente"
   ]
  },
  {
   "cell_type": "code",
   "execution_count": 112,
   "metadata": {},
   "outputs": [
    {
     "data": {
      "text/plain": [
       "'Request for 1_data_process'"
      ]
     },
     "execution_count": 112,
     "metadata": {},
     "output_type": "execute_result"
    }
   ],
   "source": [
    "\"\"\"Request for 1_data_process\"\"\"\n",
    "#sig = requests.post(siguiente, data = {})"
   ]
  },
  {
   "cell_type": "code",
   "execution_count": null,
   "metadata": {},
   "outputs": [],
   "source": []
  }
 ],
 "metadata": {
  "kernelspec": {
   "display_name": "Python 3",
   "language": "python",
   "name": "python3"
  },
  "language_info": {
   "codemirror_mode": {
    "name": "ipython",
    "version": 3
   },
   "file_extension": ".py",
   "mimetype": "text/x-python",
   "name": "python",
   "nbconvert_exporter": "python",
   "pygments_lexer": "ipython3",
   "version": "3.7.3"
  }
 },
 "nbformat": 4,
 "nbformat_minor": 4
}
