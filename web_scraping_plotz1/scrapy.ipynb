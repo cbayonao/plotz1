{
 "cells": [
  {
   "cell_type": "code",
   "execution_count": 1,
   "metadata": {},
   "outputs": [],
   "source": [
    "import scrapy"
   ]
  },
  {
   "cell_type": "code",
   "execution_count": null,
   "metadata": {},
   "outputs": [],
   "source": [
    "class Spider12(scrapy.Spider):\n",
    "    name = 'spider12'\n",
    "    allowed_domains = ['pagina12.com.ar']\n",
    "    custom_settings = {'FEED_FORMAT':'json',\n",
    "                       'FEED_URI':'resultados.json'}\n",
    "    start_urls = ['https://www.pagina12.com.ar/secciones/el-pais',\n",
    "                  'https://www.pagina12.com.ar/secciones/economia',\n",
    "                  'https://www.pagina12.com.ar/secciones/sociedad',\n",
    "                  'https://www.pagina12.com.ar/suplementos/cultura-y-espectaculos',\n",
    "                  'https://www.pagina12.com.ar/secciones/dialogos',\n",
    "                  'https://www.pagina12.com.ar/secciones/el-mundo',\n",
    "                  'https://www.pagina12.com.ar/secciones/deportes',\n",
    "                  'https://www.pagina12.com.ar/secciones/contratapa']\n",
    "    def parse(self, response):\n",
    "        # Articulo promocionado\n",
    "        nota_promocionada = response.xpath('//div[@class=\"featured-article__container\"]/h2/a/@href').get()\n",
    "        if nota_promocionada is not None:\n",
    "            yield response.follow(nota_promocionada, callback=self.parse_nota)\n",
    "\n",
    "        #Listado de notas\n",
    "        notas = response.xpath('//ul[@class=\"article-list\"]//li//a/@href').getall()\n",
    "\n",
    "    def parse_nota(self, response):\n",
    "        "
   ]
  }
 ],
 "metadata": {
  "kernelspec": {
   "display_name": "Python 3",
   "language": "python",
   "name": "python3"
  },
  "language_info": {
   "codemirror_mode": {
    "name": "ipython",
    "version": 3
   },
   "file_extension": ".py",
   "mimetype": "text/x-python",
   "name": "python",
   "nbconvert_exporter": "python",
   "pygments_lexer": "ipython3",
   "version": "3.7.4"
  }
 },
 "nbformat": 4,
 "nbformat_minor": 2
}
